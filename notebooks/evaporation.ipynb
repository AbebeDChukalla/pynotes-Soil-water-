{
 "cells": [
  {
   "cell_type": "markdown",
   "metadata": {},
   "source": [
    "# Soil Evaporation\n",
    "\n",
    "Soil evaporation is the process by which water leaves the pore spaces in the soil to become part of the surrounding atmopshere. The process of evaporating soil moisture requires energy, either directly supplied by the sun or from the internal energy of the soil.\n",
    "\n",
    "Assuming that we start from a fairly moist soil, the evaporative process undergoes two distinct stages. The first stage is characterized by a constant evaporation rate that is only limited by the energy available for evaporation (energy-limited). During this stage water in the pore spaces right beneath the surface can still reach the surface by means of capillarity. A second stage characterized by a decreasing evaporative rate is evident when the soil cannot keep up with the evaporative rate of the first stage. The second stage is limited by the soil's ability to conduct water to the evaporative surface (supply-limited). During long evaporative processes, a third stage of almost no evaporation rate (evaporation asymptotically approaches zero) can be identified."
   ]
  },
  {
   "cell_type": "code",
   "execution_count": 2,
   "metadata": {},
   "outputs": [],
   "source": [
    "# Import modules\n",
    "import pandas as pd\n",
    "import matplotlib.pyplot as plt\n"
   ]
  },
  {
   "cell_type": "code",
   "execution_count": 3,
   "metadata": {},
   "outputs": [
    {
     "data": {
      "text/html": [
       "<div>\n",
       "<style scoped>\n",
       "    .dataframe tbody tr th:only-of-type {\n",
       "        vertical-align: middle;\n",
       "    }\n",
       "\n",
       "    .dataframe tbody tr th {\n",
       "        vertical-align: top;\n",
       "    }\n",
       "\n",
       "    .dataframe thead th {\n",
       "        text-align: right;\n",
       "    }\n",
       "</style>\n",
       "<table border=\"1\" class=\"dataframe\">\n",
       "  <thead>\n",
       "    <tr style=\"text-align: right;\">\n",
       "      <th></th>\n",
       "      <th>timestamp</th>\n",
       "      <th>sample_mass</th>\n",
       "    </tr>\n",
       "  </thead>\n",
       "  <tbody>\n",
       "    <tr>\n",
       "      <th>0</th>\n",
       "      <td>10/18/17 17:21</td>\n",
       "      <td>297.1</td>\n",
       "    </tr>\n",
       "    <tr>\n",
       "      <th>1</th>\n",
       "      <td>10/18/17 17:26</td>\n",
       "      <td>297.0</td>\n",
       "    </tr>\n",
       "    <tr>\n",
       "      <th>2</th>\n",
       "      <td>10/18/17 17:31</td>\n",
       "      <td>297.0</td>\n",
       "    </tr>\n",
       "    <tr>\n",
       "      <th>3</th>\n",
       "      <td>10/18/17 17:36</td>\n",
       "      <td>297.0</td>\n",
       "    </tr>\n",
       "    <tr>\n",
       "      <th>4</th>\n",
       "      <td>10/18/17 17:41</td>\n",
       "      <td>296.9</td>\n",
       "    </tr>\n",
       "  </tbody>\n",
       "</table>\n",
       "</div>"
      ],
      "text/plain": [
       "        timestamp  sample_mass\n",
       "0  10/18/17 17:21        297.1\n",
       "1  10/18/17 17:26        297.0\n",
       "2  10/18/17 17:31        297.0\n",
       "3  10/18/17 17:36        297.0\n",
       "4  10/18/17 17:41        296.9"
      ]
     },
     "execution_count": 3,
     "metadata": {},
     "output_type": "execute_result"
    }
   ],
   "source": [
    "# Load dataset\n",
    "df = pd.read_csv('../datasets/evaporation.csv')\n",
    "df.head()\n"
   ]
  },
  {
   "cell_type": "code",
   "execution_count": 4,
   "metadata": {},
   "outputs": [],
   "source": [
    "# Convert dates to Pandas datetime format\n",
    "df[\"timestamp\"] = pd.to_datetime(df[\"timestamp\"], format=\"%m/%d/%y %H:%M\")\n"
   ]
  },
  {
   "cell_type": "code",
   "execution_count": 10,
   "metadata": {},
   "outputs": [
    {
     "data": {
      "text/html": [
       "<div>\n",
       "<style scoped>\n",
       "    .dataframe tbody tr th:only-of-type {\n",
       "        vertical-align: middle;\n",
       "    }\n",
       "\n",
       "    .dataframe tbody tr th {\n",
       "        vertical-align: top;\n",
       "    }\n",
       "\n",
       "    .dataframe thead th {\n",
       "        text-align: right;\n",
       "    }\n",
       "</style>\n",
       "<table border=\"1\" class=\"dataframe\">\n",
       "  <thead>\n",
       "    <tr style=\"text-align: right;\">\n",
       "      <th></th>\n",
       "      <th>timestamp</th>\n",
       "      <th>sample_mass</th>\n",
       "      <th>elapsed_time</th>\n",
       "    </tr>\n",
       "  </thead>\n",
       "  <tbody>\n",
       "    <tr>\n",
       "      <th>0</th>\n",
       "      <td>2017-10-18 17:21:00</td>\n",
       "      <td>297.1</td>\n",
       "      <td>0 days 00:00:00</td>\n",
       "    </tr>\n",
       "    <tr>\n",
       "      <th>1</th>\n",
       "      <td>2017-10-18 17:26:00</td>\n",
       "      <td>297.0</td>\n",
       "      <td>0 days 00:05:00</td>\n",
       "    </tr>\n",
       "    <tr>\n",
       "      <th>2</th>\n",
       "      <td>2017-10-18 17:31:00</td>\n",
       "      <td>297.0</td>\n",
       "      <td>0 days 00:10:00</td>\n",
       "    </tr>\n",
       "    <tr>\n",
       "      <th>3</th>\n",
       "      <td>2017-10-18 17:36:00</td>\n",
       "      <td>297.0</td>\n",
       "      <td>0 days 00:15:00</td>\n",
       "    </tr>\n",
       "    <tr>\n",
       "      <th>4</th>\n",
       "      <td>2017-10-18 17:41:00</td>\n",
       "      <td>296.9</td>\n",
       "      <td>0 days 00:20:00</td>\n",
       "    </tr>\n",
       "    <tr>\n",
       "      <th>...</th>\n",
       "      <td>...</td>\n",
       "      <td>...</td>\n",
       "      <td>...</td>\n",
       "    </tr>\n",
       "    <tr>\n",
       "      <th>1647</th>\n",
       "      <td>2017-10-24 11:49:00</td>\n",
       "      <td>271.7</td>\n",
       "      <td>5 days 18:28:00</td>\n",
       "    </tr>\n",
       "    <tr>\n",
       "      <th>1648</th>\n",
       "      <td>2017-10-24 11:54:00</td>\n",
       "      <td>271.7</td>\n",
       "      <td>5 days 18:33:00</td>\n",
       "    </tr>\n",
       "    <tr>\n",
       "      <th>1649</th>\n",
       "      <td>2017-10-24 11:59:00</td>\n",
       "      <td>271.7</td>\n",
       "      <td>5 days 18:38:00</td>\n",
       "    </tr>\n",
       "    <tr>\n",
       "      <th>1650</th>\n",
       "      <td>2017-10-24 12:04:00</td>\n",
       "      <td>271.7</td>\n",
       "      <td>5 days 18:43:00</td>\n",
       "    </tr>\n",
       "    <tr>\n",
       "      <th>1651</th>\n",
       "      <td>2017-10-24 12:09:00</td>\n",
       "      <td>271.7</td>\n",
       "      <td>5 days 18:48:00</td>\n",
       "    </tr>\n",
       "  </tbody>\n",
       "</table>\n",
       "<p>1652 rows × 3 columns</p>\n",
       "</div>"
      ],
      "text/plain": [
       "               timestamp  sample_mass    elapsed_time\n",
       "0    2017-10-18 17:21:00        297.1 0 days 00:00:00\n",
       "1    2017-10-18 17:26:00        297.0 0 days 00:05:00\n",
       "2    2017-10-18 17:31:00        297.0 0 days 00:10:00\n",
       "3    2017-10-18 17:36:00        297.0 0 days 00:15:00\n",
       "4    2017-10-18 17:41:00        296.9 0 days 00:20:00\n",
       "...                  ...          ...             ...\n",
       "1647 2017-10-24 11:49:00        271.7 5 days 18:28:00\n",
       "1648 2017-10-24 11:54:00        271.7 5 days 18:33:00\n",
       "1649 2017-10-24 11:59:00        271.7 5 days 18:38:00\n",
       "1650 2017-10-24 12:04:00        271.7 5 days 18:43:00\n",
       "1651 2017-10-24 12:09:00        271.7 5 days 18:48:00\n",
       "\n",
       "[1652 rows x 3 columns]"
      ]
     },
     "execution_count": 10,
     "metadata": {},
     "output_type": "execute_result"
    }
   ],
   "source": [
    "# Compute elapsed time since beginning of the experiment\n",
    "df[\"elapsed_time\"] = df[\"timestamp\"] - df[\"timestamp\"][0]\n",
    "df.head()\n"
   ]
  },
  {
   "cell_type": "code",
   "execution_count": 9,
   "metadata": {},
   "outputs": [
    {
     "data": {
      "image/png": "[encoded data removed]",
      "text/plain": [
       "<Figure size 432x288 with 1 Axes>"
      ]
     },
     "metadata": {
      "needs_background": "light"
     },
     "output_type": "display_data"
    }
   ],
   "source": [
    "plt.figure()\n",
    "plt.plot(df[\"elapsed_time\"], df[\"sample_mass\"])\n",
    "plt.show()\n"
   ]
  },
  {
   "cell_type": "code",
   "execution_count": 33,
   "metadata": {},
   "outputs": [],
   "source": [
    "A = pd.to_timedelta(df[\"timestamp\"] - df[\"timestamp\"][0])"
   ]
  },
  {
   "cell_type": "code",
   "execution_count": null,
   "metadata": {},
   "outputs": [],
   "source": []
  }
 ],
 "metadata": {
  "kernelspec": {
   "display_name": "Python 3",
   "language": "python",
   "name": "python3"
  },
  "language_info": {
   "codemirror_mode": {
    "name": "ipython",
    "version": 3
   },
   "file_extension": ".py",
   "mimetype": "text/x-python",
   "name": "python",
   "nbconvert_exporter": "python",
   "pygments_lexer": "ipython3",
   "version": "3.7.6"
  }
 },
 "nbformat": 4,
 "nbformat_minor": 4
}
