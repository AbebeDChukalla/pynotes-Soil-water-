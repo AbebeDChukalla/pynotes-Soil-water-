{
 "cells": [
  {
   "cell_type": "markdown",
   "metadata": {},
   "source": [
    "# Conway's Game of Life\n",
    "\n",
    "A [cellular automaton created by John Conway in 1970](https://www.wikiwand.com/en/Conway%27s_Game_of_Life). In each iteration, the game evolves according to a set of rules that determine whether grid cells are live or dead. The game requires the set up of the initial conditions by the player, and the different patterns in initial conditions trigger a myriad of possible scenarios.\n",
    "\n",
    "## Rules\n",
    "\n",
    "- Any live cell with fewer than two live neighbours dies, as if by underpopulation.\n",
    "- Any live cell with two or three live neighbours lives on to the next generation.\n",
    "- Any live cell with more than three live neighbours dies, as if by overpopulation.\n",
    "- Any dead cell with exactly three live neighbours becomes a live cell, as if by reproduction."
   ]
  },
  {
   "cell_type": "code",
   "execution_count": 1,
   "metadata": {},
   "outputs": [],
   "source": [
    "import numpy as np\n",
    "import matplotlib.pyplot as plt\n",
    "from IPython.display import clear_output"
   ]
  },
  {
   "cell_type": "markdown",
   "metadata": {},
   "source": [
    "## Generate the two-dimensional grid\n",
    "\n",
    "The grid is the universe of the game."
   ]
  },
  {
   "cell_type": "code",
   "execution_count": 2,
   "metadata": {},
   "outputs": [],
   "source": [
    "grid_rows = 100\n",
    "grid_cols = 100\n",
    "grid = np.zeros([grid_rows,grid_cols])\n"
   ]
  },
  {
   "cell_type": "markdown",
   "metadata": {},
   "source": [
    "## Generate initial conditions\n",
    "\n",
    "This is one of the most important steps in the game of life. The evolution of the game in each iteration stems from the initial condition. As a player, you can change the initial conditions to explore different scenarios and patterns. For simplicity we will generate random live cells, but you can create any pattern you want."
   ]
  },
  {
   "cell_type": "code",
   "execution_count": 3,
   "metadata": {},
   "outputs": [],
   "source": [
    "# Set random seed for reproducibility\n",
    "np.random.seed(3) # 2\n",
    "\n",
    "# Number of live cells\n",
    "N_seeds = 3000\n",
    "\n",
    "# Randomly select rows and columns for the random seeds\n",
    "row_seeds = np.random.randint(0, grid.shape[0], N_seeds)\n",
    "col_seeds = np.random.randint(0, grid.shape[1], N_seeds)\n",
    "\n",
    "# Convert randomly selected cells from 0 to 1 (bring them to life)\n",
    "grid[row_seeds,col_seeds] = 1"
   ]
  },
  {
   "cell_type": "markdown",
   "metadata": {},
   "source": [
    "## Display initial conditions\n",
    "\n",
    "Before we keep going we should check our work."
   ]
  },
  {
   "cell_type": "code",
   "execution_count": 4,
   "metadata": {},
   "outputs": [
    {
     "data": {
      "image/png": "[encoded data removed]",
      "text/plain": [
       "<Figure size 432x288 with 1 Axes>"
      ]
     },
     "metadata": {
      "needs_background": "light"
     },
     "output_type": "display_data"
    }
   ],
   "source": [
    "plt.pcolormesh(grid)\n",
    "plt.show()"
   ]
  },
  {
   "cell_type": "markdown",
   "metadata": {},
   "source": [
    "## Iterations and offsets\n",
    "\n",
    "Set row and column combinations for each neighboring cell, excluding the center cell in a 8-connected neighbor array."
   ]
  },
  {
   "cell_type": "code",
   "execution_count": 5,
   "metadata": {},
   "outputs": [],
   "source": [
    "offset_rows = np.array([-1, -1, -1, 0, 0, 1, 1, 1])\n",
    "offset_cols = np.array([-1, 0, 1, -1, 1, -1, 0, 1])"
   ]
  },
  {
   "cell_type": "markdown",
   "metadata": {},
   "source": [
    "## Iterate over each cell and apply rules\n",
    "\n",
    "In this step will iterate over each cell, compute the number of neighbors (without include the center cell), and then we will apply the rules to determine whether the cell will be live or dead in the next generation. As you can imagine, when visitng cells in the top-most row, bottom-most row, left-most column, or right-most column we will be missing some of the neighboring cells. So at this point, the goal is to make the game work ignoring the boundaries to simplify the problem. We will take care of the boundaries in following steps."
   ]
  },
  {
   "cell_type": "code",
   "execution_count": 7,
   "metadata": {},
   "outputs": [
    {
     "data": {
      "image/png": "[encoded data removed]",
      "text/plain": [
       "<Figure size 432x288 with 1 Axes>"
      ]
     },
     "metadata": {
      "needs_background": "light"
     },
     "output_type": "display_data"
    }
   ],
   "source": [
    "N = 100\n",
    "for i in range(N):\n",
    "    clear_output(wait=True)\n",
    "    plt.pcolormesh(grid)\n",
    "    plt.show()\n",
    "\n",
    "    # Create new empty grid to store results for next generation\n",
    "    new_grid = np.zeros([grid_rows,grid_cols])\n",
    "    \n",
    "    for row in range(1, grid.shape[0]-1):\n",
    "        for col in range(1, grid.shape[1]-1):\n",
    "            \n",
    "            # Compute sum of neighbors\n",
    "            cell_sum = grid[row + offset_rows, col + offset_cols].sum()\n",
    "            \n",
    "            # Decide whether current cell grid will live or die\n",
    "            if grid[row,col] == 1:\n",
    "                \n",
    "                # Cell with fewer than two live neighbours dies (underpopulation)\n",
    "                if  cell_sum < 2:\n",
    "                    new_grid[row,col] = 0\n",
    "\n",
    "                # Cell with two or three live neighbours lives on to the next generation\n",
    "                elif cell_sum == 2 or cell_sum == 3:\n",
    "                    new_grid[row,col] = 1\n",
    "\n",
    "                # Cell with more than three live neighbours dies (overpopulation)\n",
    "                elif cell_sum > 3:\n",
    "                    new_grid[row,col] = 0\n",
    "            else:\n",
    "                \n",
    "                # Cell with exactly three live neighbours becomes a live cell (reproduction)\n",
    "                if cell_sum == 3:\n",
    "                    new_grid[row,col] = 1\n",
    "    \n",
    "    # Replace current generation with next generation\n",
    "    grid = new_grid"
   ]
  },
  {
   "cell_type": "markdown",
   "metadata": {},
   "source": [
    "## Full code with torus boundaries\n",
    "\n",
    "We will handle the boundaries using a [torus](https://www.wikiwand.com/en/Torus) approach. A torus simply means that if rows or columns have values that beyond the dimensions of the grid, then we will set the boundary on the opposite side of the grid as the continuation, so that we have 8 neighboring cells for each cell on the grid.\n",
    "\n",
    "<img src=\"https://upload.wikimedia.org/wikipedia/commons/6/60/Torus_from_rectangle.gif\">\n",
    "\n",
    "Below is a full example including the computation of the torus and the real-time visualization of the total number of live cells. Will the population perish or will it reach equilibrium and perpetuate indefinitely?"
   ]
  },
  {
   "cell_type": "code",
   "execution_count": 3,
   "metadata": {},
   "outputs": [
    {
     "data": {
      "image/png": "[encoded data removed]",
      "text/plain": [
       "<Figure size 864x288 with 2 Axes>"
      ]
     },
     "metadata": {
      "needs_background": "light"
     },
     "output_type": "display_data"
    }
   ],
   "source": [
    "# Final version with Torus and subplots\n",
    "grid_rows = 100\n",
    "grid_cols = 100\n",
    "grid = np.zeros([grid_rows,grid_cols])\n",
    "\n",
    "np.random.seed(3) # 2\n",
    "N_seeds = 3000\n",
    "row_seeds = np.random.randint(0, grid.shape[0], N_seeds)\n",
    "col_seeds = np.random.randint(0, grid.shape[1], N_seeds)\n",
    "\n",
    "\n",
    "grid[row_seeds,col_seeds] = 1\n",
    "\n",
    "N = 100\n",
    "offset_rows = np.array([-1, -1, -1, 0, 0, 1, 1, 1])\n",
    "offset_cols = np.array([-1, 0, 1, -1, 1, -1, 0, 1])\n",
    "\n",
    "total_live = np.array([grid.sum()])\n",
    "\n",
    "for i in range(N):\n",
    "    clear_output(wait=True)\n",
    "    \n",
    "    fig = plt.figure(figsize=(12,4))\n",
    "    fig.tight_layout()\n",
    "\n",
    "    left_img = fig.add_subplot(1, 2, 1)\n",
    "    left_img.axis('off')\n",
    "    plt.pcolormesh(grid, cmap='gray')\n",
    "\n",
    "    right_img = fig.add_subplot(1, 2, 2)\n",
    "    right_img.set_ylabel('Live count')\n",
    "    right_img.set_xlabel('Generations')\n",
    "    right_img.set_xlim([0, N])\n",
    "    right_img.set_ylim([0, total_live.max()])\n",
    "    plt.plot(np.arange(i+1),total_live) # Re-plot the entire line\n",
    "\n",
    "    plt.show()\n",
    "    \n",
    "    # Create new empty grid to store results for next generation\n",
    "    new_grid = np.zeros([grid_rows,grid_cols])\n",
    "    \n",
    "    for row in range(0, grid.shape[0]):\n",
    "        for col in range(0, grid.shape[1]):\n",
    "            \n",
    "            # Torus for rows\n",
    "            rows = row + offset_rows\n",
    "            rows[rows >= grid_rows] = 0 # if higher than last row, then use first row\n",
    "            rows[rows < 0] = grid_rows -1 # if lower than first row, then use last row\n",
    "            \n",
    "            # Torus for columns\n",
    "            cols = col + offset_cols\n",
    "            cols[cols >= grid_cols] = 0 # if higher than last column, then use first column\n",
    "            cols[cols < 0] = grid_cols - 1 # if lower than first column, then use last column\n",
    "            \n",
    "            # Compute sum of neighbors\n",
    "            cell_sum = grid[rows, cols].sum()\n",
    "            \n",
    "            # Decide whether current cell grid will live or die\n",
    "            if grid[row,col] == 1:\n",
    "                \n",
    "                # Cell with fewer than two live neighbours dies (underpopulation)\n",
    "                if  cell_sum < 2:\n",
    "                    new_grid[row,col] = 0\n",
    "\n",
    "                # Cell with two or three live neighbours lives on to the next generation\n",
    "                elif cell_sum == 2 or cell_sum == 3:\n",
    "                    new_grid[row,col] = 1\n",
    "\n",
    "                # Cell with more than three live neighbours dies (overpopulation)\n",
    "                elif cell_sum > 3:\n",
    "                    new_grid[row,col] = 0\n",
    "            else:\n",
    "                \n",
    "                # Cell with exactly three live neighbours becomes a live cell (reproduction)\n",
    "                if cell_sum == 3:\n",
    "                    new_grid[row,col] = 1\n",
    "    \n",
    "    # Count and append number of live cells\n",
    "    total_live = np.append(total_live, new_grid.sum())\n",
    "    \n",
    "    # Replace current generation with next generation\n",
    "    grid = new_grid\n"
   ]
  }
 ],
 "metadata": {
  "kernelspec": {
   "display_name": "Python 3",
   "language": "python",
   "name": "python3"
  },
  "language_info": {
   "codemirror_mode": {
    "name": "ipython",
    "version": 3
   },
   "file_extension": ".py",
   "mimetype": "text/x-python",
   "name": "python",
   "nbconvert_exporter": "python",
   "pygments_lexer": "ipython3",
   "version": "3.7.6"
  }
 },
 "nbformat": 4,
 "nbformat_minor": 4
}
