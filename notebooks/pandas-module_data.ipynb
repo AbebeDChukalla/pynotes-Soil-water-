{
 "cells": [
  {
   "cell_type": "markdown",
   "metadata": {},
   "source": [
    "# Pandas\n",
    "\n",
    "Module about the most popular Python library to handle tabular data or time series. The library is powerful and extensive, so here I will cover some of the basic operation to help you loading some data.\n",
    "\n",
    "The core concepts of the **Pandas** library is that you can call columns containing the same datatype by names. This allows you to handle the data without having to remember the exact location of a column. The catch is that each column has to contain data of the same type.\n",
    "\n",
    "The most popular module of the **Pandas** library is probably *DataFrames*\n",
    "\n",
    "Built on top of numpy. It can also handle missing values.\n"
   ]
  },
  {
   "cell_type": "code",
   "execution_count": 1,
   "metadata": {},
   "outputs": [],
   "source": [
    "# First let's import the library\n",
    "import pandas as pd\n"
   ]
  },
  {
   "cell_type": "code",
   "execution_count": 56,
   "metadata": {},
   "outputs": [],
   "source": [
    "# Load file\n",
    "root = '/Users/andrespatrignani/Dropbox/Teaching/Scientific programming/introcoding-spring-2019/Datasets/'\n",
    "df = pd.read_csv(root + 'gypsum_ks_daily_2018.csv')\n"
   ]
  },
  {
   "cell_type": "code",
   "execution_count": 57,
   "metadata": {},
   "outputs": [
    {
     "data": {
      "text/html": [
       "<div>\n",
       "<style scoped>\n",
       "    .dataframe tbody tr th:only-of-type {\n",
       "        vertical-align: middle;\n",
       "    }\n",
       "\n",
       "    .dataframe tbody tr th {\n",
       "        vertical-align: top;\n",
       "    }\n",
       "\n",
       "    .dataframe thead th {\n",
       "        text-align: right;\n",
       "    }\n",
       "</style>\n",
       "<table border=\"1\" class=\"dataframe\">\n",
       "  <thead>\n",
       "    <tr style=\"text-align: right;\">\n",
       "      <th></th>\n",
       "      <th>TIMESTAMP</th>\n",
       "      <th>STATION</th>\n",
       "      <th>PRESSUREAVG</th>\n",
       "      <th>PRESSUREMAX</th>\n",
       "      <th>PRESSUREMIN</th>\n",
       "      <th>SLPAVG</th>\n",
       "      <th>TEMP2MAVG</th>\n",
       "      <th>TEMP2MMIN</th>\n",
       "      <th>TEMP2MMAX</th>\n",
       "      <th>TEMP10MAVG</th>\n",
       "      <th>...</th>\n",
       "      <th>SOILTMP10MAX</th>\n",
       "      <th>SOILTMP10MIN</th>\n",
       "      <th>SOILTMP5AVG655</th>\n",
       "      <th>SOILTMP10AVG655</th>\n",
       "      <th>SOILTMP20AVG655</th>\n",
       "      <th>SOILTMP50AVG655</th>\n",
       "      <th>VWC5CM</th>\n",
       "      <th>VWC10CM</th>\n",
       "      <th>VWC20CM</th>\n",
       "      <th>VWC50CM</th>\n",
       "    </tr>\n",
       "  </thead>\n",
       "  <tbody>\n",
       "    <tr>\n",
       "      <th>0</th>\n",
       "      <td>1/1/18 0:00</td>\n",
       "      <td>Gypsum</td>\n",
       "      <td>99.44</td>\n",
       "      <td>100.03</td>\n",
       "      <td>98.73</td>\n",
       "      <td>104.44</td>\n",
       "      <td>-15.15</td>\n",
       "      <td>-19.56</td>\n",
       "      <td>-11.00</td>\n",
       "      <td>-15.31</td>\n",
       "      <td>...</td>\n",
       "      <td>-1.18</td>\n",
       "      <td>-2.45</td>\n",
       "      <td>-1.33</td>\n",
       "      <td>-1.14</td>\n",
       "      <td>0.74</td>\n",
       "      <td>3.50</td>\n",
       "      <td>0.1377</td>\n",
       "      <td>0.1167</td>\n",
       "      <td>0.2665</td>\n",
       "      <td>0.2203</td>\n",
       "    </tr>\n",
       "    <tr>\n",
       "      <th>1</th>\n",
       "      <td>1/2/18 0:00</td>\n",
       "      <td>Gypsum</td>\n",
       "      <td>99.79</td>\n",
       "      <td>100.14</td>\n",
       "      <td>99.40</td>\n",
       "      <td>104.88</td>\n",
       "      <td>-16.48</td>\n",
       "      <td>-22.10</td>\n",
       "      <td>-10.40</td>\n",
       "      <td>-16.38</td>\n",
       "      <td>...</td>\n",
       "      <td>-1.56</td>\n",
       "      <td>-3.46</td>\n",
       "      <td>-2.10</td>\n",
       "      <td>-1.82</td>\n",
       "      <td>0.28</td>\n",
       "      <td>3.13</td>\n",
       "      <td>0.1234</td>\n",
       "      <td>0.1021</td>\n",
       "      <td>0.2642</td>\n",
       "      <td>0.2196</td>\n",
       "    </tr>\n",
       "    <tr>\n",
       "      <th>2</th>\n",
       "      <td>1/3/18 0:00</td>\n",
       "      <td>Gypsum</td>\n",
       "      <td>98.87</td>\n",
       "      <td>99.52</td>\n",
       "      <td>97.94</td>\n",
       "      <td>103.81</td>\n",
       "      <td>-11.03</td>\n",
       "      <td>-20.64</td>\n",
       "      <td>-2.71</td>\n",
       "      <td>-10.66</td>\n",
       "      <td>...</td>\n",
       "      <td>-1.49</td>\n",
       "      <td>-3.61</td>\n",
       "      <td>-2.21</td>\n",
       "      <td>-1.93</td>\n",
       "      <td>-0.08</td>\n",
       "      <td>2.76</td>\n",
       "      <td>0.1206</td>\n",
       "      <td>0.0965</td>\n",
       "      <td>0.2353</td>\n",
       "      <td>0.2189</td>\n",
       "    </tr>\n",
       "  </tbody>\n",
       "</table>\n",
       "<p>3 rows × 44 columns</p>\n",
       "</div>"
      ],
      "text/plain": [
       "     TIMESTAMP STATION  PRESSUREAVG  PRESSUREMAX  PRESSUREMIN  SLPAVG  \\\n",
       "0  1/1/18 0:00  Gypsum        99.44       100.03        98.73  104.44   \n",
       "1  1/2/18 0:00  Gypsum        99.79       100.14        99.40  104.88   \n",
       "2  1/3/18 0:00  Gypsum        98.87        99.52        97.94  103.81   \n",
       "\n",
       "   TEMP2MAVG  TEMP2MMIN  TEMP2MMAX  TEMP10MAVG   ...     SOILTMP10MAX  \\\n",
       "0     -15.15     -19.56     -11.00      -15.31   ...            -1.18   \n",
       "1     -16.48     -22.10     -10.40      -16.38   ...            -1.56   \n",
       "2     -11.03     -20.64      -2.71      -10.66   ...            -1.49   \n",
       "\n",
       "   SOILTMP10MIN  SOILTMP5AVG655  SOILTMP10AVG655  SOILTMP20AVG655  \\\n",
       "0         -2.45           -1.33            -1.14             0.74   \n",
       "1         -3.46           -2.10            -1.82             0.28   \n",
       "2         -3.61           -2.21            -1.93            -0.08   \n",
       "\n",
       "   SOILTMP50AVG655  VWC5CM  VWC10CM  VWC20CM  VWC50CM  \n",
       "0             3.50  0.1377   0.1167   0.2665   0.2203  \n",
       "1             3.13  0.1234   0.1021   0.2642   0.2196  \n",
       "2             2.76  0.1206   0.0965   0.2353   0.2189  \n",
       "\n",
       "[3 rows x 44 columns]"
      ]
     },
     "execution_count": 57,
     "metadata": {},
     "output_type": "execute_result"
    }
   ],
   "source": [
    "# Head function\n",
    "df.head(3)"
   ]
  },
  {
   "cell_type": "code",
   "execution_count": 58,
   "metadata": {},
   "outputs": [
    {
     "data": {
      "text/plain": [
       "Index(['TIMESTAMP', 'STATION', 'PRESSUREAVG', 'PRESSUREMAX', 'PRESSUREMIN',\n",
       "       'SLPAVG', 'TEMP2MAVG', 'TEMP2MMIN', 'TEMP2MMAX', 'TEMP10MAVG',\n",
       "       'TEMP10MMIN', 'TEMP10MMAX', 'RELHUM2MAVG', 'RELHUM2MMAX', 'RELHUM2MMIN',\n",
       "       'RELHUM10MAVG', 'RELHUM10MMAX', 'RELHUM10MMIN', 'VPDEFAVG', 'PRECIP',\n",
       "       'SRAVG', 'SR', 'WSPD2MAVG', 'WSPD2MMAX', 'WSPD10MAVG', 'WSPD10MMAX',\n",
       "       'WDIR2M', 'WDIR2MSTD', 'WDIR10M', 'WDIR10MSTD', 'SOILTMP5AVG',\n",
       "       'SOILTMP5MAX', 'SOILTMP5MIN', 'SOILTMP10AVG', 'SOILTMP10MAX',\n",
       "       'SOILTMP10MIN', 'SOILTMP5AVG655', 'SOILTMP10AVG655', 'SOILTMP20AVG655',\n",
       "       'SOILTMP50AVG655', 'VWC5CM', 'VWC10CM', 'VWC20CM', 'VWC50CM'],\n",
       "      dtype='object')"
      ]
     },
     "execution_count": 58,
     "metadata": {},
     "output_type": "execute_result"
    }
   ],
   "source": [
    "# Print names of each column\n",
    "df.columns"
   ]
  },
  {
   "cell_type": "code",
   "execution_count": 59,
   "metadata": {},
   "outputs": [
    {
     "data": {
      "text/plain": [
       "TIMESTAMP           object\n",
       "STATION             object\n",
       "PRESSUREAVG        float64\n",
       "PRESSUREMAX        float64\n",
       "PRESSUREMIN        float64\n",
       "SLPAVG             float64\n",
       "TEMP2MAVG          float64\n",
       "TEMP2MMIN          float64\n",
       "TEMP2MMAX          float64\n",
       "TEMP10MAVG         float64\n",
       "TEMP10MMIN         float64\n",
       "TEMP10MMAX         float64\n",
       "RELHUM2MAVG        float64\n",
       "RELHUM2MMAX        float64\n",
       "RELHUM2MMIN        float64\n",
       "RELHUM10MAVG       float64\n",
       "RELHUM10MMAX       float64\n",
       "RELHUM10MMIN       float64\n",
       "VPDEFAVG           float64\n",
       "PRECIP             float64\n",
       "SRAVG              float64\n",
       "SR                 float64\n",
       "WSPD2MAVG          float64\n",
       "WSPD2MMAX          float64\n",
       "WSPD10MAVG         float64\n",
       "WSPD10MMAX         float64\n",
       "WDIR2M             float64\n",
       "WDIR2MSTD          float64\n",
       "WDIR10M            float64\n",
       "WDIR10MSTD         float64\n",
       "SOILTMP5AVG        float64\n",
       "SOILTMP5MAX        float64\n",
       "SOILTMP5MIN        float64\n",
       "SOILTMP10AVG       float64\n",
       "SOILTMP10MAX       float64\n",
       "SOILTMP10MIN       float64\n",
       "SOILTMP5AVG655     float64\n",
       "SOILTMP10AVG655    float64\n",
       "SOILTMP20AVG655    float64\n",
       "SOILTMP50AVG655    float64\n",
       "VWC5CM             float64\n",
       "VWC10CM            float64\n",
       "VWC20CM            float64\n",
       "VWC50CM            float64\n",
       "dtype: object"
      ]
     },
     "execution_count": 59,
     "metadata": {},
     "output_type": "execute_result"
    }
   ],
   "source": [
    "# Check data types of each column\n",
    "df.dtypes # Why does windDirection appear as an object?"
   ]
  },
  {
   "cell_type": "code",
   "execution_count": 16,
   "metadata": {},
   "outputs": [
    {
     "data": {
      "text/plain": [
       "0       2.2\n",
       "1       3.2\n",
       "2       2.7\n",
       "3       4.5\n",
       "4       1.8\n",
       "5   -9999.0\n",
       "Name: windSpeed, dtype: float64"
      ]
     },
     "execution_count": 16,
     "metadata": {},
     "output_type": "execute_result"
    }
   ],
   "source": [
    "# Extract a column into a separate variable\n",
    "windSpeed = df.windSpeed\n",
    "windSpeed"
   ]
  },
  {
   "cell_type": "code",
   "execution_count": 49,
   "metadata": {},
   "outputs": [
    {
     "data": {
      "text/plain": [
       "0       2.2\n",
       "1       3.2\n",
       "2   -9999.0\n",
       "Name: windSpeed, dtype: float64"
      ]
     },
     "execution_count": 49,
     "metadata": {},
     "output_type": "execute_result"
    }
   ],
   "source": [
    "# Alternative way of calling column data\n",
    "df['windSpeed'] # Notice that there is no 'dot' after 'df'"
   ]
  },
  {
   "cell_type": "code",
   "execution_count": 50,
   "metadata": {},
   "outputs": [
    {
     "data": {
      "text/plain": [
       "doy              3\n",
       "windSpeed        3\n",
       "windDirection    3\n",
       "precipitation    3\n",
       "dtype: int64"
      ]
     },
     "execution_count": 50,
     "metadata": {},
     "output_type": "execute_result"
    }
   ],
   "source": [
    "# Count number of records for each variable\n",
    "df.count()"
   ]
  },
  {
   "cell_type": "code",
   "execution_count": 51,
   "metadata": {},
   "outputs": [
    {
     "name": "stdout",
     "output_type": "stream",
     "text": [
      "3.2\n",
      "-9999.0\n",
      "0     0\n",
      "1    18\n",
      "2    43\n",
      "Name: precipitation, dtype: int64\n",
      "['E' 'NW']\n"
     ]
    }
   ],
   "source": [
    "# Stats\n",
    "print(df.windSpeed.max())\n",
    "print(df.windSpeed.min())\n",
    "print(df.precipitation.cumsum())\n",
    "print(df.windDirection.unique())"
   ]
  },
  {
   "cell_type": "code",
   "execution_count": null,
   "metadata": {},
   "outputs": [],
   "source": [
    "df['windSpeed'].is"
   ]
  },
  {
   "cell_type": "markdown",
   "metadata": {},
   "source": [
    "**Dissecting the dataframe above we find the following main components**:\n",
    "1. header row containing column names\n",
    "2. index (the left-most column with numbers from 0 to 4) is equivalent to a rwo name.\n",
    "3. Each column has data of the same type. In this case *doy* is an integer, *windSpeed* is a float, and *windDirection* is a string"
   ]
  },
  {
   "cell_type": "code",
   "execution_count": 12,
   "metadata": {},
   "outputs": [],
   "source": [
    "# Slicing: Select portions of data by calling specific rows, columns, or both\n",
    "# Slicing follows this convention in Pandas DataFrames\n",
    "\n",
    "# df[rows]\n",
    "# df[columns]\n",
    "# df[rows,columns]\n",
    "# Notice that if you want to pass more than one row of column you will need to group them in a list"
   ]
  },
  {
   "cell_type": "code",
   "execution_count": 13,
   "metadata": {},
   "outputs": [
    {
     "data": {
      "text/html": [
       "<div>\n",
       "<style scoped>\n",
       "    .dataframe tbody tr th:only-of-type {\n",
       "        vertical-align: middle;\n",
       "    }\n",
       "\n",
       "    .dataframe tbody tr th {\n",
       "        vertical-align: top;\n",
       "    }\n",
       "\n",
       "    .dataframe thead th {\n",
       "        text-align: right;\n",
       "    }\n",
       "</style>\n",
       "<table border=\"1\" class=\"dataframe\">\n",
       "  <thead>\n",
       "    <tr style=\"text-align: right;\">\n",
       "      <th></th>\n",
       "      <th>doy</th>\n",
       "      <th>windSpeed</th>\n",
       "      <th>windDirection</th>\n",
       "      <th>precipitation</th>\n",
       "    </tr>\n",
       "  </thead>\n",
       "  <tbody>\n",
       "    <tr>\n",
       "      <th>0</th>\n",
       "      <td>1</td>\n",
       "      <td>2.2</td>\n",
       "      <td>E</td>\n",
       "      <td>0</td>\n",
       "    </tr>\n",
       "    <tr>\n",
       "      <th>1</th>\n",
       "      <td>2</td>\n",
       "      <td>3.2</td>\n",
       "      <td>NW</td>\n",
       "      <td>0</td>\n",
       "    </tr>\n",
       "    <tr>\n",
       "      <th>2</th>\n",
       "      <td>3</td>\n",
       "      <td>2.7</td>\n",
       "      <td>N</td>\n",
       "      <td>0</td>\n",
       "    </tr>\n",
       "  </tbody>\n",
       "</table>\n",
       "</div>"
      ],
      "text/plain": [
       "   doy  windSpeed windDirection  precipitation\n",
       "0    1        2.2             E              0\n",
       "1    2        3.2            NW              0\n",
       "2    3        2.7             N              0"
      ]
     },
     "execution_count": 13,
     "metadata": {},
     "output_type": "execute_result"
    }
   ],
   "source": [
    "# Slicing by rows\n",
    "# df[rows]\n",
    "\n",
    "df[0:3]"
   ]
  },
  {
   "cell_type": "code",
   "execution_count": 14,
   "metadata": {},
   "outputs": [
    {
     "data": {
      "text/html": [
       "<div>\n",
       "<style scoped>\n",
       "    .dataframe tbody tr th:only-of-type {\n",
       "        vertical-align: middle;\n",
       "    }\n",
       "\n",
       "    .dataframe tbody tr th {\n",
       "        vertical-align: top;\n",
       "    }\n",
       "\n",
       "    .dataframe thead th {\n",
       "        text-align: right;\n",
       "    }\n",
       "</style>\n",
       "<table border=\"1\" class=\"dataframe\">\n",
       "  <thead>\n",
       "    <tr style=\"text-align: right;\">\n",
       "      <th></th>\n",
       "      <th>windSpeed</th>\n",
       "      <th>windDirection</th>\n",
       "    </tr>\n",
       "  </thead>\n",
       "  <tbody>\n",
       "    <tr>\n",
       "      <th>0</th>\n",
       "      <td>2.2</td>\n",
       "      <td>E</td>\n",
       "    </tr>\n",
       "    <tr>\n",
       "      <th>1</th>\n",
       "      <td>3.2</td>\n",
       "      <td>NW</td>\n",
       "    </tr>\n",
       "    <tr>\n",
       "      <th>2</th>\n",
       "      <td>2.7</td>\n",
       "      <td>N</td>\n",
       "    </tr>\n",
       "    <tr>\n",
       "      <th>3</th>\n",
       "      <td>4.5</td>\n",
       "      <td>S</td>\n",
       "    </tr>\n",
       "    <tr>\n",
       "      <th>4</th>\n",
       "      <td>1.8</td>\n",
       "      <td>SW</td>\n",
       "    </tr>\n",
       "    <tr>\n",
       "      <th>5</th>\n",
       "      <td>-9999.0</td>\n",
       "      <td>SW</td>\n",
       "    </tr>\n",
       "  </tbody>\n",
       "</table>\n",
       "</div>"
      ],
      "text/plain": [
       "   windSpeed windDirection\n",
       "0        2.2             E\n",
       "1        3.2            NW\n",
       "2        2.7             N\n",
       "3        4.5             S\n",
       "4        1.8            SW\n",
       "5    -9999.0            SW"
      ]
     },
     "execution_count": 14,
     "metadata": {},
     "output_type": "execute_result"
    }
   ],
   "source": [
    "# Slicing by columns\n",
    "# df[columns]\n",
    "\n",
    "df[['windSpeed','windDirection']]\n",
    "\n",
    "# A common mistake when slicing multiple columns is to forget grouping column names into a list\n",
    "# So, the following will not work:\n",
    "\n",
    "# df['windSpeed','windDirection']"
   ]
  },
  {
   "cell_type": "markdown",
   "metadata": {},
   "source": [
    "# Slicing using both rows and columns\n",
    "\n",
    "`loc` gets rows (or columns) with particular labels from the index.\n",
    "\n",
    "`iloc` gets rows (or columns) at particular positions in the index (so it only takes integers).\n"
   ]
  },
  {
   "cell_type": "code",
   "execution_count": 35,
   "metadata": {},
   "outputs": [
    {
     "data": {
      "text/html": [
       "<div>\n",
       "<style scoped>\n",
       "    .dataframe tbody tr th:only-of-type {\n",
       "        vertical-align: middle;\n",
       "    }\n",
       "\n",
       "    .dataframe tbody tr th {\n",
       "        vertical-align: top;\n",
       "    }\n",
       "\n",
       "    .dataframe thead th {\n",
       "        text-align: right;\n",
       "    }\n",
       "</style>\n",
       "<table border=\"1\" class=\"dataframe\">\n",
       "  <thead>\n",
       "    <tr style=\"text-align: right;\">\n",
       "      <th></th>\n",
       "      <th>windSpeed</th>\n",
       "      <th>windDirection</th>\n",
       "    </tr>\n",
       "  </thead>\n",
       "  <tbody>\n",
       "    <tr>\n",
       "      <th>0</th>\n",
       "      <td>2.2</td>\n",
       "      <td>E</td>\n",
       "    </tr>\n",
       "    <tr>\n",
       "      <th>1</th>\n",
       "      <td>3.2</td>\n",
       "      <td>NW</td>\n",
       "    </tr>\n",
       "    <tr>\n",
       "      <th>2</th>\n",
       "      <td>2.7</td>\n",
       "      <td>N</td>\n",
       "    </tr>\n",
       "  </tbody>\n",
       "</table>\n",
       "</div>"
      ],
      "text/plain": [
       "   windSpeed windDirection\n",
       "0        2.2             E\n",
       "1        3.2            NW\n",
       "2        2.7             N"
      ]
     },
     "execution_count": 35,
     "metadata": {},
     "output_type": "execute_result"
    }
   ],
   "source": [
    "df.iloc[0:3,[1,2]] # Exclusive of its endpoint"
   ]
  },
  {
   "cell_type": "code",
   "execution_count": 33,
   "metadata": {},
   "outputs": [
    {
     "data": {
      "text/html": [
       "<div>\n",
       "<style scoped>\n",
       "    .dataframe tbody tr th:only-of-type {\n",
       "        vertical-align: middle;\n",
       "    }\n",
       "\n",
       "    .dataframe tbody tr th {\n",
       "        vertical-align: top;\n",
       "    }\n",
       "\n",
       "    .dataframe thead th {\n",
       "        text-align: right;\n",
       "    }\n",
       "</style>\n",
       "<table border=\"1\" class=\"dataframe\">\n",
       "  <thead>\n",
       "    <tr style=\"text-align: right;\">\n",
       "      <th></th>\n",
       "      <th>windSpeed</th>\n",
       "      <th>windDirection</th>\n",
       "    </tr>\n",
       "  </thead>\n",
       "  <tbody>\n",
       "    <tr>\n",
       "      <th>0</th>\n",
       "      <td>2.2</td>\n",
       "      <td>E</td>\n",
       "    </tr>\n",
       "    <tr>\n",
       "      <th>1</th>\n",
       "      <td>3.2</td>\n",
       "      <td>NW</td>\n",
       "    </tr>\n",
       "    <tr>\n",
       "      <th>2</th>\n",
       "      <td>2.7</td>\n",
       "      <td>N</td>\n",
       "    </tr>\n",
       "  </tbody>\n",
       "</table>\n",
       "</div>"
      ],
      "text/plain": [
       "   windSpeed windDirection\n",
       "0        2.2             E\n",
       "1        3.2            NW\n",
       "2        2.7             N"
      ]
     },
     "execution_count": 33,
     "metadata": {},
     "output_type": "execute_result"
    }
   ],
   "source": [
    "df.loc[0:2,['windSpeed','windDirection']]"
   ]
  },
  {
   "cell_type": "code",
   "execution_count": 30,
   "metadata": {},
   "outputs": [
    {
     "data": {
      "text/html": [
       "<div>\n",
       "<style scoped>\n",
       "    .dataframe tbody tr th:only-of-type {\n",
       "        vertical-align: middle;\n",
       "    }\n",
       "\n",
       "    .dataframe tbody tr th {\n",
       "        vertical-align: top;\n",
       "    }\n",
       "\n",
       "    .dataframe thead th {\n",
       "        text-align: right;\n",
       "    }\n",
       "</style>\n",
       "<table border=\"1\" class=\"dataframe\">\n",
       "  <thead>\n",
       "    <tr style=\"text-align: right;\">\n",
       "      <th></th>\n",
       "      <th>doy</th>\n",
       "      <th>windSpeed</th>\n",
       "      <th>windDirection</th>\n",
       "      <th>precipitation</th>\n",
       "    </tr>\n",
       "  </thead>\n",
       "  <tbody>\n",
       "    <tr>\n",
       "      <th>0</th>\n",
       "      <td>1</td>\n",
       "      <td>2.2</td>\n",
       "      <td>E</td>\n",
       "      <td>0</td>\n",
       "    </tr>\n",
       "    <tr>\n",
       "      <th>1</th>\n",
       "      <td>2</td>\n",
       "      <td>3.2</td>\n",
       "      <td>NW</td>\n",
       "      <td>0</td>\n",
       "    </tr>\n",
       "    <tr>\n",
       "      <th>2</th>\n",
       "      <td>3</td>\n",
       "      <td>2.7</td>\n",
       "      <td>N</td>\n",
       "      <td>0</td>\n",
       "    </tr>\n",
       "  </tbody>\n",
       "</table>\n",
       "</div>"
      ],
      "text/plain": [
       "   doy  windSpeed windDirection  precipitation\n",
       "0    1        2.2             E              0\n",
       "1    2        3.2            NW              0\n",
       "2    3        2.7             N              0"
      ]
     },
     "execution_count": 30,
     "metadata": {},
     "output_type": "execute_result"
    }
   ],
   "source": [
    "df.loc[0:2]"
   ]
  },
  {
   "cell_type": "code",
   "execution_count": 29,
   "metadata": {},
   "outputs": [
    {
     "data": {
      "text/html": [
       "<div>\n",
       "<style scoped>\n",
       "    .dataframe tbody tr th:only-of-type {\n",
       "        vertical-align: middle;\n",
       "    }\n",
       "\n",
       "    .dataframe tbody tr th {\n",
       "        vertical-align: top;\n",
       "    }\n",
       "\n",
       "    .dataframe thead th {\n",
       "        text-align: right;\n",
       "    }\n",
       "</style>\n",
       "<table border=\"1\" class=\"dataframe\">\n",
       "  <thead>\n",
       "    <tr style=\"text-align: right;\">\n",
       "      <th></th>\n",
       "      <th>doy</th>\n",
       "      <th>windSpeed</th>\n",
       "      <th>windDirection</th>\n",
       "      <th>precipitation</th>\n",
       "    </tr>\n",
       "  </thead>\n",
       "  <tbody>\n",
       "    <tr>\n",
       "      <th>0</th>\n",
       "      <td>1</td>\n",
       "      <td>2.2</td>\n",
       "      <td>E</td>\n",
       "      <td>0</td>\n",
       "    </tr>\n",
       "    <tr>\n",
       "      <th>1</th>\n",
       "      <td>2</td>\n",
       "      <td>3.2</td>\n",
       "      <td>NW</td>\n",
       "      <td>0</td>\n",
       "    </tr>\n",
       "  </tbody>\n",
       "</table>\n",
       "</div>"
      ],
      "text/plain": [
       "   doy  windSpeed windDirection  precipitation\n",
       "0    1        2.2             E              0\n",
       "1    2        3.2            NW              0"
      ]
     },
     "execution_count": 29,
     "metadata": {},
     "output_type": "execute_result"
    }
   ],
   "source": [
    "df.iloc[0:2] # Exclusive of its endpoint"
   ]
  },
  {
   "cell_type": "code",
   "execution_count": 20,
   "metadata": {},
   "outputs": [
    {
     "data": {
      "text/html": [
       "<div>\n",
       "<style scoped>\n",
       "    .dataframe tbody tr th:only-of-type {\n",
       "        vertical-align: middle;\n",
       "    }\n",
       "\n",
       "    .dataframe tbody tr th {\n",
       "        vertical-align: top;\n",
       "    }\n",
       "\n",
       "    .dataframe thead th {\n",
       "        text-align: right;\n",
       "    }\n",
       "</style>\n",
       "<table border=\"1\" class=\"dataframe\">\n",
       "  <thead>\n",
       "    <tr style=\"text-align: right;\">\n",
       "      <th></th>\n",
       "      <th>windSpeed</th>\n",
       "      <th>windDirection</th>\n",
       "    </tr>\n",
       "  </thead>\n",
       "  <tbody>\n",
       "    <tr>\n",
       "      <th>0</th>\n",
       "      <td>2.2</td>\n",
       "      <td>E</td>\n",
       "    </tr>\n",
       "    <tr>\n",
       "      <th>1</th>\n",
       "      <td>3.2</td>\n",
       "      <td>NW</td>\n",
       "    </tr>\n",
       "    <tr>\n",
       "      <th>2</th>\n",
       "      <td>2.7</td>\n",
       "      <td>N</td>\n",
       "    </tr>\n",
       "  </tbody>\n",
       "</table>\n",
       "</div>"
      ],
      "text/plain": [
       "   windSpeed windDirection\n",
       "0        2.2             E\n",
       "1        3.2            NW\n",
       "2        2.7             N"
      ]
     },
     "execution_count": 20,
     "metadata": {},
     "output_type": "execute_result"
    }
   ],
   "source": [
    "\n",
    "# Using location\n",
    "df.loc[0:2,'windSpeed']\n",
    "df.loc[0:2,['windSpeed','windDirection']]\n",
    "\n",
    "\n",
    "# These statements will not work\n",
    "#df.loc[0:2,0:1]\n",
    "#df.loc[[0:2],[0:1]]"
   ]
  },
  {
   "cell_type": "code",
   "execution_count": 16,
   "metadata": {},
   "outputs": [
    {
     "data": {
      "text/plain": [
       "0    False\n",
       "1     True\n",
       "2    False\n",
       "3     True\n",
       "4    False\n",
       "5    False\n",
       "Name: windSpeed, dtype: bool"
      ]
     },
     "execution_count": 16,
     "metadata": {},
     "output_type": "execute_result"
    }
   ],
   "source": [
    "# Filtering\n",
    "\n",
    "# Select days of the year in which the wind speed was greater than 3 meters per second.\n",
    "idx = df.windSpeed > 3\n",
    "idx  # Let's inspect the idx variable. This is a boolean variable (either True or False)\n"
   ]
  },
  {
   "cell_type": "code",
   "execution_count": 17,
   "metadata": {},
   "outputs": [
    {
     "data": {
      "text/html": [
       "<div>\n",
       "<style scoped>\n",
       "    .dataframe tbody tr th:only-of-type {\n",
       "        vertical-align: middle;\n",
       "    }\n",
       "\n",
       "    .dataframe tbody tr th {\n",
       "        vertical-align: top;\n",
       "    }\n",
       "\n",
       "    .dataframe thead th {\n",
       "        text-align: right;\n",
       "    }\n",
       "</style>\n",
       "<table border=\"1\" class=\"dataframe\">\n",
       "  <thead>\n",
       "    <tr style=\"text-align: right;\">\n",
       "      <th></th>\n",
       "      <th>doy</th>\n",
       "      <th>windSpeed</th>\n",
       "      <th>windDirection</th>\n",
       "      <th>precipitation</th>\n",
       "    </tr>\n",
       "  </thead>\n",
       "  <tbody>\n",
       "    <tr>\n",
       "      <th>1</th>\n",
       "      <td>2</td>\n",
       "      <td>3.2</td>\n",
       "      <td>NW</td>\n",
       "      <td>0</td>\n",
       "    </tr>\n",
       "    <tr>\n",
       "      <th>3</th>\n",
       "      <td>4</td>\n",
       "      <td>4.5</td>\n",
       "      <td>S</td>\n",
       "      <td>18</td>\n",
       "    </tr>\n",
       "  </tbody>\n",
       "</table>\n",
       "</div>"
      ],
      "text/plain": [
       "   doy  windSpeed windDirection  precipitation\n",
       "1    2        3.2            NW              0\n",
       "3    4        4.5             S             18"
      ]
     },
     "execution_count": 17,
     "metadata": {},
     "output_type": "execute_result"
    }
   ],
   "source": [
    "# Now let's apply the boolean variable to the dataframe\n",
    "df[idx]"
   ]
  },
  {
   "cell_type": "code",
   "execution_count": 18,
   "metadata": {},
   "outputs": [
    {
     "data": {
      "text/plain": [
       "1    NW\n",
       "3     S\n",
       "Name: windDirection, dtype: object"
      ]
     },
     "execution_count": 18,
     "metadata": {},
     "output_type": "execute_result"
    }
   ],
   "source": [
    "# We can also apply the boolean variable to specific columns\n",
    "# If we want to know what was the wind direction on days with wind speed greater than 3 m/s\n",
    "df.loc[idx,'windDirection']\n",
    "\n",
    "# Here a common mistake would be to do:\n",
    "# df[idx,'windDirection']"
   ]
  },
  {
   "cell_type": "code",
   "execution_count": 19,
   "metadata": {},
   "outputs": [
    {
     "data": {
      "text/plain": [
       "1    NW\n",
       "3     S\n",
       "Name: windDirection, dtype: object"
      ]
     },
     "execution_count": 19,
     "metadata": {},
     "output_type": "execute_result"
    }
   ],
   "source": [
    "# Same but in one line of code. This is fine to do, sometimes (as the next example) it can get complex\n",
    "# and hard to follow, so I recommend storing the boolean results in a new variable that is easier to pass\n",
    "# around. This is particularly helpful if you are planning to re-use the boolean in multiple \n",
    "# lines of you code.\n",
    "\n",
    "df.loc[df.windSpeed > 3,'windDirection']"
   ]
  },
  {
   "cell_type": "code",
   "execution_count": 20,
   "metadata": {},
   "outputs": [
    {
     "data": {
      "text/plain": [
       "0     True\n",
       "1     True\n",
       "2    False\n",
       "3    False\n",
       "4    False\n",
       "5    False\n",
       "Name: doy, dtype: bool"
      ]
     },
     "execution_count": 20,
     "metadata": {},
     "output_type": "execute_result"
    }
   ],
   "source": [
    "# Another popular way of filtering is to check whether an element or group of elements are within a set.\n",
    "# If you come from Matlab the following example is similar to the ismember function\n",
    "\n",
    "# Let's check whether January 1 and January 2 are in the dataframe.\n",
    "idx_doy = df['doy'].isin([1,2])  #list(range(1,5))\n",
    "idx_doy"
   ]
  },
  {
   "cell_type": "code",
   "execution_count": 21,
   "metadata": {},
   "outputs": [
    {
     "data": {
      "text/html": [
       "<div>\n",
       "<style scoped>\n",
       "    .dataframe tbody tr th:only-of-type {\n",
       "        vertical-align: middle;\n",
       "    }\n",
       "\n",
       "    .dataframe tbody tr th {\n",
       "        vertical-align: top;\n",
       "    }\n",
       "\n",
       "    .dataframe thead th {\n",
       "        text-align: right;\n",
       "    }\n",
       "</style>\n",
       "<table border=\"1\" class=\"dataframe\">\n",
       "  <thead>\n",
       "    <tr style=\"text-align: right;\">\n",
       "      <th></th>\n",
       "      <th>doy</th>\n",
       "      <th>windSpeed</th>\n",
       "      <th>windDirection</th>\n",
       "      <th>precipitation</th>\n",
       "    </tr>\n",
       "  </thead>\n",
       "  <tbody>\n",
       "    <tr>\n",
       "      <th>0</th>\n",
       "      <td>1</td>\n",
       "      <td>2.2</td>\n",
       "      <td>E</td>\n",
       "      <td>0</td>\n",
       "    </tr>\n",
       "    <tr>\n",
       "      <th>1</th>\n",
       "      <td>2</td>\n",
       "      <td>3.2</td>\n",
       "      <td>NW</td>\n",
       "      <td>0</td>\n",
       "    </tr>\n",
       "  </tbody>\n",
       "</table>\n",
       "</div>"
      ],
      "text/plain": [
       "   doy  windSpeed windDirection  precipitation\n",
       "0    1        2.2             E              0\n",
       "1    2        3.2            NW              0"
      ]
     },
     "execution_count": 21,
     "metadata": {},
     "output_type": "execute_result"
    }
   ],
   "source": [
    "# Select and display all columns for the selected days of the year\n",
    "df.loc[idx_doy,:]"
   ]
  },
  {
   "cell_type": "code",
   "execution_count": 22,
   "metadata": {},
   "outputs": [
    {
     "data": {
      "text/html": [
       "<div>\n",
       "<style scoped>\n",
       "    .dataframe tbody tr th:only-of-type {\n",
       "        vertical-align: middle;\n",
       "    }\n",
       "\n",
       "    .dataframe tbody tr th {\n",
       "        vertical-align: top;\n",
       "    }\n",
       "\n",
       "    .dataframe thead th {\n",
       "        text-align: right;\n",
       "    }\n",
       "</style>\n",
       "<table border=\"1\" class=\"dataframe\">\n",
       "  <thead>\n",
       "    <tr style=\"text-align: right;\">\n",
       "      <th></th>\n",
       "      <th>doy</th>\n",
       "      <th>windSpeed</th>\n",
       "      <th>windDirection</th>\n",
       "      <th>precipitation</th>\n",
       "    </tr>\n",
       "  </thead>\n",
       "  <tbody>\n",
       "    <tr>\n",
       "      <th>0</th>\n",
       "      <td>False</td>\n",
       "      <td>False</td>\n",
       "      <td>False</td>\n",
       "      <td>False</td>\n",
       "    </tr>\n",
       "    <tr>\n",
       "      <th>1</th>\n",
       "      <td>False</td>\n",
       "      <td>False</td>\n",
       "      <td>False</td>\n",
       "      <td>False</td>\n",
       "    </tr>\n",
       "    <tr>\n",
       "      <th>2</th>\n",
       "      <td>False</td>\n",
       "      <td>False</td>\n",
       "      <td>False</td>\n",
       "      <td>False</td>\n",
       "    </tr>\n",
       "    <tr>\n",
       "      <th>3</th>\n",
       "      <td>False</td>\n",
       "      <td>False</td>\n",
       "      <td>False</td>\n",
       "      <td>False</td>\n",
       "    </tr>\n",
       "    <tr>\n",
       "      <th>4</th>\n",
       "      <td>False</td>\n",
       "      <td>False</td>\n",
       "      <td>False</td>\n",
       "      <td>False</td>\n",
       "    </tr>\n",
       "    <tr>\n",
       "      <th>5</th>\n",
       "      <td>False</td>\n",
       "      <td>True</td>\n",
       "      <td>False</td>\n",
       "      <td>False</td>\n",
       "    </tr>\n",
       "  </tbody>\n",
       "</table>\n",
       "</div>"
      ],
      "text/plain": [
       "     doy  windSpeed  windDirection  precipitation\n",
       "0  False      False          False          False\n",
       "1  False      False          False          False\n",
       "2  False      False          False          False\n",
       "3  False      False          False          False\n",
       "4  False      False          False          False\n",
       "5  False       True          False          False"
      ]
     },
     "execution_count": 22,
     "metadata": {},
     "output_type": "execute_result"
    }
   ],
   "source": [
    "# Replace missing values. In this particular case I assumed that missing values are not NaN or NA in the\n",
    "# original dataset. So, tot ake advantage of the available machinery for missing values in Pandas we\n",
    "# first need to convert missing value placeholders (such as -9999) into NA or NaN. I typically prefer\n",
    "# to use NaN (personal preference since I also use Matlab frequently).\n",
    "\n",
    "# In many datasets missing data may already by imported as NaN or NA, meaning that you can directly use\n",
    "# the fillna() function within this intermediary step.\n",
    "\n",
    "idx_missing = df.isin([-9999])\n",
    "idx_missing"
   ]
  },
  {
   "cell_type": "code",
   "execution_count": 52,
   "metadata": {},
   "outputs": [
    {
     "ename": "NameError",
     "evalue": "name 'np' is not defined",
     "output_type": "error",
     "traceback": [
      "\u001b[0;31m---------------------------------------------------------------------------\u001b[0m",
      "\u001b[0;31mNameError\u001b[0m                                 Traceback (most recent call last)",
      "\u001b[0;32m<ipython-input-52-3a68f6deed8f>\u001b[0m in \u001b[0;36m<module>\u001b[0;34m()\u001b[0m\n\u001b[0;32m----> 1\u001b[0;31m \u001b[0mdf\u001b[0m\u001b[0;34m[\u001b[0m\u001b[0midx_missing\u001b[0m\u001b[0;34m]\u001b[0m \u001b[0;34m=\u001b[0m \u001b[0mnp\u001b[0m\u001b[0;34m.\u001b[0m\u001b[0mnan\u001b[0m\u001b[0;34m\u001b[0m\u001b[0m\n\u001b[0m\u001b[1;32m      2\u001b[0m \u001b[0mdf\u001b[0m\u001b[0;34m\u001b[0m\u001b[0m\n",
      "\u001b[0;31mNameError\u001b[0m: name 'np' is not defined"
     ]
    }
   ],
   "source": [
    "df[idx_missing] = np.nan\n",
    "df"
   ]
  },
  {
   "cell_type": "code",
   "execution_count": 24,
   "metadata": {},
   "outputs": [
    {
     "data": {
      "text/html": [
       "<div>\n",
       "<style scoped>\n",
       "    .dataframe tbody tr th:only-of-type {\n",
       "        vertical-align: middle;\n",
       "    }\n",
       "\n",
       "    .dataframe tbody tr th {\n",
       "        vertical-align: top;\n",
       "    }\n",
       "\n",
       "    .dataframe thead th {\n",
       "        text-align: right;\n",
       "    }\n",
       "</style>\n",
       "<table border=\"1\" class=\"dataframe\">\n",
       "  <thead>\n",
       "    <tr style=\"text-align: right;\">\n",
       "      <th></th>\n",
       "      <th>doy</th>\n",
       "      <th>windSpeed</th>\n",
       "      <th>windDirection</th>\n",
       "      <th>precipitation</th>\n",
       "    </tr>\n",
       "  </thead>\n",
       "  <tbody>\n",
       "    <tr>\n",
       "      <th>0</th>\n",
       "      <td>False</td>\n",
       "      <td>False</td>\n",
       "      <td>False</td>\n",
       "      <td>False</td>\n",
       "    </tr>\n",
       "    <tr>\n",
       "      <th>1</th>\n",
       "      <td>False</td>\n",
       "      <td>False</td>\n",
       "      <td>False</td>\n",
       "      <td>False</td>\n",
       "    </tr>\n",
       "    <tr>\n",
       "      <th>2</th>\n",
       "      <td>False</td>\n",
       "      <td>False</td>\n",
       "      <td>False</td>\n",
       "      <td>False</td>\n",
       "    </tr>\n",
       "    <tr>\n",
       "      <th>3</th>\n",
       "      <td>False</td>\n",
       "      <td>False</td>\n",
       "      <td>False</td>\n",
       "      <td>False</td>\n",
       "    </tr>\n",
       "    <tr>\n",
       "      <th>4</th>\n",
       "      <td>False</td>\n",
       "      <td>False</td>\n",
       "      <td>False</td>\n",
       "      <td>False</td>\n",
       "    </tr>\n",
       "    <tr>\n",
       "      <th>5</th>\n",
       "      <td>False</td>\n",
       "      <td>False</td>\n",
       "      <td>False</td>\n",
       "      <td>False</td>\n",
       "    </tr>\n",
       "  </tbody>\n",
       "</table>\n",
       "</div>"
      ],
      "text/plain": [
       "     doy  windSpeed  windDirection  precipitation\n",
       "0  False      False          False          False\n",
       "1  False      False          False          False\n",
       "2  False      False          False          False\n",
       "3  False      False          False          False\n",
       "4  False      False          False          False\n",
       "5  False      False          False          False"
      ]
     },
     "execution_count": 24,
     "metadata": {},
     "output_type": "execute_result"
    }
   ],
   "source": [
    "df.isna() # Note that the method 'isna' works for NA and for NaN"
   ]
  },
  {
   "cell_type": "code",
   "execution_count": 25,
   "metadata": {},
   "outputs": [
    {
     "data": {
      "text/html": [
       "<div>\n",
       "<style scoped>\n",
       "    .dataframe tbody tr th:only-of-type {\n",
       "        vertical-align: middle;\n",
       "    }\n",
       "\n",
       "    .dataframe tbody tr th {\n",
       "        vertical-align: top;\n",
       "    }\n",
       "\n",
       "    .dataframe thead th {\n",
       "        text-align: right;\n",
       "    }\n",
       "</style>\n",
       "<table border=\"1\" class=\"dataframe\">\n",
       "  <thead>\n",
       "    <tr style=\"text-align: right;\">\n",
       "      <th></th>\n",
       "      <th>doy</th>\n",
       "      <th>windSpeed</th>\n",
       "      <th>windDirection</th>\n",
       "      <th>precipitation</th>\n",
       "    </tr>\n",
       "  </thead>\n",
       "  <tbody>\n",
       "    <tr>\n",
       "      <th>0</th>\n",
       "      <td>1</td>\n",
       "      <td>2.2</td>\n",
       "      <td>E</td>\n",
       "      <td>0</td>\n",
       "    </tr>\n",
       "    <tr>\n",
       "      <th>1</th>\n",
       "      <td>2</td>\n",
       "      <td>3.2</td>\n",
       "      <td>NW</td>\n",
       "      <td>0</td>\n",
       "    </tr>\n",
       "    <tr>\n",
       "      <th>2</th>\n",
       "      <td>3</td>\n",
       "      <td>2.7</td>\n",
       "      <td>N</td>\n",
       "      <td>0</td>\n",
       "    </tr>\n",
       "    <tr>\n",
       "      <th>3</th>\n",
       "      <td>4</td>\n",
       "      <td>4.5</td>\n",
       "      <td>S</td>\n",
       "      <td>18</td>\n",
       "    </tr>\n",
       "    <tr>\n",
       "      <th>4</th>\n",
       "      <td>5</td>\n",
       "      <td>1.8</td>\n",
       "      <td>SW</td>\n",
       "      <td>25</td>\n",
       "    </tr>\n",
       "    <tr>\n",
       "      <th>5</th>\n",
       "      <td>6</td>\n",
       "      <td>-9999.0</td>\n",
       "      <td>SW</td>\n",
       "      <td>1</td>\n",
       "    </tr>\n",
       "  </tbody>\n",
       "</table>\n",
       "</div>"
      ],
      "text/plain": [
       "   doy  windSpeed windDirection  precipitation\n",
       "0    1        2.2             E              0\n",
       "1    2        3.2            NW              0\n",
       "2    3        2.7             N              0\n",
       "3    4        4.5             S             18\n",
       "4    5        1.8            SW             25\n",
       "5    6    -9999.0            SW              1"
      ]
     },
     "execution_count": 25,
     "metadata": {},
     "output_type": "execute_result"
    }
   ],
   "source": [
    "# Replace missing values with average values. This is not the best option, but at least it shows you how\n",
    "# to replace missing values with a calculation on-the-fly.\n",
    "# In this case the mean command calculates the average ignoring missing values \n",
    "# (as long as they are NaN or NA). A missing value represented as -9999 will not be skipped.\n",
    "\n",
    "df.fillna(df.windSpeed.mean()) # Replace missing vwind speed alues with average wind speed values.\n"
   ]
  },
  {
   "cell_type": "code",
   "execution_count": 26,
   "metadata": {},
   "outputs": [
    {
     "data": {
      "text/plain": [
       "DatetimeIndex(['2019-01-01', '2019-01-02', '2019-01-03', '2019-01-04',\n",
       "               '2019-01-05', '2019-01-06'],\n",
       "              dtype='datetime64[ns]', freq='D')"
      ]
     },
     "execution_count": 26,
     "metadata": {},
     "output_type": "execute_result"
    }
   ],
   "source": [
    "# Create Pandas dates\n",
    "dates = pd.date_range('20190101', periods=6)\n",
    "dates"
   ]
  },
  {
   "cell_type": "code",
   "execution_count": 27,
   "metadata": {},
   "outputs": [
    {
     "data": {
      "text/html": [
       "<div>\n",
       "<style scoped>\n",
       "    .dataframe tbody tr th:only-of-type {\n",
       "        vertical-align: middle;\n",
       "    }\n",
       "\n",
       "    .dataframe tbody tr th {\n",
       "        vertical-align: top;\n",
       "    }\n",
       "\n",
       "    .dataframe thead th {\n",
       "        text-align: right;\n",
       "    }\n",
       "</style>\n",
       "<table border=\"1\" class=\"dataframe\">\n",
       "  <thead>\n",
       "    <tr style=\"text-align: right;\">\n",
       "      <th></th>\n",
       "      <th>doy</th>\n",
       "      <th>windSpeed</th>\n",
       "      <th>windDirection</th>\n",
       "      <th>precipitation</th>\n",
       "      <th>dates</th>\n",
       "    </tr>\n",
       "  </thead>\n",
       "  <tbody>\n",
       "    <tr>\n",
       "      <th>0</th>\n",
       "      <td>1</td>\n",
       "      <td>2.2</td>\n",
       "      <td>E</td>\n",
       "      <td>0</td>\n",
       "      <td>2019-01-01</td>\n",
       "    </tr>\n",
       "    <tr>\n",
       "      <th>1</th>\n",
       "      <td>2</td>\n",
       "      <td>3.2</td>\n",
       "      <td>NW</td>\n",
       "      <td>0</td>\n",
       "      <td>2019-01-02</td>\n",
       "    </tr>\n",
       "    <tr>\n",
       "      <th>2</th>\n",
       "      <td>3</td>\n",
       "      <td>2.7</td>\n",
       "      <td>N</td>\n",
       "      <td>0</td>\n",
       "      <td>2019-01-03</td>\n",
       "    </tr>\n",
       "    <tr>\n",
       "      <th>3</th>\n",
       "      <td>4</td>\n",
       "      <td>4.5</td>\n",
       "      <td>S</td>\n",
       "      <td>18</td>\n",
       "      <td>2019-01-04</td>\n",
       "    </tr>\n",
       "    <tr>\n",
       "      <th>4</th>\n",
       "      <td>5</td>\n",
       "      <td>1.8</td>\n",
       "      <td>SW</td>\n",
       "      <td>25</td>\n",
       "      <td>2019-01-05</td>\n",
       "    </tr>\n",
       "    <tr>\n",
       "      <th>5</th>\n",
       "      <td>6</td>\n",
       "      <td>-9999.0</td>\n",
       "      <td>SW</td>\n",
       "      <td>1</td>\n",
       "      <td>2019-01-06</td>\n",
       "    </tr>\n",
       "  </tbody>\n",
       "</table>\n",
       "</div>"
      ],
      "text/plain": [
       "   doy  windSpeed windDirection  precipitation      dates\n",
       "0    1        2.2             E              0 2019-01-01\n",
       "1    2        3.2            NW              0 2019-01-02\n",
       "2    3        2.7             N              0 2019-01-03\n",
       "3    4        4.5             S             18 2019-01-04\n",
       "4    5        1.8            SW             25 2019-01-05\n",
       "5    6    -9999.0            SW              1 2019-01-06"
      ]
     },
     "execution_count": 27,
     "metadata": {},
     "output_type": "execute_result"
    }
   ],
   "source": [
    "# Add dates as a new column\n",
    "df['dates'] = dates\n",
    "df"
   ]
  },
  {
   "cell_type": "code",
   "execution_count": 28,
   "metadata": {},
   "outputs": [
    {
     "data": {
      "text/html": [
       "<div>\n",
       "<style scoped>\n",
       "    .dataframe tbody tr th:only-of-type {\n",
       "        vertical-align: middle;\n",
       "    }\n",
       "\n",
       "    .dataframe tbody tr th {\n",
       "        vertical-align: top;\n",
       "    }\n",
       "\n",
       "    .dataframe thead th {\n",
       "        text-align: right;\n",
       "    }\n",
       "</style>\n",
       "<table border=\"1\" class=\"dataframe\">\n",
       "  <thead>\n",
       "    <tr style=\"text-align: right;\">\n",
       "      <th></th>\n",
       "      <th>windSpeed</th>\n",
       "      <th>windDirection</th>\n",
       "      <th>precipitation</th>\n",
       "      <th>dates</th>\n",
       "    </tr>\n",
       "    <tr>\n",
       "      <th>doy</th>\n",
       "      <th></th>\n",
       "      <th></th>\n",
       "      <th></th>\n",
       "      <th></th>\n",
       "    </tr>\n",
       "  </thead>\n",
       "  <tbody>\n",
       "    <tr>\n",
       "      <th>1</th>\n",
       "      <td>2.2</td>\n",
       "      <td>E</td>\n",
       "      <td>0</td>\n",
       "      <td>2019-01-01</td>\n",
       "    </tr>\n",
       "    <tr>\n",
       "      <th>2</th>\n",
       "      <td>3.2</td>\n",
       "      <td>NW</td>\n",
       "      <td>0</td>\n",
       "      <td>2019-01-02</td>\n",
       "    </tr>\n",
       "    <tr>\n",
       "      <th>3</th>\n",
       "      <td>2.7</td>\n",
       "      <td>N</td>\n",
       "      <td>0</td>\n",
       "      <td>2019-01-03</td>\n",
       "    </tr>\n",
       "    <tr>\n",
       "      <th>4</th>\n",
       "      <td>4.5</td>\n",
       "      <td>S</td>\n",
       "      <td>18</td>\n",
       "      <td>2019-01-04</td>\n",
       "    </tr>\n",
       "    <tr>\n",
       "      <th>5</th>\n",
       "      <td>1.8</td>\n",
       "      <td>SW</td>\n",
       "      <td>25</td>\n",
       "      <td>2019-01-05</td>\n",
       "    </tr>\n",
       "    <tr>\n",
       "      <th>6</th>\n",
       "      <td>-9999.0</td>\n",
       "      <td>SW</td>\n",
       "      <td>1</td>\n",
       "      <td>2019-01-06</td>\n",
       "    </tr>\n",
       "  </tbody>\n",
       "</table>\n",
       "</div>"
      ],
      "text/plain": [
       "     windSpeed windDirection  precipitation      dates\n",
       "doy                                                   \n",
       "1          2.2             E              0 2019-01-01\n",
       "2          3.2            NW              0 2019-01-02\n",
       "3          2.7             N              0 2019-01-03\n",
       "4          4.5             S             18 2019-01-04\n",
       "5          1.8            SW             25 2019-01-05\n",
       "6      -9999.0            SW              1 2019-01-06"
      ]
     },
     "execution_count": 28,
     "metadata": {},
     "output_type": "execute_result"
    }
   ],
   "source": [
    "# Replace the index by a variables of our choice\n",
    "df.set_index('doy')"
   ]
  },
  {
   "cell_type": "code",
   "execution_count": 29,
   "metadata": {},
   "outputs": [
    {
     "data": {
      "text/html": [
       "<div>\n",
       "<style scoped>\n",
       "    .dataframe tbody tr th:only-of-type {\n",
       "        vertical-align: middle;\n",
       "    }\n",
       "\n",
       "    .dataframe tbody tr th {\n",
       "        vertical-align: top;\n",
       "    }\n",
       "\n",
       "    .dataframe thead th {\n",
       "        text-align: right;\n",
       "    }\n",
       "</style>\n",
       "<table border=\"1\" class=\"dataframe\">\n",
       "  <thead>\n",
       "    <tr style=\"text-align: right;\">\n",
       "      <th></th>\n",
       "      <th>index</th>\n",
       "      <th>doy</th>\n",
       "      <th>windSpeed</th>\n",
       "      <th>windDirection</th>\n",
       "      <th>precipitation</th>\n",
       "      <th>dates</th>\n",
       "    </tr>\n",
       "  </thead>\n",
       "  <tbody>\n",
       "    <tr>\n",
       "      <th>0</th>\n",
       "      <td>0</td>\n",
       "      <td>1</td>\n",
       "      <td>2.2</td>\n",
       "      <td>E</td>\n",
       "      <td>0</td>\n",
       "      <td>2019-01-01</td>\n",
       "    </tr>\n",
       "    <tr>\n",
       "      <th>1</th>\n",
       "      <td>1</td>\n",
       "      <td>2</td>\n",
       "      <td>3.2</td>\n",
       "      <td>NW</td>\n",
       "      <td>0</td>\n",
       "      <td>2019-01-02</td>\n",
       "    </tr>\n",
       "    <tr>\n",
       "      <th>2</th>\n",
       "      <td>2</td>\n",
       "      <td>3</td>\n",
       "      <td>2.7</td>\n",
       "      <td>N</td>\n",
       "      <td>0</td>\n",
       "      <td>2019-01-03</td>\n",
       "    </tr>\n",
       "    <tr>\n",
       "      <th>3</th>\n",
       "      <td>3</td>\n",
       "      <td>4</td>\n",
       "      <td>4.5</td>\n",
       "      <td>S</td>\n",
       "      <td>18</td>\n",
       "      <td>2019-01-04</td>\n",
       "    </tr>\n",
       "    <tr>\n",
       "      <th>4</th>\n",
       "      <td>4</td>\n",
       "      <td>5</td>\n",
       "      <td>1.8</td>\n",
       "      <td>SW</td>\n",
       "      <td>25</td>\n",
       "      <td>2019-01-05</td>\n",
       "    </tr>\n",
       "    <tr>\n",
       "      <th>5</th>\n",
       "      <td>5</td>\n",
       "      <td>6</td>\n",
       "      <td>-9999.0</td>\n",
       "      <td>SW</td>\n",
       "      <td>1</td>\n",
       "      <td>2019-01-06</td>\n",
       "    </tr>\n",
       "  </tbody>\n",
       "</table>\n",
       "</div>"
      ],
      "text/plain": [
       "   index  doy  windSpeed windDirection  precipitation      dates\n",
       "0      0    1        2.2             E              0 2019-01-01\n",
       "1      1    2        3.2            NW              0 2019-01-02\n",
       "2      2    3        2.7             N              0 2019-01-03\n",
       "3      3    4        4.5             S             18 2019-01-04\n",
       "4      4    5        1.8            SW             25 2019-01-05\n",
       "5      5    6    -9999.0            SW              1 2019-01-06"
      ]
     },
     "execution_count": 29,
     "metadata": {},
     "output_type": "execute_result"
    }
   ],
   "source": [
    "# Reset the index\n",
    "df.reset_index(0)  # Note that the old index is added as a new column"
   ]
  },
  {
   "cell_type": "code",
   "execution_count": null,
   "metadata": {},
   "outputs": [],
   "source": []
  }
 ],
 "metadata": {
  "kernelspec": {
   "display_name": "Python 3",
   "language": "python",
   "name": "python3"
  },
  "language_info": {
   "codemirror_mode": {
    "name": "ipython",
    "version": 3
   },
   "file_extension": ".py",
   "mimetype": "text/x-python",
   "name": "python",
   "nbconvert_exporter": "python",
   "pygments_lexer": "ipython3",
   "version": "3.7.0"
  }
 },
 "nbformat": 4,
 "nbformat_minor": 2
}
