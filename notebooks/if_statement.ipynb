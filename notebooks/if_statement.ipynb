{
 "cells": [
  {
   "cell_type": "markdown",
   "metadata": {},
   "source": [
    "# If Statements\n",
    "\n",
    "The `if` statements play a fundamental role controlling the logical flow of the code. A sequence of decision rules instruct the computer to execut specific commands. `If` statements evaluate whether a condition is `True` or `False`, and at that point the code bifurcates. Sometimes there are multiple conditions as part of a single `if` statement, in which the code could branch into many different options.\n"
   ]
  },
  {
   "cell_type": "code",
   "execution_count": 1,
   "metadata": {},
   "outputs": [
    {
     "name": "stdout",
     "output_type": "stream",
     "text": [
      "It's freezing outside\n"
     ]
    }
   ],
   "source": [
    "## Trivial example\n",
    "T_air = -4 # degrees Celsius\n",
    "\n",
    "if T_air <= 0:\n",
    "    print(\"It's freezing outside\")\n",
    "elif T_air > 0 and T_air <= 15:\n",
    "    print(\"It's cool outside\")\n",
    "\n",
    "elif T_air > 15 and T_air <30:\n",
    "    print(\"It's nice outside\")\n",
    "\n",
    "else:\n",
    "    print(\"It's too hot outside\")"
   ]
  },
  {
   "cell_type": "markdown",
   "metadata": {},
   "source": [
    ">`if` statements allow us to include multiple options using the `elif` (else if) keyword accompained by a conditional statement. \n"
   ]
  },
  {
   "cell_type": "markdown",
   "metadata": {},
   "source": [
    "## Odd or even?\n",
    "\n",
    "A simple exercise to learn the basic structure of `If` staments is to compute and print whether a given number is odd or even. Even numbers are divisible by 2 with a reminder of zero whereas odd numbers are not divisible by 2 and have remainder greater than zero. To perform this operation we can use the Python `modulo` operator, which represented by `%`."
   ]
  },
  {
   "cell_type": "code",
   "execution_count": 16,
   "metadata": {},
   "outputs": [
    {
     "name": "stdout",
     "output_type": "stream",
     "text": [
      "Number is even\n"
     ]
    }
   ],
   "source": [
    "# If and Else statement\n",
    "value = 8\n",
    "\n",
    "if value % 2 == 0:\n",
    "    print('Number is even')\n",
    "else:\n",
    "    print('Number is odd')\n"
   ]
  },
  {
   "cell_type": "markdown",
   "metadata": {},
   "source": [
    "Using the same code within a `for loop` we can easily check all the numbers from one to ten."
   ]
  },
  {
   "cell_type": "code",
   "execution_count": 35,
   "metadata": {},
   "outputs": [
    {
     "name": "stdout",
     "output_type": "stream",
     "text": [
      "Number 1 is odd\n",
      "Number 2 is even\n",
      "Number 3 is odd\n",
      "Number 4 is even\n",
      "Number 5 is odd\n",
      "Number 6 is even\n",
      "Number 7 is odd\n",
      "Number 8 is even\n",
      "Number 9 is odd\n",
      "Number 10 is even\n"
     ]
    }
   ],
   "source": [
    "for value in range(1,11):\n",
    "    if value % 2 == 0:\n",
    "        print('Number',value,'is even')\n",
    "    else:\n",
    "        print('Number',value,'is odd')\n",
    "        "
   ]
  }
 ],
 "metadata": {
  "kernelspec": {
   "display_name": "Python 3",
   "language": "python",
   "name": "python3"
  },
  "language_info": {
   "codemirror_mode": {
    "name": "ipython",
    "version": 3
   },
   "file_extension": ".py",
   "mimetype": "text/x-python",
   "name": "python",
   "nbconvert_exporter": "python",
   "pygments_lexer": "ipython3",
   "version": "3.7.6"
  }
 },
 "nbformat": 4,
 "nbformat_minor": 4
}
