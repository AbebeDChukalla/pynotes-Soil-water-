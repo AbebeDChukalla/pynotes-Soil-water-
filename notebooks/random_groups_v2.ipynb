{
 "cells": [
  {
   "cell_type": "markdown",
   "metadata": {},
   "source": [
    "# Random group generator v2\n",
    "\n",
    "This script groups a set of students into n groups with a maximum of k randomly selected members per group."
   ]
  },
  {
   "cell_type": "code",
   "execution_count": 1,
   "metadata": {},
   "outputs": [],
   "source": [
    "import numpy as np"
   ]
  },
  {
   "cell_type": "code",
   "execution_count": 2,
   "metadata": {},
   "outputs": [],
   "source": [
    "names_list = [\n",
    "'Albert Einstein',\n",
    "'Hendrik Lorentz',\n",
    "'Enrico Fermi',\n",
    "'Peter Higgs',\n",
    "'Richard Phillips Feynman',\n",
    "'Niels Bohr',\n",
    "'Antoine Henri Becquerel',\n",
    "'Gustav Hertz',\n",
    "'Ernest Lawrence',\n",
    "'Wilhelm Conrad Röntgen',\n",
    "'Paul Dirac'\n",
    "]\n"
   ]
  },
  {
   "cell_type": "code",
   "execution_count": 3,
   "metadata": {},
   "outputs": [
    {
     "name": "stdout",
     "output_type": "stream",
     "text": [
      "Group: 1: Paul Dirac\n",
      "Group: 1: Richard Phillips Feynman\n",
      "Group: 1: Wilhelm Conrad Röntgen\n",
      "Group: 2: Enrico Fermi\n",
      "Group: 2: Hendrik Lorentz\n",
      "Group: 2: Ernest Lawrence\n",
      "Group: 3: Niels Bohr\n",
      "Group: 3: Gustav Hertz\n",
      "Group: 3: Antoine Henri Becquerel\n",
      "Group: 4: Albert Einstein\n",
      "Group: 4: Peter Higgs\n"
     ]
    }
   ],
   "source": [
    "# Number of students\n",
    "\n",
    "kmembers = 3\n",
    "N = len(names_list)\n",
    "ngroups = np.ceil(N/kmembers)\n",
    "groups = []\n",
    "\n",
    "# Generate array of groups (as integers), with a maximum number of kmembers per group\n",
    "for i in range(int(ngroups)):\n",
    "    groups = np.append(groups,np.ones(kmembers)*i+1).astype(int)\n",
    "\n",
    "# Shuffle the group numbers\n",
    "np.random.shuffle(names_list)\n",
    "\n",
    "for i in range(0,len(names_list)):\n",
    "    print('Group: ' + str(int(groups[i])) + ': ' + names_list[i])\n"
   ]
  }
 ],
 "metadata": {
  "kernelspec": {
   "display_name": "Python 3",
   "language": "python",
   "name": "python3"
  },
  "language_info": {
   "codemirror_mode": {
    "name": "ipython",
    "version": 3
   },
   "file_extension": ".py",
   "mimetype": "text/x-python",
   "name": "python",
   "nbconvert_exporter": "python",
   "pygments_lexer": "ipython3",
   "version": "3.7.0"
  }
 },
 "nbformat": 4,
 "nbformat_minor": 2
}
