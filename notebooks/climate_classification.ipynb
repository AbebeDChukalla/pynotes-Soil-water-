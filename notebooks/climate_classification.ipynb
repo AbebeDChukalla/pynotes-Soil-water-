{
 "cells": [
  {
   "cell_type": "markdown",
   "metadata": {},
   "source": [
    "## Climate Classification\n",
    "\n",
    "A simple way of characterizing the different regions of our planet is by computing the ratio between the annual precipitation and the atmospheric demand. The smaller the ratio, the drier the place. The Aridity Index (AI) is used by the United Nations Environmental Program (UNEP) to classify environments based on the annual climate. The Aridity Index has gone through many versions and is currently defined by the Food and Agriculture Organization (FAO) as:\n",
    "\n",
    "$$ AI = \\frac{P}{PET}  $$\n",
    "\n",
    "where $P$ is the annual precipitation and $PET$ is the annual cummulative potential evapotranspiration.\n",
    "\n",
    "\n",
    "Table of climate classification according to the aridity index defined by the FAO\n",
    "```\n",
    "| Climate class |       Value      |\n",
    "|---------------|------------------|\n",
    "| Desert        |        AI ≤ 0.03 |\n",
    "| Hyper-arid    | 0.03 < AI ≤ 0.05 |\n",
    "| Arid          | 0.05 < AI ≤ 0.20 |\n",
    "| Semi-arid     | 0.20 < AI ≤ 0.50 |\n",
    "| Dry           | 0.50 < AI ≤ 0.65 |\n",
    "| Sub-humid     | 0.65 < AI ≤ 0.75 |\n",
    "| Humid         |        AI > 0.75 |\n",
    "```\n"
   ]
  },
  {
   "cell_type": "code",
   "execution_count": null,
   "metadata": {},
   "outputs": [],
   "source": [
    "# Define annual precipitation and atmospheric demand for a location\n",
    "P = 1000   # mm per year\n",
    "PET = 1800 # mm per year\n"
   ]
  },
  {
   "cell_type": "code",
   "execution_count": 1,
   "metadata": {},
   "outputs": [
    {
     "name": "stdout",
     "output_type": "stream",
     "text": [
      "Climate classification is: Dry (AI=0.56)\n"
     ]
    }
   ],
   "source": [
    "#Compute Aridity Index\n",
    "AI = P/PET\n",
    "\n",
    "# Find climate class\n",
    "if AI <= 0.03:\n",
    "    climate_class = 'Desert'\n",
    "    \n",
    "elif AI > 0.03 and AI <= 0.05:\n",
    "    climate_class = 'Hyper-arid'\n",
    "    \n",
    "elif AI > 0.05 and AI <= 0.2:\n",
    "    climate_class = 'Arid'\n",
    "\n",
    "elif AI > 0.2 and AI <= 0.5:\n",
    "    climate_class = 'Semi-arid'\n",
    "\n",
    "elif AI > 0.5 and AI <= 0.65:\n",
    "    climate_class = 'Dry'\n",
    "    \n",
    "elif AI > 0.65 and AI <= 0.75:\n",
    "    climate_class = 'Sub-humid'\n",
    "    \n",
    "else:\n",
    "    climate_class = 'Humid'\n",
    "    \n",
    "print('Climate classification is:',climate_class,'(AI='+str(round(AI,2))+')')\n"
   ]
  },
  {
   "cell_type": "markdown",
   "metadata": {},
   "source": [
    "## References\n",
    "\n",
    "Spinoni, J., Vogt, J., Naumann, G., Carrao, H. and Barbosa, P., 2015. Towards identifying areas at climatological risk of desertification using the Köppen–Geiger classification and FAO aridity index. International Journal of Climatology, 35(9), pp.2210-2222."
   ]
  }
 ],
 "metadata": {
  "kernelspec": {
   "display_name": "Python 3",
   "language": "python",
   "name": "python3"
  },
  "language_info": {
   "codemirror_mode": {
    "name": "ipython",
    "version": 3
   },
   "file_extension": ".py",
   "mimetype": "text/x-python",
   "name": "python",
   "nbconvert_exporter": "python",
   "pygments_lexer": "ipython3",
   "version": "3.7.6"
  }
 },
 "nbformat": 4,
 "nbformat_minor": 4
}
