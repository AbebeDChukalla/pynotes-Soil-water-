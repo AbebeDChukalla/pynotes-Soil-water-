{
 "cells": [
  {
   "cell_type": "code",
   "execution_count": null,
   "metadata": {},
   "outputs": [],
   "source": [
    "img_drop_name = '/Users/andrespatrignani/Dropbox/Teaching/Environmental soil physics/Spring 2017/Contact angle/S20170104_030.jpg'\n",
    "img_drop = np.single(mpimg.imread(img_drop_name))\n",
    "blue_band = img_drop[:,:,2]\n",
    "plt.imshow(blue_band)"
   ]
  }
 ],
 "metadata": {
  "kernelspec": {
   "display_name": "Python 3",
   "language": "python",
   "name": "python3"
  },
  "language_info": {
   "codemirror_mode": {
    "name": "ipython",
    "version": 3
   },
   "file_extension": ".py",
   "mimetype": "text/x-python",
   "name": "python",
   "nbconvert_exporter": "python",
   "pygments_lexer": "ipython3",
   "version": "3.7.0"
  }
 },
 "nbformat": 4,
 "nbformat_minor": 2
}
