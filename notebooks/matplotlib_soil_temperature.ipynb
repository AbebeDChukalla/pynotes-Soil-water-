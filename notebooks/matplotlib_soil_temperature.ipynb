{
 "cells": [
  {
   "cell_type": "code",
   "execution_count": 2,
   "metadata": {},
   "outputs": [],
   "source": [
    "import pandas as pd\n",
    "import numpy as np\n",
    "import matplotlib.pyplot as plt\n",
    "%matplotlib inline"
   ]
  },
  {
   "cell_type": "code",
   "execution_count": 3,
   "metadata": {},
   "outputs": [],
   "source": [
    "dirname = '/Users/andrespatrignani/Dropbox/Teaching/Scientific programming/introcoding-spring-2019/Datasets/'\n",
    "filename = 'fargo_hourly_deep_soil_temperature.csv'\n"
   ]
  },
  {
   "cell_type": "code",
   "execution_count": 30,
   "metadata": {},
   "outputs": [
    {
     "data": {
      "text/html": [
       "<div>\n",
       "<style scoped>\n",
       "    .dataframe tbody tr th:only-of-type {\n",
       "        vertical-align: middle;\n",
       "    }\n",
       "\n",
       "    .dataframe tbody tr th {\n",
       "        vertical-align: top;\n",
       "    }\n",
       "\n",
       "    .dataframe thead th {\n",
       "        text-align: right;\n",
       "    }\n",
       "</style>\n",
       "<table border=\"1\" class=\"dataframe\">\n",
       "  <thead>\n",
       "    <tr style=\"text-align: right;\">\n",
       "      <th></th>\n",
       "      <th>station</th>\n",
       "      <th>time_cst</th>\n",
       "      <th>T5cm</th>\n",
       "      <th>T10cm</th>\n",
       "      <th>T20cm</th>\n",
       "      <th>T30cm</th>\n",
       "      <th>T40cm</th>\n",
       "      <th>T50cm</th>\n",
       "      <th>T60cm</th>\n",
       "      <th>T80cm</th>\n",
       "      <th>T100cm</th>\n",
       "      <th>T125cm</th>\n",
       "      <th>T150cm</th>\n",
       "      <th>T175cm</th>\n",
       "      <th>T200cm</th>\n",
       "      <th>T225cm</th>\n",
       "    </tr>\n",
       "  </thead>\n",
       "  <tbody>\n",
       "    <tr>\n",
       "      <th>0</th>\n",
       "      <td>Fargo</td>\n",
       "      <td>10/2/14 12:00</td>\n",
       "      <td>18.09</td>\n",
       "      <td>15.36</td>\n",
       "      <td>14.49</td>\n",
       "      <td>14.64</td>\n",
       "      <td>14.71</td>\n",
       "      <td>14.68</td>\n",
       "      <td>14.60</td>\n",
       "      <td>14.28</td>\n",
       "      <td>13.96</td>\n",
       "      <td>13.43</td>\n",
       "      <td>12.92</td>\n",
       "      <td>12.37</td>\n",
       "      <td>11.66</td>\n",
       "      <td>11.16</td>\n",
       "    </tr>\n",
       "    <tr>\n",
       "      <th>1</th>\n",
       "      <td>Fargo</td>\n",
       "      <td>10/2/14 13:00</td>\n",
       "      <td>18.96</td>\n",
       "      <td>16.08</td>\n",
       "      <td>14.70</td>\n",
       "      <td>14.66</td>\n",
       "      <td>14.72</td>\n",
       "      <td>14.68</td>\n",
       "      <td>14.60</td>\n",
       "      <td>14.25</td>\n",
       "      <td>13.92</td>\n",
       "      <td>13.38</td>\n",
       "      <td>12.86</td>\n",
       "      <td>12.30</td>\n",
       "      <td>11.66</td>\n",
       "      <td>11.15</td>\n",
       "    </tr>\n",
       "    <tr>\n",
       "      <th>2</th>\n",
       "      <td>Fargo</td>\n",
       "      <td>10/2/14 14:00</td>\n",
       "      <td>18.59</td>\n",
       "      <td>16.45</td>\n",
       "      <td>14.89</td>\n",
       "      <td>14.70</td>\n",
       "      <td>14.72</td>\n",
       "      <td>14.65</td>\n",
       "      <td>14.56</td>\n",
       "      <td>14.20</td>\n",
       "      <td>13.85</td>\n",
       "      <td>13.30</td>\n",
       "      <td>12.78</td>\n",
       "      <td>12.22</td>\n",
       "      <td>11.65</td>\n",
       "      <td>11.10</td>\n",
       "    </tr>\n",
       "    <tr>\n",
       "      <th>3</th>\n",
       "      <td>Fargo</td>\n",
       "      <td>10/2/14 15:00</td>\n",
       "      <td>19.82</td>\n",
       "      <td>17.01</td>\n",
       "      <td>15.10</td>\n",
       "      <td>14.73</td>\n",
       "      <td>14.71</td>\n",
       "      <td>14.65</td>\n",
       "      <td>14.54</td>\n",
       "      <td>14.18</td>\n",
       "      <td>13.80</td>\n",
       "      <td>13.26</td>\n",
       "      <td>12.71</td>\n",
       "      <td>12.12</td>\n",
       "      <td>11.65</td>\n",
       "      <td>11.13</td>\n",
       "    </tr>\n",
       "    <tr>\n",
       "      <th>4</th>\n",
       "      <td>Fargo</td>\n",
       "      <td>10/2/14 16:00</td>\n",
       "      <td>19.09</td>\n",
       "      <td>17.14</td>\n",
       "      <td>15.24</td>\n",
       "      <td>14.74</td>\n",
       "      <td>14.68</td>\n",
       "      <td>14.59</td>\n",
       "      <td>14.49</td>\n",
       "      <td>14.10</td>\n",
       "      <td>13.73</td>\n",
       "      <td>13.14</td>\n",
       "      <td>12.60</td>\n",
       "      <td>11.97</td>\n",
       "      <td>11.64</td>\n",
       "      <td>11.08</td>\n",
       "    </tr>\n",
       "  </tbody>\n",
       "</table>\n",
       "</div>"
      ],
      "text/plain": [
       "  station       time_cst   T5cm  T10cm  T20cm  T30cm  T40cm  T50cm  T60cm  \\\n",
       "0   Fargo  10/2/14 12:00  18.09  15.36  14.49  14.64  14.71  14.68  14.60   \n",
       "1   Fargo  10/2/14 13:00  18.96  16.08  14.70  14.66  14.72  14.68  14.60   \n",
       "2   Fargo  10/2/14 14:00  18.59  16.45  14.89  14.70  14.72  14.65  14.56   \n",
       "3   Fargo  10/2/14 15:00  19.82  17.01  15.10  14.73  14.71  14.65  14.54   \n",
       "4   Fargo  10/2/14 16:00  19.09  17.14  15.24  14.74  14.68  14.59  14.49   \n",
       "\n",
       "   T80cm  T100cm  T125cm  T150cm  T175cm  T200cm  T225cm  \n",
       "0  14.28   13.96   13.43   12.92   12.37   11.66   11.16  \n",
       "1  14.25   13.92   13.38   12.86   12.30   11.66   11.15  \n",
       "2  14.20   13.85   13.30   12.78   12.22   11.65   11.10  \n",
       "3  14.18   13.80   13.26   12.71   12.12   11.65   11.13  \n",
       "4  14.10   13.73   13.14   12.60   11.97   11.64   11.08  "
      ]
     },
     "execution_count": 30,
     "metadata": {},
     "output_type": "execute_result"
    }
   ],
   "source": [
    "df = pd.read_csv(dirname + filename)\n",
    "df.head(5)\n"
   ]
  },
  {
   "cell_type": "code",
   "execution_count": 31,
   "metadata": {},
   "outputs": [
    {
     "name": "stdout",
     "output_type": "stream",
     "text": [
      "<class 'str'>\n",
      "<class 'numpy.float64'>\n"
     ]
    }
   ],
   "source": [
    "print(type(df.time_cst[0]))\n",
    "print(type(df.T5cm[0]))\n"
   ]
  },
  {
   "cell_type": "code",
   "execution_count": 32,
   "metadata": {},
   "outputs": [
    {
     "name": "stdout",
     "output_type": "stream",
     "text": [
      "<class 'pandas._libs.tslibs.timestamps.Timestamp'>\n"
     ]
    }
   ],
   "source": [
    "df.time_cst = pd.to_datetime(df.time_cst)\n",
    "print(type(df.time_cst[0]))"
   ]
  },
  {
   "cell_type": "code",
   "execution_count": 33,
   "metadata": {},
   "outputs": [
    {
     "data": {
      "text/html": [
       "<div>\n",
       "<style scoped>\n",
       "    .dataframe tbody tr th:only-of-type {\n",
       "        vertical-align: middle;\n",
       "    }\n",
       "\n",
       "    .dataframe tbody tr th {\n",
       "        vertical-align: top;\n",
       "    }\n",
       "\n",
       "    .dataframe thead th {\n",
       "        text-align: right;\n",
       "    }\n",
       "</style>\n",
       "<table border=\"1\" class=\"dataframe\">\n",
       "  <thead>\n",
       "    <tr style=\"text-align: right;\">\n",
       "      <th></th>\n",
       "      <th>station</th>\n",
       "      <th>time_cst</th>\n",
       "      <th>T5cm</th>\n",
       "      <th>T10cm</th>\n",
       "      <th>T20cm</th>\n",
       "      <th>T30cm</th>\n",
       "      <th>T40cm</th>\n",
       "      <th>T50cm</th>\n",
       "      <th>T60cm</th>\n",
       "      <th>T80cm</th>\n",
       "      <th>T100cm</th>\n",
       "      <th>T125cm</th>\n",
       "      <th>T150cm</th>\n",
       "      <th>T175cm</th>\n",
       "      <th>T200cm</th>\n",
       "      <th>T225cm</th>\n",
       "    </tr>\n",
       "  </thead>\n",
       "  <tbody>\n",
       "    <tr>\n",
       "      <th>0</th>\n",
       "      <td>Fargo</td>\n",
       "      <td>2014-10-02 12:00:00</td>\n",
       "      <td>18.09</td>\n",
       "      <td>15.36</td>\n",
       "      <td>14.49</td>\n",
       "      <td>14.64</td>\n",
       "      <td>14.71</td>\n",
       "      <td>14.68</td>\n",
       "      <td>14.60</td>\n",
       "      <td>14.28</td>\n",
       "      <td>13.96</td>\n",
       "      <td>13.43</td>\n",
       "      <td>12.92</td>\n",
       "      <td>12.37</td>\n",
       "      <td>11.66</td>\n",
       "      <td>11.16</td>\n",
       "    </tr>\n",
       "    <tr>\n",
       "      <th>1</th>\n",
       "      <td>Fargo</td>\n",
       "      <td>2014-10-02 13:00:00</td>\n",
       "      <td>18.96</td>\n",
       "      <td>16.08</td>\n",
       "      <td>14.70</td>\n",
       "      <td>14.66</td>\n",
       "      <td>14.72</td>\n",
       "      <td>14.68</td>\n",
       "      <td>14.60</td>\n",
       "      <td>14.25</td>\n",
       "      <td>13.92</td>\n",
       "      <td>13.38</td>\n",
       "      <td>12.86</td>\n",
       "      <td>12.30</td>\n",
       "      <td>11.66</td>\n",
       "      <td>11.15</td>\n",
       "    </tr>\n",
       "    <tr>\n",
       "      <th>2</th>\n",
       "      <td>Fargo</td>\n",
       "      <td>2014-10-02 14:00:00</td>\n",
       "      <td>18.59</td>\n",
       "      <td>16.45</td>\n",
       "      <td>14.89</td>\n",
       "      <td>14.70</td>\n",
       "      <td>14.72</td>\n",
       "      <td>14.65</td>\n",
       "      <td>14.56</td>\n",
       "      <td>14.20</td>\n",
       "      <td>13.85</td>\n",
       "      <td>13.30</td>\n",
       "      <td>12.78</td>\n",
       "      <td>12.22</td>\n",
       "      <td>11.65</td>\n",
       "      <td>11.10</td>\n",
       "    </tr>\n",
       "    <tr>\n",
       "      <th>3</th>\n",
       "      <td>Fargo</td>\n",
       "      <td>2014-10-02 15:00:00</td>\n",
       "      <td>19.82</td>\n",
       "      <td>17.01</td>\n",
       "      <td>15.10</td>\n",
       "      <td>14.73</td>\n",
       "      <td>14.71</td>\n",
       "      <td>14.65</td>\n",
       "      <td>14.54</td>\n",
       "      <td>14.18</td>\n",
       "      <td>13.80</td>\n",
       "      <td>13.26</td>\n",
       "      <td>12.71</td>\n",
       "      <td>12.12</td>\n",
       "      <td>11.65</td>\n",
       "      <td>11.13</td>\n",
       "    </tr>\n",
       "    <tr>\n",
       "      <th>4</th>\n",
       "      <td>Fargo</td>\n",
       "      <td>2014-10-02 16:00:00</td>\n",
       "      <td>19.09</td>\n",
       "      <td>17.14</td>\n",
       "      <td>15.24</td>\n",
       "      <td>14.74</td>\n",
       "      <td>14.68</td>\n",
       "      <td>14.59</td>\n",
       "      <td>14.49</td>\n",
       "      <td>14.10</td>\n",
       "      <td>13.73</td>\n",
       "      <td>13.14</td>\n",
       "      <td>12.60</td>\n",
       "      <td>11.97</td>\n",
       "      <td>11.64</td>\n",
       "      <td>11.08</td>\n",
       "    </tr>\n",
       "  </tbody>\n",
       "</table>\n",
       "</div>"
      ],
      "text/plain": [
       "  station            time_cst   T5cm  T10cm  T20cm  T30cm  T40cm  T50cm  \\\n",
       "0   Fargo 2014-10-02 12:00:00  18.09  15.36  14.49  14.64  14.71  14.68   \n",
       "1   Fargo 2014-10-02 13:00:00  18.96  16.08  14.70  14.66  14.72  14.68   \n",
       "2   Fargo 2014-10-02 14:00:00  18.59  16.45  14.89  14.70  14.72  14.65   \n",
       "3   Fargo 2014-10-02 15:00:00  19.82  17.01  15.10  14.73  14.71  14.65   \n",
       "4   Fargo 2014-10-02 16:00:00  19.09  17.14  15.24  14.74  14.68  14.59   \n",
       "\n",
       "   T60cm  T80cm  T100cm  T125cm  T150cm  T175cm  T200cm  T225cm  \n",
       "0  14.60  14.28   13.96   13.43   12.92   12.37   11.66   11.16  \n",
       "1  14.60  14.25   13.92   13.38   12.86   12.30   11.66   11.15  \n",
       "2  14.56  14.20   13.85   13.30   12.78   12.22   11.65   11.10  \n",
       "3  14.54  14.18   13.80   13.26   12.71   12.12   11.65   11.13  \n",
       "4  14.49  14.10   13.73   13.14   12.60   11.97   11.64   11.08  "
      ]
     },
     "execution_count": 33,
     "metadata": {},
     "output_type": "execute_result"
    }
   ],
   "source": [
    "df.head(5)"
   ]
  },
  {
   "cell_type": "code",
   "execution_count": 45,
   "metadata": {},
   "outputs": [
    {
     "data": {
      "image/png": "[encoded data removed]",
      "text/plain": [
       "<Figure size 720x432 with 1 Axes>"
      ]
     },
     "metadata": {
      "needs_background": "light"
     },
     "output_type": "display_data"
    }
   ],
   "source": [
    "plt.figure(figsize=(10, 6))\n",
    "plt.plot(df.time_cst, df.T5cm)\n",
    "plt.ylabel('Soil Temperature')\n",
    "plt.show()"
   ]
  },
  {
   "cell_type": "code",
   "execution_count": 41,
   "metadata": {},
   "outputs": [
    {
     "data": {
      "text/plain": [
       "'8.230993383662744'"
      ]
     },
     "execution_count": 41,
     "metadata": {},
     "output_type": "execute_result"
    }
   ],
   "source": [
    "str(df.T5cm.mean())"
   ]
  }
 ],
 "metadata": {
  "kernelspec": {
   "display_name": "Python 3",
   "language": "python",
   "name": "python3"
  },
  "language_info": {
   "codemirror_mode": {
    "name": "ipython",
    "version": 3
   },
   "file_extension": ".py",
   "mimetype": "text/x-python",
   "name": "python",
   "nbconvert_exporter": "python",
   "pygments_lexer": "ipython3",
   "version": "3.7.0"
  }
 },
 "nbformat": 4,
 "nbformat_minor": 2
}
