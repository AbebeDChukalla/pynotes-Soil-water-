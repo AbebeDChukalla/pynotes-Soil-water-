{
 "cells": [
  {
   "cell_type": "markdown",
   "metadata": {},
   "source": [
    "# Integral Energy\n",
    "\n",
    "The integral energy approach proposed by Minasny and McBratney () aims at characterizing the total amount of work required to extract a given amount of water from the soil. This approach can be useful to better understand plant responses to soil water stress since it does not assume equal availability of water between two potentials like the traditional available water capacity approach.\n",
    "\n",
    "$$ E_i = \\int_{\\theta_i}^{\\theta_f} \\frac{1}{\\theta_i - \\theta_f} \\psi(\\theta) \\; d\\theta$$\n",
    "\n",
    "We will use the soil water retention model proposed by van Genuchten (1980) since it is the most familiar for students in soil science.\n"
   ]
  },
  {
   "cell_type": "code",
   "execution_count": 1,
   "metadata": {},
   "outputs": [],
   "source": [
    "# Import modules\n",
    "import numpy as np\n",
    "import matplotlib.pyplot as plt\n"
   ]
  },
  {
   "cell_type": "code",
   "execution_count": 7,
   "metadata": {},
   "outputs": [],
   "source": [
    "# Define soil water retention model\n",
    "model = lambda x, alpha, n, theta_r, theta_s: theta_r + (theta_s-theta_r)*(1+(alpha*x)**n)**-(1-1/n)\n"
   ]
  },
  {
   "cell_type": "code",
   "execution_count": 51,
   "metadata": {},
   "outputs": [],
   "source": [
    "# Range in matric potential\n",
    "fc = 10   # J/kg\n",
    "wp = 1500 # J/kg\n",
    "N = 10000\n",
    "matric = np.logspace(np.log10(fc), np.log10(wp), N)\n",
    "theta_clay = model(matric, 1.22, 1.34, 0.23, 0.64)\n",
    "theta_silty_clay = model(matric, 0.05, 1.1, 0, 0.42)\n"
   ]
  },
  {
   "cell_type": "code",
   "execution_count": 53,
   "metadata": {},
   "outputs": [
    {
     "name": "stdout",
     "output_type": "stream",
     "text": [
      "Clay at -10 J/kg: 0.4036316446192434\n",
      "Clay at -1500 J/kg: 0.2618820180889577\n"
     ]
    }
   ],
   "source": [
    "# Voluemtric water content values at filed capacity (-10 j/kg)\n",
    "print('Clay at -10 J/kg:', theta_clay[0])\n",
    "print('Clay at -1500 J/kg:', theta_clay[-1])\n"
   ]
  },
  {
   "cell_type": "code",
   "execution_count": 55,
   "metadata": {},
   "outputs": [
    {
     "name": "stdout",
     "output_type": "stream",
     "text": [
      "Silty-clay at -10 J/kg: 0.40563208021830816\n",
      "Silty-clay at -1500 J/kg: 0.2725227698750801\n"
     ]
    }
   ],
   "source": [
    "# Voluemtric water content values at filed capacity (-1500 j/kg)\n",
    "print('Silty-clay at -10 J/kg:', theta_silty_clay[0])\n",
    "print('Silty-clay at -1500 J/kg:', theta_silty_clay[-1])\n"
   ]
  },
  {
   "cell_type": "code",
   "execution_count": 56,
   "metadata": {},
   "outputs": [
    {
     "data": {
      "image/png": "[encoded data removed]",
      "text/plain": [
       "<Figure size 432x288 with 1 Axes>"
      ]
     },
     "metadata": {
      "needs_background": "light"
     },
     "output_type": "display_data"
    }
   ],
   "source": [
    "plt.plot(np.log10(matric), theta_clay, '--b', label='Clay')\n",
    "plt.plot(np.log10(matric), theta_silty_clay, '-k', label='Silty clay')\n",
    "plt.show()\n"
   ]
  },
  {
   "cell_type": "markdown",
   "metadata": {},
   "source": [
    "## Water Storage"
   ]
  },
  {
   "cell_type": "code",
   "execution_count": 57,
   "metadata": {},
   "outputs": [
    {
     "name": "stdout",
     "output_type": "stream",
     "text": [
      "0.2768349634688867\n"
     ]
    }
   ],
   "source": [
    "# Total storage clay between -10 and -1500 J/kg\n",
    "W_clay = 1/np.abs(fc - wp) * np.trapz(theta_clay, matric)\n",
    "print(W_clay)\n"
   ]
  },
  {
   "cell_type": "code",
   "execution_count": 58,
   "metadata": {},
   "outputs": [
    {
     "name": "stdout",
     "output_type": "stream",
     "text": [
      "0.3001711916723065\n"
     ]
    }
   ],
   "source": [
    "# Total storage silty clay between -10 and -1500 J/kg\n",
    "W_silty_clay = 1/np.abs(fc - wp) * np.trapz(theta_silty_clay, matric)\n",
    "print(W_silty_clay)\n"
   ]
  },
  {
   "cell_type": "markdown",
   "metadata": {},
   "source": [
    "## Energy"
   ]
  },
  {
   "cell_type": "code",
   "execution_count": 62,
   "metadata": {},
   "outputs": [
    {
     "data": {
      "text/plain": [
       "-167.17775885168777"
      ]
     },
     "execution_count": 62,
     "metadata": {},
     "output_type": "execute_result"
    }
   ],
   "source": [
    "# Integral energy\n",
    "theta_i = theta_clay[0]\n",
    "theta_f = theta_clay[-1]\n",
    "E_clay = 1/(theta_i - theta_f) * np.trapz(matric, x=theta_clay)\n",
    "E_clay\n"
   ]
  },
  {
   "cell_type": "code",
   "execution_count": 63,
   "metadata": {},
   "outputs": [
    {
     "data": {
      "text/plain": [
       "-319.49111201644075"
      ]
     },
     "execution_count": 63,
     "metadata": {},
     "output_type": "execute_result"
    }
   ],
   "source": [
    "theta_i = theta_silty_clay[0]\n",
    "theta_f = theta_silty_clay[-1]\n",
    "E_silty_clay = 1/(theta_i - theta_f) * np.trapz(matric, x=theta_silty_clay)\n",
    "E_silty_clay\n"
   ]
  }
 ],
 "metadata": {
  "kernelspec": {
   "display_name": "Python 3",
   "language": "python",
   "name": "python3"
  },
  "language_info": {
   "codemirror_mode": {
    "name": "ipython",
    "version": 3
   },
   "file_extension": ".py",
   "mimetype": "text/x-python",
   "name": "python",
   "nbconvert_exporter": "python",
   "pygments_lexer": "ipython3",
   "version": "3.7.6"
  }
 },
 "nbformat": 4,
 "nbformat_minor": 4
}
