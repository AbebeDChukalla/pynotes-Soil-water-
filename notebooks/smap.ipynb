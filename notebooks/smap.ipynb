{
 "cells": [
  {
   "cell_type": "code",
   "execution_count": null,
   "metadata": {},
   "outputs": [],
   "source": [
    "import os\n",
    "import h5py\n",
    "import pandas as pd\n",
    "\n",
    "def ge\n",
    "    cd(save_dir)\n",
    "    extension = '.h5';\n",
    "    existing_files = dir(['*',extension]);\n",
    "    existing_filenames = extractfield(existing_files,'name');\n",
    "\n",
    "    format_url = 'yyyy.mm.dd';\n",
    "    format_file = 'yyyymmdd';\n",
    "    dates_url = cellstr(datestr(datenum(start_date):datenum(end_date),format_url));\n",
    "    dates_file = cellstr(datestr(datenum(start_date):datenum(end_date),format_file));\n",
    "\n",
    "    % command = '/usr/local/bin/wget '; % Use with wget for ftp server (older version)\n",
    "    options = weboptions('Username','andrespatrignani','Password','M0disdownload');\n",
    "\n",
    "    for i=1:length(dates_url)\n",
    "        filename = ['SMAP_L4_SM_gph_',dates_file{i},'T013000_Vv2030_001',extension];\n",
    "        url = ['https://n5eil01u.ecs.nsidc.org/SMAP/SPL4SMGP.002/',dates_url{i},'/',filename];\n",
    "        if ~ismember(filename,existing_filenames)\n",
    "            %system([command,url,filename]) % Use with wget for ftp server (older version)\n",
    "            websave(filename,url,options);\n",
    "            msg{i,1} = [filename, 'successfully downloaded'];\n",
    "            disp(msg)\n",
    "        else\n",
    "            msg{i,1} = ['Existing file: ', filename, '. Skipping'];\n",
    "            disp(msg)\n",
    "        end\n",
    "    end\n",
    "\n",
    "def load_smap_L4(date):\n",
    "    # date format: yyyymmdd\n",
    "    # date example: 20160101\n",
    "    directory = '/Users/andrespatrignani/Dropbox/Maps/SMAP L4SMGP'\n",
    "    filename = 'SMAP_L4_SM_gph_' + date + 'T013000_Vv2030_001.h5'\n",
    "    os.chdir(directory)\n",
    "\n",
    "    with h5py.File(filename, mode='r') as f:\n",
    "        name = '/Geophysical_Data/sm_rootzone'\n",
    "        sm_rootzone = f[name][:] # Get soil moisture data\n",
    "        lat = f['/cell_lat'][:] # Get latitude\n",
    "        lon = f['/cell_lon'][:] # Get longitude\n",
    "    return lat, lon, sm_rootzone\n",
    "\n",
    "\n",
    "def smap_palette():\n",
    "    directory = '/Users/andrespatrignani/Dropbox/Maps'\n",
    "    os.chdir(directory)\n",
    "    smap_cmap = pd.read_csv('smap_cmap.txt',sep='\\t')\n",
    "    palette = []\n",
    "    for i in range(0,len(smap_cmap)):\n",
    "        palette.append('#%02x%02x%02x' % (smap_cmap.R[i], smap_cmap.G[i], smap_cmap.B[i]))\n",
    "    return palette\n"
   ]
  }
 ],
 "metadata": {
  "kernelspec": {
   "display_name": "Python 3",
   "language": "python",
   "name": "python3"
  },
  "language_info": {
   "codemirror_mode": {
    "name": "ipython",
    "version": 3
   },
   "file_extension": ".py",
   "mimetype": "text/x-python",
   "name": "python",
   "nbconvert_exporter": "python",
   "pygments_lexer": "ipython3",
   "version": "3.7.0"
  }
 },
 "nbformat": 4,
 "nbformat_minor": 2
}
