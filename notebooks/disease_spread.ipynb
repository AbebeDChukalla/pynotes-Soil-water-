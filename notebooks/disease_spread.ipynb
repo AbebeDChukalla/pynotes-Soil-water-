{
 "cells": [
  {
   "cell_type": "markdown",
   "metadata": {},
   "source": [
    "# Disease Spread\n",
    "\n",
    "With the outbreak of the *coronavirus* (COVID-19) in late 2019 and early 2020 there has been an increased interest in modeling the impacts of epidemic and pandemic. Live organisms, and particularly human beings, interact in cmplex ways and are highly dynamic, so trying to capture every movement, every surface touched, every contact between two or more individuals for every human being seems impossible. \n",
    "\n",
    "However, with the increasing number of georeferenced information about our commuting patterns, traffic congestions, maps of roads and subways, population demographics, improved weather observation and forecasts, and overall knowledge about human activity simulations are becoming increasingly more detailed.\n",
    "\n",
    "Incorporating these and many more variables, even for a small country, could take substantil computing power and an interdisciplinary group of scientists. In this exercise we will implement a simplistic simulation to analyze the impact of few paramters on the spread of a made-up disease within an arbitrary small population. We will take into account social distancing and rate at which individuals move. The goal is to learn how to implement simple interactions.\n",
    "\n",
    "The code below is by no means intended for research use, but it may serve as the basis for creating simple models with few individuals or animals, perhaps something like the spread of a disease within animals in a pasture.\n",
    "\n",
    "\n",
    "## Ground rules and code decisions\n",
    "\n",
    "- Dead people will be masked from computations by assigning a value of NaN (using `np.nan`).\n",
    "\n",
    "- During the computation of distance, self individuals will be assigned a value of Inf (using `np.inf`). \n",
    "\n",
    "- The model assumes an establish population with no birth rate.\n",
    "\n",
    "- The model does not considered the race, age, sex, or physical condition of the individuals.\n"
   ]
  },
  {
   "cell_type": "code",
   "execution_count": 40,
   "metadata": {},
   "outputs": [],
   "source": [
    "# Import modules\n",
    "import numpy as np\n",
    "import matplotlib.pyplot as plt\n",
    "import time\n",
    "from IPython.display import clear_output\n",
    "\n",
    "import warnings\n",
    "warnings.filterwarnings(\"ignore\",category =RuntimeWarning)\n"
   ]
  },
  {
   "cell_type": "code",
   "execution_count": 41,
   "metadata": {},
   "outputs": [],
   "source": [
    "# Define function to compute euclidean distance between individuals\n",
    "def edist(x,y):\n",
    "    df = np.kron(np.ones(N),[x,y]) - np.kron([x,y],np.ones(N)) # Compute differences using Kronecker product\n",
    "    E = np.sqrt(df[0]**2 + df[1]**2) # Compute Euclidean distance.\n",
    "    E = np.reshape(E,[N,N])\n",
    "    return E\n"
   ]
  },
  {
   "cell_type": "code",
   "execution_count": 127,
   "metadata": {},
   "outputs": [
    {
     "data": {
      "image/png": "[encoded data removed]",
      "text/plain": [
       "<Figure size 864x288 with 2 Axes>"
      ]
     },
     "metadata": {
      "needs_background": "light"
     },
     "output_type": "display_data"
    },
    {
     "name": "stdout",
     "output_type": "stream",
     "text": [
      "51\n"
     ]
    }
   ],
   "source": [
    "# Simulation space and time constraints\n",
    "xmin = 0      # Left system boundary\n",
    "xmax = 100    # Right system boundary\n",
    "ymin = 0      # Lower system boundary\n",
    "ymax = 100    # Upper system boundary\n",
    "T = 100       # Number of time steps\n",
    "\n",
    "# Existing population\n",
    "N = 50       # Number of live individuals\n",
    "live = np.ones(N, dtype=bool)\n",
    "dead = np.zeros(N, dtype=bool)\n",
    "\n",
    "# Initial health conditions\n",
    "normal = np.ones(N, dtype=bool)\n",
    "infected = np.zeros(N, dtype=bool)\n",
    "recovered = np.zeros(N, dtype=bool)\n",
    "\n",
    "# Initial positions and directions of live individuals\n",
    "x = np.random.uniform(xmin,xmax,N)\n",
    "y = np.random.uniform(ymin,ymax,N)\n",
    "theta = np.radians(np.random.uniform(0,360,N))\n",
    "\n",
    "# Compute percentage of people circulating\n",
    "activity_rate = np.ones(N)    \n",
    "fraction_static = 0.0  # Change this to keep people static (at home)\n",
    "static_individuals = np.random.randint(low=0, high=N, size=round(N*fraction_static))\n",
    "activity_rate[static_individuals] = 0 \n",
    "\n",
    "# Social distancing\n",
    "social_distance = 5 # arbitrary units\n",
    "\n",
    "# Death rate \n",
    "death_rate = 2/100\n",
    "\n",
    "# Initialize quanrentine time for infected\n",
    "quarentine_time = np.zeros(N)\n",
    "\n",
    "# Inoculate a small group of individuals\n",
    "infected_seeds = np.random.randint(low=0, high=N, size=5)\n",
    "infected[infected_seeds] = True\n",
    "normal[infected_seeds] = False\n",
    "\n",
    "# Initialize totals\n",
    "total_live = live.sum()\n",
    "total_dead = dead.sum()\n",
    "total_normal = normal.sum()\n",
    "total_infected = infected.sum()\n",
    "total_recovered = recovered.sum()\n",
    "\n",
    "# Start recursive iteration\n",
    "for t in range(1,T):\n",
    "   \n",
    "    # Compute next positions of individuals\n",
    "    x = x + activity_rate * np.cos(theta)\n",
    "    y = y + activity_rate * np.sin(theta)\n",
    "    \n",
    "    # Handle interaction with system boundaries.\n",
    "    idx_x = (x <= xmin) | (x >= xmax)\n",
    "    idx_y = (y <= ymin) | (y >= ymax)\n",
    "    idx_bnd = idx_x | idx_y\n",
    "\n",
    "    # Change trajectory angle if hit boundary\n",
    "    theta[idx_bnd] = np.random.uniform(0,360,np.sum(idx_bnd)) # np.abs(theta[idx_bnd] - 45) #\n",
    "    \n",
    "    # Determine whether two individuals come in contact\n",
    "    E = edist(x,y)\n",
    "    E[np.eye(N, dtype='bool')] = np.inf # Set selfs to inf to avoid being selected.\n",
    "    rows,cols = np.where(E <= social_distance)\n",
    "    #idx_contact = np.zeros(N, dtype=\"bool\")\n",
    "    #idx_contact[rows] = True\n",
    "    \n",
    "    # Change trajectory angle if contact between two people\n",
    "    #theta[idx_contact] = np.random.uniform(0,360,np.sum(idx_contact))\n",
    "\n",
    "    # New infected live individuals\n",
    "    idx_infected = infected[rows] | infected[cols]\n",
    "    infected[rows[idx_infected]] = True\n",
    "    normal[rows[idx_infected]] = False\n",
    "    \n",
    "    # Recovery of infected individuals that reached quarentine\n",
    "    quarentine_time[infected] += 1\n",
    "    idx_recovered = quarentine_time == 15\n",
    "    quarentine_time[idx_recovered] = 0\n",
    "    recovered[idx_recovered] = True\n",
    "    normal[idx_recovered] = False\n",
    "    infected[idx_recovered] = False\n",
    "    \n",
    "    # Remove dead individuals from population\n",
    "    idx_potential_dead = infected & (quarentine_time > 10)\n",
    "    daily_probability_dead = np.random.rand(N)\n",
    "    daily_probability_dead[~idx_potential_dead] = 0 # Unnecessary line, but left for completeness and logic\n",
    "    idx_dead = daily_probability_dead >= (1-death_rate)\n",
    "    dead[idx_dead] = True\n",
    "    \n",
    "    # Update live population counts\n",
    "    live[idx_dead] = False\n",
    "    infected[idx_dead] = False\n",
    "    recovered[idx_dead] = False\n",
    "    normal[idx_dead] = False\n",
    "    quarentine_time[idx_recovered] = np.nan\n",
    "    x[idx_dead] = np.nan\n",
    "    y[idx_dead] = np.nan\n",
    "    theta[idx_dead] = np.nan\n",
    "    \n",
    "    # Compute totals\n",
    "    total_live = np.append(total_live,live.sum())\n",
    "    total_dead = np.append(total_dead,dead.sum())\n",
    "    total_normal = np.append(total_normal,normal.sum())\n",
    "    total_infected = np.append(total_infected,infected.sum())\n",
    "    total_recovered = np.append(total_recovered,recovered.sum())\n",
    "    \n",
    "    # Plot chart with current positions and health\n",
    "    clear_output(wait=True)\n",
    "    plt.figure(figsize=(12,4))\n",
    "    plt.subplot(1,2,1)\n",
    "    plt.scatter(x[normal],y[normal],marker='o',facecolor='w',edgecolor='k',label='Normal')\n",
    "    plt.scatter(x[infected],y[infected],marker='o',facecolor='y',edgecolor='k',label='Infected')\n",
    "    plt.scatter(x[recovered],y[recovered],marker='o',facecolor='b',edgecolor='k',label='Recovered')\n",
    "    plt.legend(loc='upper center', bbox_to_anchor=(0.5,-0.1))\n",
    "    \n",
    "    # Set limits of the plot to improve rendering at the boundaries\n",
    "    plt.xlim(xmin-10,xmax+10)\n",
    "    plt.ylim(ymin-10,ymax+10)\n",
    "    \n",
    "    # Plot progression of health condition\n",
    "    plt.subplot(1,2,2)\n",
    "    plt.plot(range(t+1),total_infected, '-y',label='Infected')\n",
    "    plt.plot(range(t+1),total_recovered, '-b',label='Recovered')\n",
    "    plt.plot(range(t+1),total_dead, '-r',label='Dead')\n",
    "    plt.annotate(\"Initial population=\"+str(live.size), xy=(T+10,N/2), annotation_clip=False)\n",
    "    plt.annotate(\"Live population=\"+str(live.sum()), xy=(T+10,N/2.5), annotation_clip=False)\n",
    "    plt.xlim(0,T)\n",
    "    plt.ylim(0,N)\n",
    "    plt.legend(loc='upper right',bbox_to_anchor=(1.4,1))\n",
    "    plt.show()\n",
    "    print(normal.sum() + recovered.sum() + infected.sum() + dead.sum())\n",
    "    "
   ]
  },
  {
   "cell_type": "code",
   "execution_count": 131,
   "metadata": {},
   "outputs": [
    {
     "data": {
      "text/plain": [
       "1"
      ]
     },
     "execution_count": 131,
     "metadata": {},
     "output_type": "execute_result"
    }
   ],
   "source": [
    "np.sum(infected & recovered)"
   ]
  },
  {
   "cell_type": "code",
   "execution_count": 128,
   "metadata": {},
   "outputs": [
    {
     "name": "stdout",
     "output_type": "stream",
     "text": [
      "[False False False False False False False False False False False False\n",
      " False False False  True False False False False False False False False\n",
      " False False False False False False False False False False False False\n",
      " False False False False False False False False False False False False\n",
      " False False]\n",
      "[False False False False False False False False False False False False\n",
      " False False False False]\n"
     ]
    }
   ],
   "source": [
    "print(infected)\n",
    "print(idx_infected)"
   ]
  },
  {
   "cell_type": "code",
   "execution_count": 130,
   "metadata": {},
   "outputs": [
    {
     "name": "stdout",
     "output_type": "stream",
     "text": [
      "[ 1  4  6 12 13 14 17 23 25 35 37 37 38 40 43 48]\n",
      "[37 43 38 48 23 40 37 13 35 25  1 17  6 14  4 12]\n"
     ]
    }
   ],
   "source": [
    "print(rows)\n",
    "print(cols)"
   ]
  },
  {
   "cell_type": "code",
   "execution_count": 129,
   "metadata": {},
   "outputs": [
    {
     "data": {
      "text/plain": [
       "array([], dtype=int64)"
      ]
     },
     "execution_count": 129,
     "metadata": {},
     "output_type": "execute_result"
    }
   ],
   "source": [
    "rows[idx_infected]"
   ]
  },
  {
   "cell_type": "code",
   "execution_count": 107,
   "metadata": {},
   "outputs": [
    {
     "name": "stdout",
     "output_type": "stream",
     "text": [
      "[False  True  True False False  True]\n",
      "[False  True  True  True False False]\n",
      "[False  True  True False False  True]\n"
     ]
    }
   ],
   "source": [
    "print(infected[rows])\n",
    "print(infected[cols])\n",
    "print(infected[idx_contact])"
   ]
  }
 ],
 "metadata": {
  "kernelspec": {
   "display_name": "Python 3",
   "language": "python",
   "name": "python3"
  },
  "language_info": {
   "codemirror_mode": {
    "name": "ipython",
    "version": 3
   },
   "file_extension": ".py",
   "mimetype": "text/x-python",
   "name": "python",
   "nbconvert_exporter": "python",
   "pygments_lexer": "ipython3",
   "version": "3.7.6"
  }
 },
 "nbformat": 4,
 "nbformat_minor": 4
}
