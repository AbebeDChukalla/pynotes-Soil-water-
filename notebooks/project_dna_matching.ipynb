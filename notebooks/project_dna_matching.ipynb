{
 "cells": [
  {
   "cell_type": "markdown",
   "metadata": {},
   "source": [
    "# Challenge: DNA matching strand\n",
    "\n",
    "Write a function that finds the matching strand of a DNA sequence for *Saccharomyces cerevisiae* contained in the `dna_sequence.txt` file in the Datasets folder. This is an actual DNA sequence and you will need to handle the extra lines at the top of the file using Python. For this challenge I recommend sticking to the core Python module:\n",
    "`open('dna_sequence.txt').read().split('\\n')`. You can try Pandas if you want, but some steps might not be obvious at this point.\n",
    "\n",
    ">Do not alter the file by hand, this will violate the entire purpose of using coding to generate reproducible research.\n",
    "\n",
    "Use your knowledge of basic biology to match the DNA bases (i.e. A-T and C-G). For this exercise ignore potential base duplicates (e.g. G-G).\n",
    "\n",
    "## Submitting assignment\n",
    "\n",
    "**Option 1**. Upload the Jupyter Lab notebook directly using Canvas (preferred)\n",
    "\n",
    "**Option 2**. Send me the Jupyter Lab notebook via email (in case option 1 does not work).\n",
    "File name must be your first and last name, e.g. andrespatrignani.ipynb\n",
    "\n",
    "**Deadline is Monday, February 25 at 11:59 PM**\n",
    "\n",
    "\n",
    "## Notebook format\n",
    "\n",
    "For this challenge you need to submit your code in four different cells:\n",
    "\n",
    "**Cell 1**: Import modules\n",
    "\n",
    "**Cell 2**: Navigate to directory, load file, handle extra header lines in file\n",
    "\n",
    "**Cell 3**: Define `dnamatching` function\n",
    "\n",
    "**Cell 4**: Call the function and store function output into a variable. Avoid printing the output string in the final version since the DNA strand is long and will make the file hard to read.\n",
    "\n",
    "> Avoid navigating the directory and loading the file within the function. This way you will be able to use the function with files in different folders. Functions should be short and do something very specific.\n",
    "\n",
    " \n",
    "## Rules\n",
    "\n",
    "- Function name must be `dnamatching`\n",
    "\n",
    "- The function must accept a single, long `string` of DNA bases.\n",
    "\n",
    "- The function must return the matching DNA strand as a single, long `string` of DNA bases.\n",
    "\n",
    "- The function must not print the string\n",
    "\n",
    "- If you use a loop, you cannot use the range function\n",
    "\n",
    "- If the function finds an unknown base (e.g. U for Uracil), then the function must return a message and the unknown base. For instance, the message could look like this: `Unknown base found: U`. It's important to stop the function at this point and prevent execution of subsequent lines of code or loop iterations.\n",
    "\n",
    "- Function must have the following documentation:\n",
    "    - A brief description of the purpose of the function (20 words or less)\n",
    "    - A brief description about the format of the input variable\n",
    "    - Author's full name\n",
    "    - Date of creation\n",
    "\n",
    "\n",
    "## EXAMPLE\n",
    "\n",
    "Given the following input and function call:\n",
    "\n",
    "```python\n",
    "dna = 'GATCCTCCAT'\n",
    "dna_matching_strand = dnamatching(dna)\n",
    "```\n",
    "\n",
    "The result should be:\n",
    "\n",
    "    CTAGGAGGTA\n",
    "\n",
    "\n",
    "where \n",
    "\n",
    "```python\n",
    "print(type(dna_matching_strand))\n",
    "``` \n",
    "\n",
    "must be of class `string`."
   ]
  },
  {
   "cell_type": "markdown",
   "metadata": {},
   "source": [
    "## SKILLS\n",
    "\n",
    "- Directory navigation\n",
    "- Read text file and handle headers\n",
    "- Handle strings\n",
    "- For loop\n",
    "- If statement\n",
    "- Define and use function"
   ]
  },
  {
   "cell_type": "code",
   "execution_count": 5,
   "metadata": {},
   "outputs": [],
   "source": [
    "# Import modules\n",
    "import glob\n"
   ]
  },
  {
   "cell_type": "code",
   "execution_count": 8,
   "metadata": {},
   "outputs": [],
   "source": [
    "# Load and handle file\n",
    "dataset_dir = '/Users/andrespatrignani/Dropbox/Teaching/Scientific programming/introcoding-spring-2019/Datasets/'\n",
    "glob.os.chdir(dataset_dir)\n",
    "dna = open('dna_sequence.txt').read().split('\\n')\n",
    "dna = ''.join(dna[8:])\n"
   ]
  },
  {
   "cell_type": "code",
   "execution_count": 15,
   "metadata": {},
   "outputs": [],
   "source": [
    "# Define function\n",
    "def dnamatching(strand):\n",
    "    '''\n",
    "    Function that finds the matching strand of a sequence of DNA bases\n",
    "    Input: string of DNA bases\n",
    "    Author: Andres Patrignani\n",
    "    Date: 22-Feb-2019\n",
    "    '''\n",
    "    matching_strand = ''\n",
    "    for base in strand:\n",
    "        if base == 'A':\n",
    "            matching_strand += 'T'\n",
    "        elif base == 'T':\n",
    "            matching_strand += 'A'\n",
    "        elif base == 'C':\n",
    "            matching_strand += 'G'\n",
    "        elif base == 'G':\n",
    "            matching_strand += 'C'\n",
    "        else:\n",
    "            return print('Unknown base found:', base)\n",
    "        \n",
    "    return matching_strand"
   ]
  },
  {
   "cell_type": "code",
   "execution_count": 18,
   "metadata": {},
   "outputs": [
    {
     "name": "stdout",
     "output_type": "stream",
     "text": [
      "CTAGGAGGTATATGTTGCCATAGAGGTGGAGTCCAAATCTAGAGTTGTTGCCTTGGTAACGGCTGTACTCTGTCAATCCATAGCAGCTCTCAATGTTCGATTTTGCTCGTCATCAGTCGAGACGTAGACTTCGGCGACTTCAAGATGATTCCCACCTATTGTAGTAGGCACGTTCTGGTTCTTGGCGGTTATCTGTTGTATACATTGTATAAATCCTATATGGAGCTTTTATTATTTGGCGGTGTGACAGTAATAATATTAATCTTTGTCTTGCGTTTTTAATAGGTGATATATTAAGTTTCTGCGCTTTTTTTTTCTTGTTGCGCAGTATCTTGAAAACCGTTAAGCGCAGTGTTTATTTAAAACCGTTGAATACAAAGGAGAAGCTCGTCATGAGCTCGGGACAGAGTTCTTACATTATTATGGGTAGCATCCATACCAATTTCTATCGTAGAGGTGTTGGAGTTTCGAGGAACGGCTCTCAGCGGGAGGAAACAGCTCATTAAAAGTGAAAAGTATACTCTTGAATAAAAGAATAAGAAATGAGAGTGTAGGACATCACTAACTGTGACGTTGTCGGTGGTAGTGATCTTCTTGTCTTGTTAATGAATTATCTTTTTAATATAGAAGGAGCTTTGCTAAAGGACGAAGGTTGTAGATGCATATAGTTCTTCGTAAGTGAATGGTACTGTGTCGAAGTCTAAAGTAATAACGACTGTCGATGATATAGTGATGAGGTAGATCATCACCGGTGCGGGATACTCCGTATAGGATAGCCTTTTGTTATGGGGGGTCACCGTTCTCAGTTACTTAGCAAATGTAAAGTTTAAAGGTTACTATGGATATTTAGCAGACATCTGTTCTGTCGAGTTTATTGTATGTTAACGAAGCTGAATGGCTCGACCGAAAGCAAACTGAGATCAAGATCTTGCAAGAGTCCACTTGGAAGAAGACTGAATGATAGACTACGCTTGTGGTGCAACATAAAGTTACATTATGAGCTCCCATGCCTGAGACGGCTGTCGTGCAGAAACTTGTTATGTATGGTTAAACAACAATGTTTGGCAGGTAGGTAGAGCGATAGCAGTCTAAAGTTAGATAACCGCAACAATTTTTTGATACCAATATGATTGCCGTTTTTGCGAGACTTTGATCTAGGATTACTTCAGAAGTTGCACTGAAAACTGGCAAGTTACAAGTGATTGCTTCTTAGGTAACACAGCATAATGCCTGCAAGAGTCAACATATTACGCGGCAATGGGTTAACCGACAAGAAGCTAAGACCGCTCAACTTCAAATGACCCTGCCGTGGCCACTATTTGAGCCGCTAACGAGGTCTTTGTTCGATGTCAAAACAGTAGTAGCGATGTCTGTAACTTCCTAAAAGACGGCAACTCCATCTTAAGCTTAATCAGTAGCCCCGAGTGGTCAATTGATGGAGATAAGTTTTATCAAACTATTAGTTGCAATGACTGTGTCCATTGCAAAGTATACTGAATGGAGATTTGATACAAATAGAGCTACTGCTAGGATAAAGAAGACTATTTAACCCAAGATATTTGAATAACCTACGAGGTCTGACCCACCGTAATCTATTACGATGGTAAAGGCCCAGACAGGGTCTACTTAATGAGCCATTCTTGAGGTTAGGACGGTTAAAAAGACACAGGTAAATACTATGAATACCACTACACTAAATAAAGTTGAAGCTTCAACAGAGGTGTTGCCTAAACAAACGGTAATCAAGAGAAGGGTTATAATTGCGATGTTCCCCACTTACCAAGAGGATGATAAAAAACGGAAGAGTCAAATGTCTGATGCACTTATGTTTGCAAAGTAATCTCAAATGATTAAGTTCGGTTCTGGTACTGACCCACTTTAAGGTTAGTAGATTAAATTGTAATCGACCTCTTCACGGGTTCTTAAAGCTGTTCGAAAGTAATCCAAACTTTCGCTTGGTTCCAAGTGTTAGAGTTCTCGATATAAAATTGTAGTAACCGTACCTAAGTTTCTATTGAGTGAGTTTGGTGTCACGCTTACGTTGCAGGTGTTCTTCAAGAGTGGTGAGGTGGAGTTGTTCAAGAATGTGTAGAAGATGAATGTGACGTTTTTAAAGAAGATGGAGGCGACGACGATGAAGAAGACGAGGTCGTCGCGACGGTCGTCGGTTATTTTGAAGTAGAGTGTTATTTTTTCGTCATCGTTAACGCACGCCACAACGATAGGGTAATCCGCAATAGGATCATCGAGAGTAAACGAAGGATTATAAGACCTCTGCGTCTTCCCTTTTAGGTCTGCTACTTTTGAATGGCGTACGATAATCACCTGGACTAAACTTATTAGGACGTTTATTTGGTTTAGTTCTTTTGCGATGTGGAAACTTGTTGGGGAAACTACTACTACGAAGGAGCATGCTACTATGAAGTTATCGTTCTTCTAACCGACGAAACTTGTGAAACTTTAACCTATTGGTGAGACGGTGACTTAGACTATAAAGGTCGCACCTACTTTTCTCTCTAAGAGATAGTCCATACTTATGTATGTTACTAGTCAAGGTTAGGGTTTCATTTCTTCTTAATAATCGTTTTGGGGGTCATGTCGGAGGTCTCTCGGGCAAGAAACTGGGTGTCTTATCCAGAAGAAGACACATATACCTATCACTTGGTCGTCATTTATTTAGGACCGCTATATGACCGTTGGACAGTGGTCAGAGACTATAACAGTCTCTGTCAATGCCTAGTGTTTTTTGACAACTATGTCTTTTTGAAAAGCTAAATCTTCGTGGTCTCTTCCTTTTTGCATGCAGTTCCCTACAGTGATACAGAAGTGACCTGGGAACCTTGTCGTTATAATCGGGAAGAGGGCATTCTTTTAGTCATTGTGGTAGTGGTATATTGCATTGCTTCGTAGCATTGGCGGTGAATGTTTTATAAGTTCTGAGAGTTTCGCCATTTTTGCCTTAGTGAGGGTGTTGTTACAGTTGAAGTAGAAGACTGCTAAAACAAGGCCAATTTCTACCACTTTTAAAAACGACCCAGGTATCGTACCTTGGTCTGTCTTCTGGTTCATTCTTTTCCAATCATCTAAAAAGTTTATTCTCATTACAGTTACAACCAGTTCAATTCCTGTAAGTGCCTGCGTAGGGTCTTTACGACACTAATATGCGTTGCTATAAAACGAATTAAAATAAAAGGACAAAATAAAAAATAATCACCAAATGTCTATGGGATATAAAATAAATCAAAAATATGAATCTCTGTAAATTAAAATTAAGGTAAGAAGTTTAAAGTAAAAACGTGAATTTTGTTTCTAGGTTTTTACGAGAGCGGGAGAAGTATAACTCTTATGTGAGGTAAGTTTTAAAACAGCAGTGGCGACTAATTAAAAAGTGATTTGACTACTTATTAGTTTCCGGGGTGCAGTCTTGGCTGATTTCTTCACTCAAAATAAAATCCTCCAACTTTTGGTAATAACAGACCATTTAAAAGTAGAAGAACTGTAAATTGGGTCAAACTTAGGGAAAGTTAAAGACGAAAAAGGAGGTTTGATAGCTGGGAGGACAAAGACAGGTTGAATACAGGATCAAGGTTAAGCTAGCGTAATTATTGACGAAGTTTACAATAACACAGTAGCAACTGAAATCCATTAAAGAGGTTTACGTATTAGTTTGATAAATTCCTTCTAGCCTTAAGCAGCTTGTGAAGTCAAAGGCATTACTAGACTAGCAGAAATAGGTGTACAACATTAAGTGATTTTAGATTTTGCATAAAAAGTTACGTATTTAGCAAGAAAAATAATTATTACGTCTACCTTTTAGACATTTGCACGCAATTAAATCTTTCTTGTAGGTCATATTCAAGAAGATATATCAGTTAATTTCGTCCTACGGATAATTACCCTTGCTTGACGCCGTTCAACTTACTGACCATTCATCACATCAGCTTACTGACTCCACCCATATGTAAAGATATTTTATTTTAGTTTAATTACATCGTAAAATTCATATGGGAGTCGGTGAAGAGATGGGTAGATAAGTATTTCGACTGCGTTGCTAATGATAAAAAAAAAAGAAGAACCTAGAGTCAGCAGCGTTTTTGCATATGGAAGAAAAAGGCTGGAAAAAAAATCGAAAGACCTTTTCAAATATAATCAATTTGTCCCAGATCAGAATCACACTTTCGATCACCAAAGCTAACTGACTATAATTCTTTCACCTTTAATTTAATCATCACATCTGCATATACGTATACATAAAGAGCGGACAAATACAAAGATGCATGAAAACTAAATATCGTTCCCCTTTTCTTTATGTATGATAAAAAACCATTTCCACTTTCGTATTACATTTTCGATCTTATTTTACCTGCTTTATTTCTCTCCGAATCAAGTAGAAAAAAGGTTTTTCGTGGGTTACTATTATTGATTTTACTTTTCCTAAACGGTAGACAGTCGTTGTAGTCAACACACTCGTTATTATTTTAGTAGTGGAGGCAACGGAAATCGCGCAAACAGCAAACATAGAAGGCATTAAAATCAGAATAGTTACCCTTAGTATTTAAAAGGTTACTTAATCGTTAAAGCAGGTTAAGAAAAACTCGAAGAAGTATAAACGAAACCTTAAGAAGCGTGAAGAAAAGGGTAAGTAGAGAAAGAAGAAGGTTTCGTTGCTAGGAAGATGGGTAAACGAGTCTCAAGTTTAGCCGGAGAAAGTCAAATAGGTAACGAAGGAAGTCAAACCGAAGTGACAGAAGATCGACAACAAGATCTAGGACCAAAAAGAACCACATCAAGAGTAATAATCTAGAGTTCAATAACCTCAGAAGTCGGTTAACGAAACATAGTCTGTTAACTGAGAGATTGAAGAGGTGAAGTGACAGCTCAACGAGCAAAAATCGCCTGTTTCTAAATTAGAGCAAAAGAAAAAGTCACAATCTAACGAGATTAAGAAACTCGACAAGAGAGTCGAGGAGTATAAAAAGAACGGTACTGAGTCTAAGATTAAAATTCGATAAGTTAAAGAGAAACTAG\n",
      "<class 'str'>\n"
     ]
    }
   ],
   "source": [
    "# Call function\n",
    "dna_matching_strand = dnamatching(dna)\n",
    "\n",
    "print(dna_matching_strand)\n",
    "print(type(dna_matching_strand))"
   ]
  }
 ],
 "metadata": {
  "kernelspec": {
   "display_name": "Python 3",
   "language": "python",
   "name": "python3"
  },
  "language_info": {
   "codemirror_mode": {
    "name": "ipython",
    "version": 3
   },
   "file_extension": ".py",
   "mimetype": "text/x-python",
   "name": "python",
   "nbconvert_exporter": "python",
   "pygments_lexer": "ipython3",
   "version": "3.7.0"
  }
 },
 "nbformat": 4,
 "nbformat_minor": 2
}
