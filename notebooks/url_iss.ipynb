{
 "cells": [
  {
   "cell_type": "code",
   "execution_count": 1,
   "metadata": {},
   "outputs": [
    {
     "data": {
      "text/html": [
       "<div>\n",
       "<style scoped>\n",
       "    .dataframe tbody tr th:only-of-type {\n",
       "        vertical-align: middle;\n",
       "    }\n",
       "\n",
       "    .dataframe tbody tr th {\n",
       "        vertical-align: top;\n",
       "    }\n",
       "\n",
       "    .dataframe thead th {\n",
       "        text-align: right;\n",
       "    }\n",
       "</style>\n",
       "<table border=\"1\" class=\"dataframe\">\n",
       "  <thead>\n",
       "    <tr style=\"text-align: right;\">\n",
       "      <th></th>\n",
       "      <th>altitude</th>\n",
       "      <th>daynum</th>\n",
       "      <th>footprint</th>\n",
       "      <th>id</th>\n",
       "      <th>latitude</th>\n",
       "      <th>longitude</th>\n",
       "      <th>name</th>\n",
       "      <th>solar_lat</th>\n",
       "      <th>solar_lon</th>\n",
       "      <th>timestamp</th>\n",
       "      <th>units</th>\n",
       "      <th>velocity</th>\n",
       "      <th>visibility</th>\n",
       "    </tr>\n",
       "  </thead>\n",
       "  <tbody>\n",
       "    <tr>\n",
       "      <th>0</th>\n",
       "      <td>253.411496</td>\n",
       "      <td>2.457208e+06</td>\n",
       "      <td>2761.996387</td>\n",
       "      <td>25544</td>\n",
       "      <td>-24.870148</td>\n",
       "      <td>17.599508</td>\n",
       "      <td>iss</td>\n",
       "      <td>22.854651</td>\n",
       "      <td>283.220433</td>\n",
       "      <td>2015-07-04 17:11:32</td>\n",
       "      <td>miles</td>\n",
       "      <td>17148.554081</td>\n",
       "      <td>daylight</td>\n",
       "    </tr>\n",
       "    <tr>\n",
       "      <th>1</th>\n",
       "      <td>253.532703</td>\n",
       "      <td>2.457208e+06</td>\n",
       "      <td>2762.623498</td>\n",
       "      <td>25544</td>\n",
       "      <td>-25.344257</td>\n",
       "      <td>18.046637</td>\n",
       "      <td>iss</td>\n",
       "      <td>22.854641</td>\n",
       "      <td>283.178772</td>\n",
       "      <td>2015-07-04 17:11:42</td>\n",
       "      <td>miles</td>\n",
       "      <td>17148.247302</td>\n",
       "      <td>daylight</td>\n",
       "    </tr>\n",
       "  </tbody>\n",
       "</table>\n",
       "</div>"
      ],
      "text/plain": [
       "     altitude        daynum    footprint     id   latitude  longitude name  \\\n",
       "0  253.411496  2.457208e+06  2761.996387  25544 -24.870148  17.599508  iss   \n",
       "1  253.532703  2.457208e+06  2762.623498  25544 -25.344257  18.046637  iss   \n",
       "\n",
       "   solar_lat   solar_lon           timestamp  units      velocity visibility  \n",
       "0  22.854651  283.220433 2015-07-04 17:11:32  miles  17148.554081   daylight  \n",
       "1  22.854641  283.178772 2015-07-04 17:11:42  miles  17148.247302   daylight  "
      ]
     },
     "execution_count": 1,
     "metadata": {},
     "output_type": "execute_result"
    }
   ],
   "source": [
    "# API International Space Station\n",
    "import pandas as pd\n",
    "data = pd.read_json('https://api.wheretheiss.at/v1/satellites/25544/positions?timestamps=1436029892,1436029902&units=miles')\n",
    "data.head(5)\n"
   ]
  }
 ],
 "metadata": {
  "kernelspec": {
   "display_name": "Python 3",
   "language": "python",
   "name": "python3"
  },
  "language_info": {
   "codemirror_mode": {
    "name": "ipython",
    "version": 3
   },
   "file_extension": ".py",
   "mimetype": "text/x-python",
   "name": "python",
   "nbconvert_exporter": "python",
   "pygments_lexer": "ipython3",
   "version": "3.7.0"
  }
 },
 "nbformat": 4,
 "nbformat_minor": 2
}
