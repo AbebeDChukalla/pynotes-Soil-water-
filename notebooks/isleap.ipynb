{
 "cells": [
  {
   "cell_type": "markdown",
   "metadata": {},
   "source": [
    "ISLEAP returns true if the input year had 366 days and false otherwise.\n",
    "\n",
    "AP 2016 based on rule in Wikipedia: https://en.wikipedia.org/wiki/Leap_year\n",
    "Leap year meets the following criteria:\n",
    "\n",
    "Divisible by 4.       So rem(year,4)   = 0;\n",
    "Not divisible by 100. So rem(year,100) > 0;\n",
    "Divisible by 400.     So rem(year,400) = 0;\n",
    "\n",
    "In order to make the output of the rem function true we can use ~\n"
   ]
  },
  {
   "cell_type": "code",
   "execution_count": 12,
   "metadata": {},
   "outputs": [
    {
     "data": {
      "text/plain": [
       "False"
      ]
     },
     "execution_count": 12,
     "metadata": {},
     "output_type": "execute_result"
    }
   ],
   "source": [
    "year = 2011\n",
    "leap = (year%400 == 0 | year%100 > 0) & year%4 == 0\n",
    "leap\n"
   ]
  }
 ],
 "metadata": {
  "kernelspec": {
   "display_name": "Python 3",
   "language": "python",
   "name": "python3"
  },
  "language_info": {
   "codemirror_mode": {
    "name": "ipython",
    "version": 3
   },
   "file_extension": ".py",
   "mimetype": "text/x-python",
   "name": "python",
   "nbconvert_exporter": "python",
   "pygments_lexer": "ipython3",
   "version": "3.7.0"
  }
 },
 "nbformat": 4,
 "nbformat_minor": 2
}
