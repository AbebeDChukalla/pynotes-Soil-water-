{
 "cells": [
  {
   "cell_type": "markdown",
   "metadata": {},
   "source": [
    "# Day of the Year\n",
    "\n",
    "Script that calculates the day of the calendar year for the current date. The script outputs the DOY as an integer."
   ]
  },
  {
   "cell_type": "code",
   "execution_count": 2,
   "metadata": {},
   "outputs": [
    {
     "name": "stdout",
     "output_type": "stream",
     "text": [
      "107.50141303420138\n",
      "Day of the year: 107\n"
     ]
    }
   ],
   "source": [
    "import datetime\n",
    "import math\n",
    "\n",
    "\n",
    "current_date = datetime.datetime.now()\n",
    "# current_date = datetime.datetime(2019,1,1,12) # Unmute this line to compute DOY for any date\n",
    "date_one = datetime.datetime(current_date.year,1,1)\n",
    "date_diff = current_date - date_one; # Operations between datetime objects result in datetime objects\n",
    "\n",
    "doy_float = date_diff.total_seconds()/86400 # gives the doy with decimal places\n",
    "doy_int = math.floor(doy_float) # found that total_seconds is a method from the error of dateDiff.total_seconds\n",
    "\n",
    "print(doy_float)\n",
    "print('Day of the year: ' + str(doy_int))\n"
   ]
  },
  {
   "cell_type": "markdown",
   "metadata": {},
   "source": [
    "## Important points\n",
    "\n",
    "- The key idea here was to realize that Day of the Year is defined using 1-jan as the baseline.\n",
    "- Avoid hard coding variables.\n",
    "- When working with date and time, using total seconds can make some operations way easier"
   ]
  },
  {
   "cell_type": "markdown",
   "metadata": {},
   "source": [
    "> **Note** that adding a unit in `doy_float` makes sense if you just want to know the DOY in integer format. In its current state, the code will return `DOY=1` for `1-jan`, which is what we expect. If you also want to return the fraction of DOY, then you need to realize that 0.5 would 1-jan at noon. However, most applications demanding the DOY will assume that 1-jan is day 1 and not day 0. If this is waht you need, then directly working in seconds as a proxy for a serial data number might be the way to go."
   ]
  }
 ],
 "metadata": {
  "kernelspec": {
   "display_name": "Python 3",
   "language": "python",
   "name": "python3"
  },
  "language_info": {
   "codemirror_mode": {
    "name": "ipython",
    "version": 3
   },
   "file_extension": ".py",
   "mimetype": "text/x-python",
   "name": "python",
   "nbconvert_exporter": "python",
   "pygments_lexer": "ipython3",
   "version": "3.7.0"
  }
 },
 "nbformat": 4,
 "nbformat_minor": 2
}
