{
 "cells": [
  {
   "cell_type": "code",
   "execution_count": 181,
   "metadata": {},
   "outputs": [],
   "source": [
    "# Import modules\n",
    "import numpy as np\n",
    "import matplotlib.pyplot as plt\n",
    "import time\n",
    "from IPython.display import clear_output\n"
   ]
  },
  {
   "cell_type": "code",
   "execution_count": 183,
   "metadata": {},
   "outputs": [],
   "source": [
    "theta = 90\n",
    "theta = np.radians(90)\n",
    "x = 10 * np.cos(theta)\n",
    "y = 10 * np.sin(theta)\n"
   ]
  },
  {
   "cell_type": "code",
   "execution_count": 254,
   "metadata": {},
   "outputs": [
    {
     "data": {
      "image/png": "[encoded data removed]",
      "text/plain": [
       "<Figure size 432x288 with 1 Axes>"
      ]
     },
     "metadata": {
      "needs_background": "light"
     },
     "output_type": "display_data"
    }
   ],
   "source": [
    "# Initial conditions\n",
    "xmin = 0\n",
    "xmax = 10\n",
    "ymin = 0\n",
    "ymax = 10\n",
    "N = 15\n",
    "\n",
    "x = np.random.uniform(xmin,xmax,N)\n",
    "y = np.random.uniform(ymin,ymax,N)\n",
    "\n",
    "recovered = np.zeros(N, dtype=bool)\n",
    "infected = np.zeros(N, dtype=bool)\n",
    "quanretine_time = np.zeros(N)\n",
    "infected[0] = True\n",
    "theta = np.radians(np.random.uniform(0,360,N))\n",
    "\n",
    "for k in range(100):\n",
    "   \n",
    "    x = np.round(x + 0.1 * np.cos(theta),2)\n",
    "    y = np.round(y + 0.1 * np.sin(theta),2)\n",
    "    \n",
    "    E = edist(x,y)\n",
    "    rows,cols = np.where((E > 0) & (E < 0.1))\n",
    "    idx_collisions = np.zeros(N, dtype=\"bool\")\n",
    "    idx_collisions[rows] = True\n",
    "    \n",
    "    idx_x = (x <= xmin) | (x >= xmax)\n",
    "    idx_y = (y <= ymin) | (y >= ymax)\n",
    "    idx_bnd = idx_x | idx_y\n",
    "    idx = idx_bnd | idx_collisions\n",
    "    \n",
    "    idx_infected = idx_collisions & infected\n",
    "    infected[rows] = True\n",
    "    theta[idx] = np.random.uniform(0,360,np.sum(idx))\n",
    "\n",
    "    \n",
    "    #time.sleep(0.1)\n",
    "    clear_output(wait=True)\n",
    "    plt.scatter(x[~infected],y[~infected],marker='o',facecolor='w',edgecolor='k')\n",
    "    plt.scatter(x[infected],y[infected],marker='o',facecolor='r',edgecolor='k')\n",
    "\n",
    "    plt.xlim(xmin-1,xmax+1)\n",
    "    plt.ylim(ymin-1,ymax+1)\n",
    "    plt.show()\n",
    "    "
   ]
  },
  {
   "cell_type": "code",
   "execution_count": 250,
   "metadata": {},
   "outputs": [
    {
     "data": {
      "text/plain": [
       "array([[0.        , 2.14965113, 3.67642489, 7.45682238, 7.88124356],\n",
       "       [2.14965113, 0.        , 1.69673215, 6.77362532, 5.75675256],\n",
       "       [3.67642489, 1.69673215, 0.        , 7.63141533, 4.70507173],\n",
       "       [7.45682238, 6.77362532, 7.63141533, 0.        , 7.20273559],\n",
       "       [7.88124356, 5.75675256, 4.70507173, 7.20273559, 0.        ]])"
      ]
     },
     "execution_count": 250,
     "metadata": {},
     "output_type": "execute_result"
    }
   ],
   "source": [
    "edist(x,y)"
   ]
  },
  {
   "cell_type": "code",
   "execution_count": 242,
   "metadata": {},
   "outputs": [],
   "source": [
    "# Define function to compute euclidean distance\n",
    "def edist(x,y):\n",
    "    df = np.kron(np.ones(N),[x,y]) - np.kron([x,y],np.ones(N)) # Compute differences in each dimension using Kronecker product.\n",
    "    E = np.sqrt(df[0]**2 + df[1]**2) # Compute Euclidean distance.\n",
    "    E = np.reshape(E,[N,N])\n",
    "    return E\n"
   ]
  },
  {
   "cell_type": "code",
   "execution_count": 236,
   "metadata": {},
   "outputs": [
    {
     "data": {
      "text/plain": [
       "array([0.        , 4.80485171, 0.48507731, 2.73344105, 3.68663803,\n",
       "       4.80485171, 0.        , 4.88185416, 3.87537095, 6.04933881,\n",
       "       0.48507731, 4.88185416, 0.        , 3.16291005, 4.16924454,\n",
       "       2.73344105, 3.87537095, 3.16291005, 0.        , 2.18764714,\n",
       "       3.68663803, 6.04933881, 4.16924454, 2.18764714, 0.        ])"
      ]
     },
     "execution_count": 236,
     "metadata": {},
     "output_type": "execute_result"
    }
   ],
   "source": [
    "df = np.kron(np.ones(N),[x,y]) - np.kron([x,y],np.ones(N)) # Compute differences in each dimension using Kronecker product.\n",
    "E = np.sqrt(df[0]**2 + df[1]**2) # Compute Euclidean distance.\n",
    "E"
   ]
  },
  {
   "cell_type": "code",
   "execution_count": 237,
   "metadata": {},
   "outputs": [
    {
     "data": {
      "text/plain": [
       "array([[0.        , 4.80485171, 0.48507731, 2.73344105, 3.68663803],\n",
       "       [4.80485171, 0.        , 4.88185416, 3.87537095, 6.04933881],\n",
       "       [0.48507731, 4.88185416, 0.        , 3.16291005, 4.16924454],\n",
       "       [2.73344105, 3.87537095, 3.16291005, 0.        , 2.18764714],\n",
       "       [3.68663803, 6.04933881, 4.16924454, 2.18764714, 0.        ]])"
      ]
     },
     "execution_count": 237,
     "metadata": {},
     "output_type": "execute_result"
    }
   ],
   "source": [
    "E = np.reshape(E,[N,N])\n",
    "E"
   ]
  },
  {
   "cell_type": "code",
   "execution_count": 239,
   "metadata": {},
   "outputs": [
    {
     "data": {
      "text/plain": [
       "array([[False, False,  True, False, False],\n",
       "       [False, False, False, False, False],\n",
       "       [ True, False, False, False, False],\n",
       "       [False, False, False, False, False],\n",
       "       [False, False, False, False, False]])"
      ]
     },
     "execution_count": 239,
     "metadata": {},
     "output_type": "execute_result"
    }
   ],
   "source": [
    "idx = (E > 0) & (E < 1)\n",
    "idx"
   ]
  },
  {
   "cell_type": "code",
   "execution_count": 240,
   "metadata": {},
   "outputs": [
    {
     "name": "stdout",
     "output_type": "stream",
     "text": [
      "[0 2]\n",
      "[2 0]\n"
     ]
    }
   ],
   "source": [
    "rows,cols = np.where((E > 0) & (E < 2))\n",
    "print(rows)\n",
    "print(cols)"
   ]
  },
  {
   "cell_type": "code",
   "execution_count": 217,
   "metadata": {},
   "outputs": [
    {
     "name": "stdout",
     "output_type": "stream",
     "text": [
      "[5.91 7.12 5.43 8.45 9.48]\n",
      "[1.45 6.1  1.52 2.46 0.53]\n"
     ]
    }
   ],
   "source": [
    "print(x)\n",
    "print(y)"
   ]
  },
  {
   "cell_type": "code",
   "execution_count": 244,
   "metadata": {},
   "outputs": [
    {
     "data": {
      "text/plain": [
       "array([2, 0])"
      ]
     },
     "execution_count": 244,
     "metadata": {},
     "output_type": "execute_result"
    }
   ],
   "source": [
    "cols"
   ]
  }
 ],
 "metadata": {
  "kernelspec": {
   "display_name": "Python 3",
   "language": "python",
   "name": "python3"
  },
  "language_info": {
   "codemirror_mode": {
    "name": "ipython",
    "version": 3
   },
   "file_extension": ".py",
   "mimetype": "text/x-python",
   "name": "python",
   "nbconvert_exporter": "python",
   "pygments_lexer": "ipython3",
   "version": "3.7.6"
  }
 },
 "nbformat": 4,
 "nbformat_minor": 4
}
