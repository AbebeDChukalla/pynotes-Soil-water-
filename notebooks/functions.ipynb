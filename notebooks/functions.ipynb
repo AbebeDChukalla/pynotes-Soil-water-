{
 "cells": [
  {
   "cell_type": "markdown",
   "metadata": {},
   "source": [
    "# Fun Functions\n",
    "\n",
    "A short introduction to Python functions. In this tutorial we will learn the basic Python syntax including function declaration, inputs, outputs, and documentation (called docstring).\n",
    "\n",
    "Functions allow us to re-use code that does something specific. In simple terms, functions are snippets of code associated to a name, so that we can call them by their name everytime we need them. They are helpful to avoid repeating the same lines of code all over the program we are building. Functions also allow to reduce error and add documentation.\n",
    "\n",
    "Using an analogy, think of functions as a wrench or a screwdriver everytime you have to adjust a nut or tight up a screw. However, to use a wrench or screwdriver you first have to go and buy it at the hardware store. You can only use a tool that is at hand.\n",
    "\n",
    "So, to understand functions we need to split the process into two steps:\n",
    "\n",
    "**Step 1**: Create/Define the function\n",
    "\n",
    "**Step 2**: Use/Call the function\n"
   ]
  },
  {
   "cell_type": "code",
   "execution_count": 2,
   "metadata": {},
   "outputs": [
    {
     "data": {
      "text/plain": [
       "16"
      ]
     },
     "execution_count": 2,
     "metadata": {},
     "output_type": "execute_result"
    }
   ],
   "source": [
    "def squarednum(x):\n",
    "    \n",
    "    return x**2\n",
    "\n",
    "squarednum(4)"
   ]
  },
  {
   "cell_type": "code",
   "execution_count": 1,
   "metadata": {},
   "outputs": [],
   "source": [
    "# STEP 1: DEFINING A FUNCTION\n",
    "\n",
    "import math\n",
    "\n",
    "def cone (radius, height):\n",
    "    \"\"\"Calculates the volume of a cone.\n",
    "\n",
    "    Keyword arguments:\n",
    "    radius -- radius of the base of the cone\n",
    "    height -- height of the cone\n",
    "    \n",
    "    Author: Andres Patrignani\n",
    "    Date: 28-Oct-2018\n",
    "    email: andrespatrignani@ksu.edu\"\"\"\n",
    "    \n",
    "    coneArea = math.pi * radius**2\n",
    "    coneVolume = coneArea * height/3\n",
    "    \n",
    "    return coneVolume, coneArea"
   ]
  },
  {
   "cell_type": "markdown",
   "metadata": {},
   "source": [
    "**Line 3**: Import required modules\n",
    "\n",
    "**Line 5**:\n",
    "\n",
    "    def  --> indicates that we are defining a function\n",
    "\n",
    "    cone --> function name, typically all lower case\n",
    "\n",
    "    (radius, height) -->  function inputs\n",
    "\n",
    "    : --> colon stating that the code that follows will get executed when the function is called.\n",
    "                      \n",
    "**Lines 6 to 14**: Documentation (also called docstring). It consists of a summary line and description of inputs. The documentation could be expanded in case the function is not trivial. You can also units, examples, author, creation date and contact information. The personal information can be omitted, but for personal and research projects I like to include this information in case I share the code with students and colleagues.\n",
    "\n",
    "**Line 16 to 17**: Function code\n",
    "\n",
    "**Line 19**: Return statement indicating the end of the function and output variables"
   ]
  },
  {
   "cell_type": "code",
   "execution_count": 5,
   "metadata": {},
   "outputs": [
    {
     "data": {
      "text/plain": [
       "(20.943951023931955, 12.566370614359172)"
      ]
     },
     "execution_count": 5,
     "metadata": {},
     "output_type": "execute_result"
    }
   ],
   "source": [
    "# STEP 2: CALLING A FUNCTION\n",
    "# Output variables are in a tuple\n",
    "cone(2,5)"
   ]
  },
  {
   "cell_type": "code",
   "execution_count": null,
   "metadata": {},
   "outputs": [],
   "source": [
    "# Observations\n",
    "# The function assumes the radius and height had the same units.\n",
    "# The function could also output the area of the cone base.\n",
    "# Documentation gives little insight to a user that doesn't know what a cone is.\n",
    "# The function does not have error checks. \n",
    "\n",
    "# What happens if the user only adds a single input?\n",
    "# What happens if the user adds an invalid input (e.g. a string)?\n",
    "# What if the user adds a list of radii and a list of height values to calculate the volume of multiple cones?\n"
   ]
  },
  {
   "cell_type": "code",
   "execution_count": 1,
   "metadata": {},
   "outputs": [
    {
     "name": "stdout",
     "output_type": "stream",
     "text": [
      "5050\n"
     ]
    }
   ],
   "source": [
    "# Simple version without for loops\n",
    "def onehundred():\n",
    "    \"\"\"Function calculates the sum of all integers from 1 to 100.\n",
    "    Created by Andres Patrignani on 20-feb-2019\n",
    "    \"\"\"\n",
    "    return sum(range(101))\n",
    "\n",
    "\n",
    "print(onehundred())"
   ]
  },
  {
   "cell_type": "code",
   "execution_count": 8,
   "metadata": {},
   "outputs": [
    {
     "name": "stdout",
     "output_type": "stream",
     "text": [
      "5050\n"
     ]
    }
   ],
   "source": [
    "# Version using a for loop\n",
    "def onehundred():\n",
    "    \"\"\"Function calculates the sum of all integers from 1 to 100.\n",
    "    Created by Andres Patrignani on 20-feb-2019\n",
    "    \"\"\"\n",
    "    cumulative_sum = 0;\n",
    "    for i in range(1,101):\n",
    "        cumulative_sum = cumulative_sum + i\n",
    "    return cumulative_sum\n",
    "\n",
    "\n",
    "print(onehundred())\n",
    "    \n",
    "    "
   ]
  },
  {
   "cell_type": "code",
   "execution_count": 1,
   "metadata": {},
   "outputs": [
    {
     "data": {
      "text/plain": [
       "True"
      ]
     },
     "execution_count": 1,
     "metadata": {},
     "output_type": "execute_result"
    }
   ],
   "source": [
    "# isleapyear function\n",
    "def isleap(year):\n",
    "    leap = year%4 == 0  and (year%100 > 0 or year%400 == 0)\n",
    "    return leap\n",
    "    \n",
    "isleap(2012) # 2012 is a leap year"
   ]
  }
 ],
 "metadata": {
  "kernelspec": {
   "display_name": "Python 3",
   "language": "python",
   "name": "python3"
  },
  "language_info": {
   "codemirror_mode": {
    "name": "ipython",
    "version": 3
   },
   "file_extension": ".py",
   "mimetype": "text/x-python",
   "name": "python",
   "nbconvert_exporter": "python",
   "pygments_lexer": "ipython3",
   "version": "3.7.0"
  }
 },
 "nbformat": 4,
 "nbformat_minor": 2
}
