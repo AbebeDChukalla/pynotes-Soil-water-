{
 "cells": [
  {
   "cell_type": "markdown",
   "metadata": {},
   "source": [
    "# Anonymous Functions (Lambda functions)\n",
    "\n",
    "Anonymous functions are short, one-line functions that are not worth having as a separate function.\n",
    "Typically use to define polynomials or other simple mathematical models."
   ]
  },
  {
   "cell_type": "markdown",
   "metadata": {},
   "source": [
    "**Fahrenheit to Celsius**:\n",
    "$$C = \\frac{5}{9}(F-32)$$"
   ]
  },
  {
   "cell_type": "code",
   "execution_count": 15,
   "metadata": {},
   "outputs": [
    {
     "data": {
      "text/plain": [
       "100.0"
      ]
     },
     "execution_count": 15,
     "metadata": {},
     "output_type": "execute_result"
    }
   ],
   "source": [
    "fahrenheitToCelsius = lambda F: 5/9*(F-32)\n",
    "fahrenheitToCelsius(212)"
   ]
  },
  {
   "cell_type": "markdown",
   "metadata": {},
   "source": [
    "**Second order polynomial**: \n",
    "$$ y = \\beta_1 + \\beta_2 \\; x + \\beta_3 \\; x^2$$\n",
    "\n"
   ]
  },
  {
   "cell_type": "code",
   "execution_count": 1,
   "metadata": {},
   "outputs": [
    {
     "data": {
      "text/plain": [
       "1241"
      ]
     },
     "execution_count": 1,
     "metadata": {},
     "output_type": "execute_result"
    }
   ],
   "source": [
    "poly2 = lambda b1,b2,b3,x : b1 + b2*x + b3*x**2\n",
    "poly2(1,2,3,20)"
   ]
  },
  {
   "cell_type": "markdown",
   "metadata": {},
   "source": [
    "**Saturation vapor pressure**: \n",
    "$$0.611 \\; exp\\Bigg(\\frac{17.502 T} {T + 240.97}\\Bigg)$$"
   ]
  },
  {
   "cell_type": "code",
   "execution_count": 11,
   "metadata": {},
   "outputs": [
    {
     "data": {
      "text/plain": [
       "3.165946398560656"
      ]
     },
     "execution_count": 11,
     "metadata": {},
     "output_type": "execute_result"
    }
   ],
   "source": [
    "import math\n",
    "e_sat = lambda T : 0.611 * math.exp((17.502*T)/(T+240.97)) # Result is in kPa. T is in degrees Celsius\n",
    "e_sat(25) # Example for T = 25 Celsius"
   ]
  },
  {
   "cell_type": "markdown",
   "metadata": {},
   "source": [
    "**Air pressure as a function of altitude**: \n",
    "$$101.3 \\; exp\\Bigg(\\frac{-A}{8200}\\Bigg)$$"
   ]
  },
  {
   "cell_type": "code",
   "execution_count": 14,
   "metadata": {},
   "outputs": [
    {
     "data": {
      "text/plain": [
       "89.66990376427852"
      ]
     },
     "execution_count": 14,
     "metadata": {},
     "output_type": "execute_result"
    }
   ],
   "source": [
    "import math\n",
    "p_alt = lambda A: 101.3*math.exp(-A/8200) # atmospheric pressure in kPa. Altitude is in meters above sea level.\n",
    "p_alt(1000)"
   ]
  }
 ],
 "metadata": {
  "kernelspec": {
   "display_name": "Python 3",
   "language": "python",
   "name": "python3"
  },
  "language_info": {
   "codemirror_mode": {
    "name": "ipython",
    "version": 3
   },
   "file_extension": ".py",
   "mimetype": "text/x-python",
   "name": "python",
   "nbconvert_exporter": "python",
   "pygments_lexer": "ipython3",
   "version": "3.7.0"
  }
 },
 "nbformat": 4,
 "nbformat_minor": 2
}
