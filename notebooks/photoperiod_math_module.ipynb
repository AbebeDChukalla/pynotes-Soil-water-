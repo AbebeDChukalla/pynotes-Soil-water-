{
 "cells": [
  {
   "cell_type": "markdown",
   "metadata": {},
   "source": [
    "# Photoperiod Using Math Module\n",
    "\n",
    "Approximate daylength (photoperiod) based on location and day of the year using numpy module.\n",
    "\n",
    "Alternative to the function code using Numpy."
   ]
  },
  {
   "cell_type": "code",
   "execution_count": null,
   "metadata": {},
   "outputs": [],
   "source": [
    "# Quick shortcuts for prototyping\n",
    "# phi = 33.4\n",
    "# doy = 201; # Day of the year. 19-jul-2020 is DOY 201.\n",
    "\n",
    "# Request latitude from user\n",
    "# Latitude was named phi for consistency with notation in literature.\n",
    "phi = input(\"Enter latitude in decimal degrees (S is negative):\") # Decimal degrees\n",
    "phi = float(phi)\n",
    "\n",
    "# Request date from user\n",
    "date_str = input(\"Enter date (dd-mmm-yyyy):\")\n",
    "date_num = datetime.datetime.strptime(date_str,\"%d-%b-%Y\")\n",
    "doy = date_num.timetuple().tm_yday\n",
    "\n",
    "\n",
    "# Compute angle of the sun below the horizon. \n",
    "# For reference civil twilight is -4.76 degrees.\n",
    "light_intensity = 2.206 * 10**-3\n",
    "B = -4.76 - 1.03 * math.log(light_intensity) # Eq. [5].\n",
    "\n",
    "# COmpute aalue at sunrise and sunset.\n",
    "alpha = 90 + B # Eq. [6]. \n",
    "\n",
    "M = 0.9856*doy - 3.251 # Eq. [4].\n",
    "\n",
    "lmd = M + 1.916*math.sin(math.radians(M)) + 0.020*math.sin(math.radians(2*M)) + 282.565 # Eq. [3]. Lambda variable\n",
    "\n",
    "# sin of the obliquity of 23.44 degrees.\n",
    "C = math.sin(math.radians(23.44))\n",
    "\n",
    "delta = math.degrees( math.asin(C*math.sin(math.radians(lmd))) ) # Eq. [2].\n",
    "\n",
    "# Compute photoperiod\n",
    "# Defining sec(x) = 1/cos(x)\n",
    "P = 2/15 * math.degrees( math.acos( math.cos(math.radians(alpha)) * (1/math.cos(math.radians(phi))) * (1/math.cos(math.radians(delta))) - math.tan(math.radians(phi)) * math.tan(math.radians(delta)) ) ) # Eq. [1].\n",
    "\n",
    "print('Photoperiod: ' + str(round(P,2)) + ' hours/day')\n"
   ]
  }
 ],
 "metadata": {
  "kernelspec": {
   "display_name": "Python 3",
   "language": "python",
   "name": "python3"
  },
  "language_info": {
   "codemirror_mode": {
    "name": "ipython",
    "version": 3
   },
   "file_extension": ".py",
   "mimetype": "text/x-python",
   "name": "python",
   "nbconvert_exporter": "python",
   "pygments_lexer": "ipython3",
   "version": "3.7.6"
  }
 },
 "nbformat": 4,
 "nbformat_minor": 4
}
