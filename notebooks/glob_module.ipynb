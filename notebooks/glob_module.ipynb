{
 "cells": [
  {
   "cell_type": "markdown",
   "metadata": {},
   "source": [
    "# Glob module"
   ]
  },
  {
   "cell_type": "code",
   "execution_count": null,
   "metadata": {},
   "outputs": [],
   "source": [
    "import glob\n",
    "\n",
    "# Print all files in current working directory\n",
    "print(glob.os.listdir())\n",
    "\n",
    "# The glob module also has several functions that allows to navigate the directory. \n",
    "# print(glob.os.chdir('..'))\n",
    "# glob.os.chdir('Datasets/')\n",
    "\n"
   ]
  },
  {
   "cell_type": "code",
   "execution_count": 4,
   "metadata": {},
   "outputs": [
    {
     "name": "stdout",
     "output_type": "stream",
     "text": [
      "anonymous_functions.ipynb\n",
      "assignment_ideas.ipynb\n",
      "booleans.ipynb\n",
      "calculator_examples.ipynb\n",
      "challenge_birthday_paradox.ipynb\n",
      "challenge_blackjack.ipynb\n",
      "challenge_carroll_dayofweek.ipynb\n",
      "challenge_dna_matching.ipynb\n",
      "challenge_doy.ipynb\n",
      "challenge_hangman.ipynb\n",
      "challenge_monty_hall.ipynb\n",
      "challenge_photoperiod.ipynb\n",
      "challenge_random_groups.ipynb\n",
      "challenge_random_walk.ipynb\n",
      "challenge_tank.ipynb\n",
      "challenge_vpd.ipynb\n",
      "curve_fitting.ipynb\n",
      "data_structures.ipynb\n",
      "data_types.ipynb\n",
      "datetime_module.ipynb\n",
      "ebook.ipynb\n",
      "error handling.ipynb\n",
      "for_loops.ipynb\n",
      "functions.ipynb\n",
      "glob_module.ipynb\n",
      "hello_world.ipynb\n",
      "if_statement.ipynb\n",
      "images.ipynb\n",
      "import_tabular_data.ipynb\n",
      "importing_modules.ipynb\n",
      "indexing_and_slicing_lists.ipynb\n",
      "inputs.ipynb\n",
      "installing_modules.ipynb\n",
      "lecture_notes.ipynb\n",
      "lotka_volterra_model.ipynb\n",
      "math_module.ipynb\n",
      "matplotlib_module.ipynb\n",
      "matplotlib_plot.ipynb\n",
      "matplotlib_soil_temperature.ipynb\n",
      "matplotlib_subplots.ipynb\n",
      "matplotlib_yyplots.ipynb\n",
      "morse_code.ipynb\n",
      "morse_code_game.ipynb\n",
      "newton_law_cooling.ipynb\n",
      "numpy_module.ipynb\n",
      "os_module.ipynb\n",
      "pandas2_module.ipynb\n",
      "pandas_module.ipynb\n",
      "plotting_bokeh.ipynb\n",
      "precipitation_summary_stats.ipynb\n",
      "problems.ipynb\n",
      "puzzles.ipynb\n",
      "pygame_module.ipynb\n",
      "random_module.ipynb\n",
      "random_student_picker.ipynb\n",
      "soil_temperature_bokeh.ipynb\n",
      "strings.ipynb\n",
      "thermal_time.ipynb\n",
      "time_module.ipynb\n",
      "url_iss.ipynb\n",
      "url_ks_mesonet.ipynb\n",
      "url_ok_mesonet.ipynb\n",
      "url_request_uscrn.ipynb\n",
      "venn_diagrams.ipynb\n",
      "while_loops.ipynb\n"
     ]
    }
   ],
   "source": [
    "import glob\n",
    "txtfiles = []\n",
    "for file in glob.glob(\"*.ipynb\"):\n",
    "    txtfiles.append(file)\n",
    "\n",
    "    \n",
    "for filename in txtfiles:\n",
    "    pd.read_csv(filename)\n",
    "\n"
   ]
  }
 ],
 "metadata": {
  "kernelspec": {
   "display_name": "Python 3",
   "language": "python",
   "name": "python3"
  },
  "language_info": {
   "codemirror_mode": {
    "name": "ipython",
    "version": 3
   },
   "file_extension": ".py",
   "mimetype": "text/x-python",
   "name": "python",
   "nbconvert_exporter": "python",
   "pygments_lexer": "ipython3",
   "version": "3.7.0"
  }
 },
 "nbformat": 4,
 "nbformat_minor": 2
}
