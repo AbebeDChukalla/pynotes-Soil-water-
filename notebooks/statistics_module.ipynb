{
 "cells": [
  {
   "cell_type": "markdown",
   "metadata": {},
   "source": [
    "# Statistics module\n",
    "\n",
    "A simple Python module to handle some basic statistics. It can also handle numpy arrays. For this exercise we will use data from FAO STATS about arable land in the US. The data set contains arable land data in millions of hectares from 1961 to 2016 for the USA. The abbreviated example only has eleven values from 2006 to 2016 rounded to the nearest million.\n",
    "\n",
    "\n",
    "Visit official documentation at: <https://docs.python.org/3.4/library/statistics.html>"
   ]
  },
  {
   "cell_type": "code",
   "execution_count": 71,
   "metadata": {},
   "outputs": [],
   "source": [
    "import statistics as stats # Only mandatory module for this exercise\n",
    "import numpy as np   # Optional\n",
    "import pandas as pd  # Optional\n",
    "import glob          # Optional\n",
    "import matplotlib.pyplot as plt # Just for plotting the data after importing\n"
   ]
  },
  {
   "cell_type": "code",
   "execution_count": 73,
   "metadata": {},
   "outputs": [
    {
     "data": {
      "text/html": [
       "<div>\n",
       "<style scoped>\n",
       "    .dataframe tbody tr th:only-of-type {\n",
       "        vertical-align: middle;\n",
       "    }\n",
       "\n",
       "    .dataframe tbody tr th {\n",
       "        vertical-align: top;\n",
       "    }\n",
       "\n",
       "    .dataframe thead th {\n",
       "        text-align: right;\n",
       "    }\n",
       "</style>\n",
       "<table border=\"1\" class=\"dataframe\">\n",
       "  <thead>\n",
       "    <tr style=\"text-align: right;\">\n",
       "      <th></th>\n",
       "      <th>Domain</th>\n",
       "      <th>Area</th>\n",
       "      <th>Variable</th>\n",
       "      <th>Year</th>\n",
       "      <th>Unit</th>\n",
       "      <th>Value</th>\n",
       "    </tr>\n",
       "  </thead>\n",
       "  <tbody>\n",
       "    <tr>\n",
       "      <th>0</th>\n",
       "      <td>Land Use</td>\n",
       "      <td>United States of America</td>\n",
       "      <td>Arable land</td>\n",
       "      <td>1961</td>\n",
       "      <td>1000000 ha</td>\n",
       "      <td>180.630</td>\n",
       "    </tr>\n",
       "    <tr>\n",
       "      <th>1</th>\n",
       "      <td>Land Use</td>\n",
       "      <td>United States of America</td>\n",
       "      <td>Arable land</td>\n",
       "      <td>1962</td>\n",
       "      <td>1000000 ha</td>\n",
       "      <td>177.095</td>\n",
       "    </tr>\n",
       "    <tr>\n",
       "      <th>2</th>\n",
       "      <td>Land Use</td>\n",
       "      <td>United States of America</td>\n",
       "      <td>Arable land</td>\n",
       "      <td>1963</td>\n",
       "      <td>1000000 ha</td>\n",
       "      <td>179.574</td>\n",
       "    </tr>\n",
       "    <tr>\n",
       "      <th>3</th>\n",
       "      <td>Land Use</td>\n",
       "      <td>United States of America</td>\n",
       "      <td>Arable land</td>\n",
       "      <td>1964</td>\n",
       "      <td>1000000 ha</td>\n",
       "      <td>177.966</td>\n",
       "    </tr>\n",
       "    <tr>\n",
       "      <th>4</th>\n",
       "      <td>Land Use</td>\n",
       "      <td>United States of America</td>\n",
       "      <td>Arable land</td>\n",
       "      <td>1965</td>\n",
       "      <td>1000000 ha</td>\n",
       "      <td>177.000</td>\n",
       "    </tr>\n",
       "  </tbody>\n",
       "</table>\n",
       "</div>"
      ],
      "text/plain": [
       "     Domain                      Area     Variable  Year        Unit    Value\n",
       "0  Land Use  United States of America  Arable land  1961  1000000 ha  180.630\n",
       "1  Land Use  United States of America  Arable land  1962  1000000 ha  177.095\n",
       "2  Land Use  United States of America  Arable land  1963  1000000 ha  179.574\n",
       "3  Land Use  United States of America  Arable land  1964  1000000 ha  177.966\n",
       "4  Land Use  United States of America  Arable land  1965  1000000 ha  177.000"
      ]
     },
     "execution_count": 73,
     "metadata": {},
     "output_type": "execute_result"
    }
   ],
   "source": [
    "# Navigate to Datasets directory and load example file\n",
    "root = '/Users/andrespatrignani/Dropbox/Teaching/Scientific programming/introcoding-spring-2019/'\n",
    "glob.os.chdir(root + 'Datasets/')\n",
    "df = pd.read_csv('faostats_usa_arable_land.csv')\n",
    "df.head(5)\n",
    "data = df['Value']\n",
    "\n",
    "df.head(5)"
   ]
  },
  {
   "cell_type": "code",
   "execution_count": 76,
   "metadata": {},
   "outputs": [
    {
     "data": {
      "image/png": "[encoded data removed]",
      "text/plain": [
       "<Figure size 432x288 with 1 Axes>"
      ]
     },
     "metadata": {
      "needs_background": "light"
     },
     "output_type": "display_data"
    }
   ],
   "source": [
    "# Plot data\n",
    "plt.figure()\n",
    "plt.plot(df['Year'], df['Value'])\n",
    "plt.ylabel('Arable land in million of hectares')\n",
    "plt.show()"
   ]
  },
  {
   "cell_type": "code",
   "execution_count": null,
   "metadata": {},
   "outputs": [],
   "source": [
    "# In case you don't want to load all the modules for a simple exercise \n",
    "# just use this variable. You can mute the cells above as a comment.\n",
    "\n",
    "\n",
    "# import statistics as stats \n",
    "# data = [160,161,161,157,155,151,155,152,154,152,152]"
   ]
  },
  {
   "cell_type": "code",
   "execution_count": 77,
   "metadata": {},
   "outputs": [
    {
     "data": {
      "text/plain": [
       "177.05856785714286"
      ]
     },
     "execution_count": 77,
     "metadata": {},
     "output_type": "execute_result"
    }
   ],
   "source": [
    "# Average\n",
    "stats.mean(data)"
   ]
  },
  {
   "cell_type": "code",
   "execution_count": 78,
   "metadata": {},
   "outputs": [
    {
     "data": {
      "text/plain": [
       "12.048125424089195"
      ]
     },
     "execution_count": 78,
     "metadata": {},
     "output_type": "execute_result"
    }
   ],
   "source": [
    "# Sample standard deviation of data.\n",
    "stats.stdev(data)       "
   ]
  },
  {
   "cell_type": "code",
   "execution_count": 79,
   "metadata": {},
   "outputs": [
    {
     "data": {
      "text/plain": [
       "145.15732623458445"
      ]
     },
     "execution_count": 79,
     "metadata": {},
     "output_type": "execute_result"
    }
   ],
   "source": [
    "# Variance\n",
    "stats.variance(data)   "
   ]
  },
  {
   "cell_type": "code",
   "execution_count": 80,
   "metadata": {},
   "outputs": [
    {
     "data": {
      "text/plain": [
       "180.815"
      ]
     },
     "execution_count": 80,
     "metadata": {},
     "output_type": "execute_result"
    }
   ],
   "source": [
    "# Median 50th percentile of data.\n",
    "stats.median(data)          "
   ]
  },
  {
   "cell_type": "code",
   "execution_count": 81,
   "metadata": {},
   "outputs": [
    {
     "data": {
      "text/plain": [
       "180.63"
      ]
     },
     "execution_count": 81,
     "metadata": {},
     "output_type": "execute_result"
    }
   ],
   "source": [
    "# Low median of data.\n",
    "stats.median_low(data)      "
   ]
  },
  {
   "cell_type": "code",
   "execution_count": 82,
   "metadata": {},
   "outputs": [
    {
     "data": {
      "text/plain": [
       "181.0"
      ]
     },
     "execution_count": 82,
     "metadata": {},
     "output_type": "execute_result"
    }
   ],
   "source": [
    "# High median of data.\n",
    "stats.median_high(data)     "
   ]
  },
  {
   "cell_type": "code",
   "execution_count": 83,
   "metadata": {},
   "outputs": [
    {
     "data": {
      "text/plain": [
       "180.5"
      ]
     },
     "execution_count": 83,
     "metadata": {},
     "output_type": "execute_result"
    }
   ],
   "source": [
    "# Median, or 50th percentile, of grouped data.\n",
    "stats.median_grouped(data)  "
   ]
  },
  {
   "cell_type": "code",
   "execution_count": 84,
   "metadata": {},
   "outputs": [
    {
     "data": {
      "text/plain": [
       "187.765"
      ]
     },
     "execution_count": 84,
     "metadata": {},
     "output_type": "execute_result"
    }
   ],
   "source": [
    "# Most frequent data\n",
    "stats.mode(data)            "
   ]
  },
  {
   "cell_type": "code",
   "execution_count": 85,
   "metadata": {},
   "outputs": [
    {
     "data": {
      "text/plain": [
       "11.940068304798451"
      ]
     },
     "execution_count": 85,
     "metadata": {},
     "output_type": "execute_result"
    }
   ],
   "source": [
    "# Population standard deviation of data.\n",
    "stats.pstdev(data)          "
   ]
  },
  {
   "cell_type": "code",
   "execution_count": 70,
   "metadata": {},
   "outputs": [
    {
     "data": {
      "text/plain": [
       "142.56523112325257"
      ]
     },
     "execution_count": 70,
     "metadata": {},
     "output_type": "execute_result"
    }
   ],
   "source": [
    "# Population variance of data.\n",
    "stats.pvariance(data)       "
   ]
  }
 ],
 "metadata": {
  "kernelspec": {
   "display_name": "Python 3",
   "language": "python",
   "name": "python3"
  },
  "language_info": {
   "codemirror_mode": {
    "name": "ipython",
    "version": 3
   },
   "file_extension": ".py",
   "mimetype": "text/x-python",
   "name": "python",
   "nbconvert_exporter": "python",
   "pygments_lexer": "ipython3",
   "version": "3.7.0"
  }
 },
 "nbformat": 4,
 "nbformat_minor": 2
}
