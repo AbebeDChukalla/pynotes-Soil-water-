{
 "cells": [
  {
   "cell_type": "code",
   "execution_count": null,
   "metadata": {},
   "outputs": [],
   "source": [
    "# Install matplotlib extension for Venn diagrams\n",
    "# Run following command from the notebook\n",
    "\n",
    "# !pip install matplotlib-venn\n",
    "\n",
    "# Docs: https://pypi.org/project/matplotlib-venn/"
   ]
  },
  {
   "cell_type": "code",
   "execution_count": 15,
   "metadata": {},
   "outputs": [],
   "source": [
    "import pandas as pd\n",
    "from matplotlib import pyplot as plt\n",
    "import numpy as np\n",
    "from matplotlib_venn import venn3, venn3_circles"
   ]
  },
  {
   "cell_type": "code",
   "execution_count": 16,
   "metadata": {},
   "outputs": [
    {
     "data": {
      "text/html": [
       "<div>\n",
       "<style scoped>\n",
       "    .dataframe tbody tr th:only-of-type {\n",
       "        vertical-align: middle;\n",
       "    }\n",
       "\n",
       "    .dataframe tbody tr th {\n",
       "        vertical-align: top;\n",
       "    }\n",
       "\n",
       "    .dataframe thead th {\n",
       "        text-align: right;\n",
       "    }\n",
       "</style>\n",
       "<table border=\"1\" class=\"dataframe\">\n",
       "  <thead>\n",
       "    <tr style=\"text-align: right;\">\n",
       "      <th></th>\n",
       "      <th>Species</th>\n",
       "      <th>sweden_farms</th>\n",
       "      <th>sweden_peri_urban</th>\n",
       "      <th>sweden_wetlands</th>\n",
       "      <th>netherlands_farms</th>\n",
       "      <th>netherlands_peri_urban</th>\n",
       "      <th>netherlands_wetlands</th>\n",
       "      <th>italy_farms</th>\n",
       "      <th>italy_peri_urban</th>\n",
       "      <th>italy_wetlands</th>\n",
       "    </tr>\n",
       "  </thead>\n",
       "  <tbody>\n",
       "    <tr>\n",
       "      <th>0</th>\n",
       "      <td>Aedes albopictus</td>\n",
       "      <td>0</td>\n",
       "      <td>0</td>\n",
       "      <td>0</td>\n",
       "      <td>0</td>\n",
       "      <td>0</td>\n",
       "      <td>0</td>\n",
       "      <td>37</td>\n",
       "      <td>272</td>\n",
       "      <td>4</td>\n",
       "    </tr>\n",
       "    <tr>\n",
       "      <th>1</th>\n",
       "      <td>Aedes behningi</td>\n",
       "      <td>0</td>\n",
       "      <td>2</td>\n",
       "      <td>13</td>\n",
       "      <td>0</td>\n",
       "      <td>0</td>\n",
       "      <td>0</td>\n",
       "      <td>0</td>\n",
       "      <td>0</td>\n",
       "      <td>1</td>\n",
       "    </tr>\n",
       "    <tr>\n",
       "      <th>2</th>\n",
       "      <td>Aedes berlandi</td>\n",
       "      <td>0</td>\n",
       "      <td>0</td>\n",
       "      <td>0</td>\n",
       "      <td>0</td>\n",
       "      <td>0</td>\n",
       "      <td>0</td>\n",
       "      <td>0</td>\n",
       "      <td>1</td>\n",
       "      <td>0</td>\n",
       "    </tr>\n",
       "    <tr>\n",
       "      <th>3</th>\n",
       "      <td>Aedes cantans</td>\n",
       "      <td>0</td>\n",
       "      <td>4</td>\n",
       "      <td>3</td>\n",
       "      <td>0</td>\n",
       "      <td>0</td>\n",
       "      <td>0</td>\n",
       "      <td>0</td>\n",
       "      <td>0</td>\n",
       "      <td>0</td>\n",
       "    </tr>\n",
       "    <tr>\n",
       "      <th>4</th>\n",
       "      <td>Aedes caspius</td>\n",
       "      <td>0</td>\n",
       "      <td>1</td>\n",
       "      <td>0</td>\n",
       "      <td>0</td>\n",
       "      <td>0</td>\n",
       "      <td>0</td>\n",
       "      <td>5</td>\n",
       "      <td>9</td>\n",
       "      <td>1664</td>\n",
       "    </tr>\n",
       "  </tbody>\n",
       "</table>\n",
       "</div>"
      ],
      "text/plain": [
       "            Species  sweden_farms  sweden_peri_urban  sweden_wetlands  \\\n",
       "0  Aedes albopictus             0                  0                0   \n",
       "1    Aedes behningi             0                  2               13   \n",
       "2    Aedes berlandi             0                  0                0   \n",
       "3     Aedes cantans             0                  4                3   \n",
       "4     Aedes caspius             0                  1                0   \n",
       "\n",
       "   netherlands_farms  netherlands_peri_urban  netherlands_wetlands  \\\n",
       "0                  0                       0                     0   \n",
       "1                  0                       0                     0   \n",
       "2                  0                       0                     0   \n",
       "3                  0                       0                     0   \n",
       "4                  0                       0                     0   \n",
       "\n",
       "   italy_farms  italy_peri_urban  italy_wetlands  \n",
       "0           37               272               4  \n",
       "1            0                 0               1  \n",
       "2            0                 1               0  \n",
       "3            0                 0               0  \n",
       "4            5                 9            1664  "
      ]
     },
     "execution_count": 16,
     "metadata": {},
     "output_type": "execute_result"
    }
   ],
   "source": [
    "data = pd.read_csv('/Users/andrespatrignani/Dropbox/Teaching/Scientific programming/introcoding-spring-2019/Datasets/mosquito_abundance.csv',\n",
    "                  skiprows=1,\n",
    "                  sep=\",\")\n",
    "\n",
    "data.head(5)"
   ]
  },
  {
   "cell_type": "code",
   "execution_count": 62,
   "metadata": {},
   "outputs": [],
   "source": [
    "total_farms = data.sweden_farms + data.netherlands_farms + data.italy_farms\n",
    "idx_farms = (total_wetland == 0) & (total_farms > 0) & (total_periurban == 0)\n",
    "farms = data.Species[idx_farms]\n",
    "\n",
    "total_periurban = data.sweden_peri_urban + data.netherlands_peri_urban + data.italy_peri_urban\n",
    "idx_periurban = (total_wetland == 0) & (total_farms == 0) & (total_periurban > 0)\n",
    "periurban = data.Species[idx_periurban]\n",
    "\n",
    "total_wetland = data.sweden_wetlands + data.netherlands_wetlands + data.italy_wetlands\n",
    "idx_wetland = (total_wetland > 0) & (total_farms == 0) & (total_periurban == 0)\n",
    "wetland = data.Species[idx_wetland]\n",
    "\n",
    "idx_farm_wetland = (total_wetland > 0) & (total_farms > 0) & (total_periurban == 0)\n",
    "farm_wetland = data.Species[idx_farm_wetland]\n",
    "\n",
    "idx_farm_periurban = (total_wetland == 0) & (total_farms > 0) & (total_periurban > 0)\n",
    "farm_periurban = data.Species[idx_farm_periurban]\n",
    "\n",
    "idx_wetland_periurban = (total_wetland > 0) & (total_farms == 0) & (total_periurban > 0)\n",
    "wetland_periurban = data.Species[idx_wetland_periurban]\n",
    "\n",
    "idx_farm_wetland_periurban = (total_wetland > 0) & (total_farms > 0) & (total_periurban > 0)\n",
    "farm_wetland_periurban = data.Species[idx_farm_wetland_periurban]\n"
   ]
  },
  {
   "cell_type": "code",
   "execution_count": 74,
   "metadata": {},
   "outputs": [
    {
     "data": {
      "image/png": "[encoded data removed]",
      "text/plain": [
       "<Figure size 432x288 with 1 Axes>"
      ]
     },
     "metadata": {},
     "output_type": "display_data"
    }
   ],
   "source": [
    "# A, B, AB, C, AC, BC, ABC\n",
    "v = venn3(subsets=(farms.size, \n",
    "                   periurban.size,\n",
    "                   farm_periurban.size,\n",
    "                   wetland.size,\n",
    "                   farm_wetland.size,\n",
    "                   wetland_periurban.size,\n",
    "                   farm_wetland_periurban.size), \n",
    "          set_labels = ('\\n'.join(data.Species[idx_farms].values), \n",
    "                        '\\n'.join(data.Species[idx_periurban].values), \n",
    "                        '\\n'.join(data.Species[idx_wetland].values)))"
   ]
  }
 ],
 "metadata": {
  "kernelspec": {
   "display_name": "Python 3",
   "language": "python",
   "name": "python3"
  },
  "language_info": {
   "codemirror_mode": {
    "name": "ipython",
    "version": 3
   },
   "file_extension": ".py",
   "mimetype": "text/x-python",
   "name": "python",
   "nbconvert_exporter": "python",
   "pygments_lexer": "ipython3",
   "version": "3.7.0"
  }
 },
 "nbformat": 4,
 "nbformat_minor": 2
}
