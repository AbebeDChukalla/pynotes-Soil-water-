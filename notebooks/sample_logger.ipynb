{
 "cells": [
  {
   "cell_type": "markdown",
   "metadata": {},
   "source": [
    "## Sample Entry System for Mass-Volume Properties\n",
    "\n",
    "One of the biggest challenges of laboratories that deal with samples of some sort (e.g. DNA, tissue, soil, seeds, etc.) on a routine basis is metadata entry, storage, and accessibility. Assigning a sample unique identification number and adding sample metadata is essential for tracking samples around the lab and generating customer reports or doing data mining for research. \n",
    "\n",
    "In this example we will create a simple data entry and storage for soil samples. We will assign a unique ID to each new sample as well as sample metadata (e.g. responsible, location, soil attributes, etc.).\n",
    "\n",
    "To allow an unlimited entry of samples by lab personnel we will couple the `input()` function with a `while` loop.\n",
    "\n",
    "In order to create a more serious data entry system we need to allow users to modify their inputs and to check whether inputs are plausible or not. For instance, if by chance a user enters a negative ring volume, then we need to catch this and let the user correct the mistake. While I would not use the code below for any serious application, I still hope that this simple example will inspire you to do something simple and useful for your own lab or research experiment."
   ]
  },
  {
   "cell_type": "code",
   "execution_count": 9,
   "metadata": {},
   "outputs": [
    {
     "name": "stdin",
     "output_type": "stream",
     "text": [
      "Name of responsible person ('John Smith'): John Doe\n",
      "Latitude(e.g. '35.6', North is positive): 33.5\n",
      "Longitude (e.g. '-97.8', W is negative): -97.8\n",
      "Nearest city ('Manhattan, KS'): Wichita Falls, TX\n",
      "Ring number: 1\n",
      "Ring volume (in cm^3): 100\n",
      "Mass of empty ring with no plastic lids (g): 12\n",
      "Mass of wet soil including ring (g): 185\n",
      "Mass of oven-dried soil with ring (g): 145\n",
      "Do you want to add a new sample? (y/n) y\n",
      "Name of responsible person ('John Smith'): Andres Patrignani\n",
      "Latitude(e.g. '35.6', North is positive): 38.830539\n",
      "Longitude (e.g. '-97.8', W is negative): -97.535717\n",
      "Nearest city ('Manhattan, KS'): Salina, KS\n",
      "Ring number: 2\n",
      "Ring volume (in cm^3): 100\n",
      "Mass of empty ring with no plastic lids (g): 12\n",
      "Mass of wet soil including ring (g): 199\n",
      "Mass of oven-dried soil with ring (g): 141\n",
      "Do you want to add a new sample? (y/n) n\n"
     ]
    }
   ],
   "source": [
    "# Universally Unique IDentifier module\n",
    "import uuid \n",
    "import pprint\n",
    "\n",
    "new_entry_flag = True\n",
    "D = dict()\n",
    "\n",
    "while new_entry_flag:\n",
    "        \n",
    "    # Generate sample unique ID\n",
    "    sample_id = str(uuid.uuid1()) # to make the UUID a string\n",
    "\n",
    "    # Request responsible\n",
    "    responsible = input(\"Name of responsible person ('John Smith'):\")\n",
    "\n",
    "    # Request sample location\n",
    "    latitude = input(\"Latitude(e.g. '35.6', North is positive):\")\n",
    "    longitude = input(\"Longitude (e.g. '-97.8', W is negative):\")\n",
    "    location = input(\"Nearest city ('Manhattan, KS'):\")\n",
    "    city, state = location.split(\",\")\n",
    "\n",
    "    # Request ring number\n",
    "    ring_number = input(\"Ring number:\")\n",
    "    ring_number = int(ring_number)\n",
    "\n",
    "    # Request ring volume\n",
    "    ring_volume = input(\"Ring volume (in cm^3):\")\n",
    "    ring_volume = float(ring_volume)\n",
    "\n",
    "    # Request mass of empty ring \n",
    "    mass_empty_ring = input(\"Mass of empty ring with no plastic lids (g):\")\n",
    "    mass_empty_ring = float(mass_empty_ring)\n",
    "\n",
    "    # Request mass of wet soil\n",
    "    mass_wet_soil = input(\"Mass of wet soil including ring (g):\")\n",
    "    mass_wet_soil = float(mass_wet_soil)\n",
    "\n",
    "    # Request mass of oven-dry soil\n",
    "    mass_oven_dry_soil = input(\"Mass of oven-dried soil with ring (g):\")\n",
    "    mass_oven_dry_soil = float(mass_oven_dry_soil)\n",
    "\n",
    "    # Compute mass-volume relationships\n",
    "    particle_density = 2.65 # g/cm^3 - Assumed value for quartz.\n",
    "    bulk_density = (mass_oven_dry_soil - mass_empty_ring)/ring_volume # g/cm^3\n",
    "    porosity = 1 - bulk_density/particle_density # unitless\n",
    "    mass_water = mass_wet_soil - mass_oven_dry_soil # g\n",
    "    gravimetric_water_content = mass_water/(mass_oven_dry_soil - mass_empty_ring) # g/g\n",
    "    volumetric_water_content = gravimetric_water_content * bulk_density/0.998 # g/cm^3\n",
    "\n",
    "    # Initialize dictionary for storing samples\n",
    "    D[sample_id] = {'responsible': responsible,\n",
    "                    'lat': latitude,\n",
    "                    'lon': longitude,\n",
    "                    'city': city,\n",
    "                    'state': state,\n",
    "                    'ring_number': ring_number,\n",
    "                    'bulk_density': bulk_density,\n",
    "                    'porosity': round(porosity,3),\n",
    "                    'volumetric_water': round(volumetric_water_content,3)}\n",
    "    \n",
    "    # Ask user if they want to exit\n",
    "    new_entry_msg = input(\"Do you want to add a new sample? (y/n)\").lower() # Force to be lower case\n",
    "    if new_entry_msg == 'n' or new_entry_msg == 'no':\n",
    "        new_entry_flag = False\n",
    "    "
   ]
  },
  {
   "cell_type": "code",
   "execution_count": 10,
   "metadata": {},
   "outputs": [
    {
     "name": "stdout",
     "output_type": "stream",
     "text": [
      "{'309ab81e-4ce4-11ea-b6eb-f45c89ca92fb': {'bulk_density': 1.29,\n",
      "                                          'city': 'Salina',\n",
      "                                          'lat': '38.830539',\n",
      "                                          'lon': '-97.535717',\n",
      "                                          'porosity': 0.513,\n",
      "                                          'responsible': 'Andres Patrignani',\n",
      "                                          'ring_number': 2,\n",
      "                                          'state': ' KS',\n",
      "                                          'volumetric_water': 0.581},\n",
      " 'fce49940-4ce3-11ea-b6eb-f45c89ca92fb': {'bulk_density': 1.33,\n",
      "                                          'city': 'Wichita Falls',\n",
      "                                          'lat': '33.5',\n",
      "                                          'lon': '-97.8',\n",
      "                                          'porosity': 0.498,\n",
      "                                          'responsible': 'John Doe',\n",
      "                                          'ring_number': 1,\n",
      "                                          'state': ' TX',\n",
      "                                          'volumetric_water': 0.401}}\n"
     ]
    }
   ],
   "source": [
    "# Display entries (maybe not a good idea if you have hundreds or thousands of entries)\n",
    "pprint.pprint(D)\n"
   ]
  },
  {
   "cell_type": "code",
   "execution_count": 11,
   "metadata": {},
   "outputs": [
    {
     "name": "stdout",
     "output_type": "stream",
     "text": [
      "['fce49940-4ce3-11ea-b6eb-f45c89ca92fb', '309ab81e-4ce4-11ea-b6eb-f45c89ca92fb']\n"
     ]
    }
   ],
   "source": [
    "# Get all dictionary keys as a list\n",
    "all_samples = [*D]\n",
    "print(all_samples)"
   ]
  }
 ],
 "metadata": {
  "kernelspec": {
   "display_name": "Python 3",
   "language": "python",
   "name": "python3"
  },
  "language_info": {
   "codemirror_mode": {
    "name": "ipython",
    "version": 3
   },
   "file_extension": ".py",
   "mimetype": "text/x-python",
   "name": "python",
   "nbconvert_exporter": "python",
   "pygments_lexer": "ipython3",
   "version": "3.7.0"
  }
 },
 "nbformat": 4,
 "nbformat_minor": 2
}
