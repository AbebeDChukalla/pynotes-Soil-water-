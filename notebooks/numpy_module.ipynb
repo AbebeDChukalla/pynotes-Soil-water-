{
 "cells": [
  {
   "cell_type": "markdown",
   "metadata": {},
   "source": [
    "# **Numpy Module**\n",
    "\n",
    "## Introduction\n",
    "\n",
    "Module describing basic commands of the numpy module\n",
    "Documentation: <https://docs.scipy.org/doc/numpy/reference/index.html>"
   ]
  },
  {
   "cell_type": "code",
   "execution_count": 212,
   "metadata": {},
   "outputs": [],
   "source": [
    "import numpy as np"
   ]
  },
  {
   "cell_type": "code",
   "execution_count": 39,
   "metadata": {},
   "outputs": [
    {
     "data": {
      "text/plain": [
       "[1, 2, 3, 4, 1, 2, 3, 4, 1, 2, 3, 4]"
      ]
     },
     "execution_count": 39,
     "metadata": {},
     "output_type": "execute_result"
    }
   ],
   "source": [
    "# Multiply a scalar by an array\n",
    "A = [1,2,3,4]\n",
    "A * 3\n",
    "\n",
    "# Not exactly what we are looking for. It will repeat the array three times"
   ]
  },
  {
   "cell_type": "code",
   "execution_count": 40,
   "metadata": {},
   "outputs": [
    {
     "ename": "TypeError",
     "evalue": "can't multiply sequence by non-int of type 'list'",
     "output_type": "error",
     "traceback": [
      "\u001b[0;31m---------------------------------------------------------------------------\u001b[0m",
      "\u001b[0;31mTypeError\u001b[0m                                 Traceback (most recent call last)",
      "\u001b[0;32m<ipython-input-40-e1a163a6f9e4>\u001b[0m in \u001b[0;36m<module>\u001b[0;34m()\u001b[0m\n\u001b[1;32m      3\u001b[0m \u001b[0;34m\u001b[0m\u001b[0m\n\u001b[1;32m      4\u001b[0m \u001b[0;31m# and let's try to multiply it together\u001b[0m\u001b[0;34m\u001b[0m\u001b[0;34m\u001b[0m\u001b[0m\n\u001b[0;32m----> 5\u001b[0;31m \u001b[0mA\u001b[0m\u001b[0;34m*\u001b[0m\u001b[0mB\u001b[0m\u001b[0;34m\u001b[0m\u001b[0m\n\u001b[0m",
      "\u001b[0;31mTypeError\u001b[0m: can't multiply sequence by non-int of type 'list'"
     ]
    }
   ],
   "source": [
    "# Now let's create another array, B, with the same dimension as A\n",
    "B = [5,6,7,8]\n",
    "\n",
    "# and let's try to multiply it together\n",
    "A*B"
   ]
  },
  {
   "cell_type": "markdown",
   "metadata": {},
   "source": [
    "## Create Numpy arrays\n"
   ]
  },
  {
   "cell_type": "code",
   "execution_count": 205,
   "metadata": {},
   "outputs": [],
   "source": [
    "# Re-define the previous arrays as numpy arrays\n",
    "A = np.array([1,2,3,4])\n",
    "B = np.array([5,6,7,8])\n"
   ]
  },
  {
   "cell_type": "code",
   "execution_count": 206,
   "metadata": {},
   "outputs": [
    {
     "data": {
      "text/plain": [
       "array([1., 2., 3., 4.])"
      ]
     },
     "execution_count": 206,
     "metadata": {},
     "output_type": "execute_result"
    }
   ],
   "source": [
    "# An alternative by specifying the data type\n",
    "np.array([1,2,3,4], dtype=\"int64\")\n",
    "np.array([1,2,3,4], dtype=\"float64\")\n"
   ]
  },
  {
   "cell_type": "markdown",
   "metadata": {},
   "source": [
    "A common pitfall is to create a numpy array using parenthesis only. The following approach won't work:\n",
    "\n",
    "```python\n",
    "array = np.array(1,2,3,4)\n",
    "```"
   ]
  },
  {
   "cell_type": "code",
   "execution_count": 211,
   "metadata": {},
   "outputs": [
    {
     "name": "stdout",
     "output_type": "stream",
     "text": [
      "<class 'numpy.ndarray'>\n"
     ]
    }
   ],
   "source": [
    "# Check type\n",
    "print(type(A))\n"
   ]
  },
  {
   "cell_type": "markdown",
   "metadata": {},
   "source": [
    "## Operations"
   ]
  },
  {
   "cell_type": "code",
   "execution_count": 207,
   "metadata": {},
   "outputs": [
    {
     "name": "stdout",
     "output_type": "stream",
     "text": [
      "[ 3  6  9 12]\n",
      "[ 6  8 10 12]\n",
      "[-4 -4 -4 -4]\n",
      "[ 5 12 21 32]\n",
      "[0.2        0.33333333 0.42857143 0.5       ]\n",
      "[26 40 58 80]\n",
      "10\n"
     ]
    }
   ],
   "source": [
    "# Operations with Numpy arrays\n",
    "print(A*3)   # Vector times a scalar\n",
    "print(A + B)\n",
    "print(A - B)\n",
    "print(A * B)\n",
    "print(A / B)\n",
    "print(A**2 + B**2) # Exponentiation Calculate hypotenuse of multiple rectangle triangle\n",
    "print(A.sum())\n"
   ]
  },
  {
   "cell_type": "code",
   "execution_count": 208,
   "metadata": {},
   "outputs": [
    {
     "name": "stdout",
     "output_type": "stream",
     "text": [
      "[[2.2 1.3]\n",
      " [5.2 4.3]]\n"
     ]
    }
   ],
   "source": [
    "# Dot product (useful for linear algebra operations)\n",
    "# The dot product is useful when dealing with matrix multiplication. \n",
    "# It is often used to calculate the weighted sum.\n",
    "\n",
    "O = [[1, 2, 3], \n",
    "      [4, 5, 6]]\n",
    "\n",
    "P = [[0.3, 0.8], \n",
    "     [0.2, 0.1],\n",
    "     [0.5, 0.1]]\n",
    "\n",
    "Q = np.dot(O, P)\n",
    "print(Q)\n"
   ]
  },
  {
   "cell_type": "markdown",
   "metadata": {},
   "source": [
    "The values of Q are calculated as follow:\n",
    "\n",
    "```python\n",
    "Q11 = 1*0.3 + 2*0.2 + 3*0.5\n",
    "Q21 = 4*0.3 + 5*0.2 + 6*0.5\n",
    "Q12 = 1*0.8 + 2*0.1 + 3*0.1\n",
    "Q22 = 4*0.8 + 5*0.1 + 6*0.1\n",
    "```\n"
   ]
  },
  {
   "cell_type": "markdown",
   "metadata": {},
   "source": [
    "## Attributes"
   ]
  },
  {
   "cell_type": "code",
   "execution_count": 213,
   "metadata": {},
   "outputs": [
    {
     "name": "stdout",
     "output_type": "stream",
     "text": [
      "2\n",
      "(2, 4)\n",
      "8\n",
      "int64\n",
      "2\n",
      "4\n"
     ]
    }
   ],
   "source": [
    "# Most important attributes of Numpy arrays\n",
    "array2D = np.array([[1,2,3,4],[5,6,7,8]]) # 2D array\n",
    "\n",
    "print(array2D.ndim)  # Number of dimensions\n",
    "print(array2D.shape) # Size of the array\n",
    "print(array2D.size)  # Total number of elements\n",
    "print(array2D.dtype) # Type of elements in array\n",
    "\n",
    "# Get specific dimensions of an array\n",
    "print(array2D.shape[0]) # number of rows\n",
    "print(array2D.shape[1]) # Number of columns"
   ]
  },
  {
   "cell_type": "code",
   "execution_count": null,
   "metadata": {},
   "outputs": [],
   "source": [
    "# Example with a name\n",
    "john = np.array([1,2,3])\n",
    "\n",
    "print(john.dtype)\n",
    "print(john.mean())\n",
    "print(john.size)\n",
    "print(type(john))"
   ]
  },
  {
   "cell_type": "code",
   "execution_count": 86,
   "metadata": {},
   "outputs": [
    {
     "name": "stdout",
     "output_type": "stream",
     "text": [
      "Original 2D:\n",
      "[[1 2 3 4]\n",
      " [5 6 7 8]]\n",
      "New 2D:\n",
      "[[1 2]\n",
      " [3 4]\n",
      " [5 6]\n",
      " [7 8]]\n",
      "New 3D:\n",
      "[[[1 2]\n",
      "  [3 4]]\n",
      "\n",
      " [[5 6]\n",
      "  [7 8]]]\n"
     ]
    }
   ],
   "source": [
    "# Change shape of array\n",
    "print('Original 2D:')\n",
    "print(array2D)\n",
    "\n",
    "print('New 2D:')\n",
    "print(array2D.reshape(4,2))\n",
    "\n",
    "print('New 3D:')\n",
    "print(array2D.reshape(2,2,2))"
   ]
  },
  {
   "cell_type": "markdown",
   "metadata": {},
   "source": [
    "## Indexing and slicing\n",
    "\n",
    "                    +---+---+---+---+---+---+---+---+---+---+\n",
    "                    | 0 | 1 | 2 | 3 | 4 | 5 | 6 | 7 | 8 | 9 |\n",
    "                    +---+---+---+---+---+---+---+---+---+---+\n",
    "    Slice position: 0   1   2   3   4   5   6   7   8   9   10\n",
    "    Index position:   0   1   2   3   4   5   6   7   8   9\n",
    "\n"
   ]
  },
  {
   "cell_type": "code",
   "execution_count": 214,
   "metadata": {},
   "outputs": [
    {
     "name": "stdout",
     "output_type": "stream",
     "text": [
      "[0 1 2 3 4 5 6 7 8 9]\n",
      "1\n",
      "[0 1]\n",
      "[0 1 2 3 4 5 6 7 8 9]\n",
      "[0 2 4 6 8]\n",
      "[0 2 4 6 8]\n"
     ]
    }
   ],
   "source": [
    "# Create example array\n",
    "x = np.arange(10)\n",
    "print(x)\n",
    "\n",
    "# Indexing\n",
    "print(x[1]) # Second element\n",
    "\n",
    "# Slicing\n",
    "# array[start:stop:step]\n",
    "\n",
    "print(x[0:2])    # First and second element\n",
    "print(x[0:])     # All elements (from 0 and on)\n",
    "print(x[0:10:2]) # Every other element\n",
    "print(x[0:-1:2]) # Every other element, without knowing the total number of elements\n",
    "\n"
   ]
  },
  {
   "cell_type": "markdown",
   "metadata": {},
   "source": [
    "## Slicing exercise\n",
    "\n",
    "Given the following 5 by 5 matrix of integers:"
   ]
  },
  {
   "cell_type": "code",
   "execution_count": 219,
   "metadata": {},
   "outputs": [
    {
     "name": "stdout",
     "output_type": "stream",
     "text": [
      "[[5 0 3 3 7]\n",
      " [9 3 5 2 4]\n",
      " [7 6 8 8 1]\n",
      " [6 7 7 8 1]\n",
      " [5 9 8 9 4]]\n"
     ]
    }
   ],
   "source": [
    "np.random.seed(0)\n",
    "M = np.random.randint(0,10,[5,5])\n",
    "print(M)\n"
   ]
  },
  {
   "cell_type": "markdown",
   "metadata": {},
   "source": [
    "Write the five python commands to extract:\n",
    "- top row\n",
    "- bottom row\n",
    "- right-most column\n",
    "- left-most column\n",
    "- upper-right 3x3 matrix"
   ]
  },
  {
   "cell_type": "code",
   "execution_count": 151,
   "metadata": {},
   "outputs": [
    {
     "name": "stdout",
     "output_type": "stream",
     "text": [
      "[5 0 3 3 7]\n",
      "[5 0 3 3 7]\n",
      "[5 0 3 3 7]\n",
      "[5 9 8 9 4]\n",
      "[5 9 8 9 4]\n",
      "[5 9 8 9 4]\n",
      "[7 4 1 1 4]\n",
      "[5 9 7 6 5]\n",
      "[[3 3 7]\n",
      " [5 2 4]\n",
      " [8 8 1]]\n"
     ]
    }
   ],
   "source": [
    "# Answer\n",
    "# Top row\n",
    "print(M[0,:]) # Preferred\n",
    "print(M[:1][0])\n",
    "print(M[0])\n",
    "\n",
    "# Bottom row\n",
    "print(M[-1,:]) # Preferred\n",
    "print(M[-1])\n",
    "print(M[4,:])\n",
    "\n",
    "\n",
    "# Right-most column\n",
    "print(M[:,-1])\n",
    "\n",
    "# Left-most column\n",
    "print(M[:,0])\n",
    "\n",
    "# Upper-right 3x3 matrix\n",
    "print(M[0:3,2:M.shape[1]])\n",
    "\n",
    "# This will not work:\n",
    "# M[0:3,2:1]\n",
    "# Read '2:' as all columns (or rows) from index 2 to the end (all the remaining, to the end)"
   ]
  },
  {
   "cell_type": "markdown",
   "metadata": {},
   "source": [
    "## Numpy random module"
   ]
  },
  {
   "cell_type": "code",
   "execution_count": 87,
   "metadata": {},
   "outputs": [
    {
     "name": "stdout",
     "output_type": "stream",
     "text": [
      "5\n",
      "[0 3 3 7 9 3 5]\n",
      "[[2 4 7 6 8]\n",
      " [8 1 6 7 7]\n",
      " [8 1 5 9 8]\n",
      " [9 4 3 0 3]\n",
      " [5 0 2 3 8]]\n"
     ]
    }
   ],
   "source": [
    "# Random module within Numpy. Random integers from uniform distribution\n",
    "np.random.seed(0) # For reproducibility\n",
    "\n",
    "# numpy.random.randint(low, high=None, size=None, dtype='l')\n",
    "R1 = np.random.randint(0,10) # Scalar\n",
    "print(R1)\n",
    "\n",
    "R2 = np.random.randint(0,10,7) # One dimensional array\n",
    "print(R2)\n",
    "\n",
    "R3 = np.random.randint(0,10,[5,5]) # Two-dimensional array\n",
    "print(R3)\n"
   ]
  },
  {
   "cell_type": "code",
   "execution_count": 89,
   "metadata": {},
   "outputs": [
    {
     "data": {
      "text/plain": [
       "array([[-0.40602374,  0.26644534, -1.35571372],\n",
       "       [-0.11410253, -0.84423086,  0.70564081],\n",
       "       [-0.39878617, -0.82719653, -0.4157447 ]])"
      ]
     },
     "execution_count": 89,
     "metadata": {},
     "output_type": "execute_result"
    }
   ],
   "source": [
    "# Normally distributed random numbers from the “standard normal” distribution.\n",
    "# Mean = 0 \n",
    "# Standard deviation = 1 \n",
    "np.random.randn() # A single float\n",
    "np.random.randn(5) # A 1-D array\n",
    "np.random.randn(3,3) # A 2-D array\n"
   ]
  },
  {
   "cell_type": "code",
   "execution_count": 90,
   "metadata": {},
   "outputs": [
    {
     "name": "stdout",
     "output_type": "stream",
     "text": [
      "[0.38648898 0.90259848 0.44994999 0.61306346 0.90234858]\n"
     ]
    }
   ],
   "source": [
    "# Random numbers between 0 and 1 from a uniform distribution\n",
    "print(np.random.rand(5))\n"
   ]
  },
  {
   "cell_type": "code",
   "execution_count": 91,
   "metadata": {},
   "outputs": [],
   "source": [
    "# Random numbers from specific distribution\n",
    "\n",
    "mu, sigma = 0, 0.1 # mean and standard deviation\n",
    "s = np.random.normal(mu, sigma, 1000) # random samples from a Gaussian distribution\n",
    "print(s)\n"
   ]
  },
  {
   "cell_type": "markdown",
   "metadata": {},
   "source": [
    "## Numpy common functions"
   ]
  },
  {
   "cell_type": "code",
   "execution_count": 203,
   "metadata": {},
   "outputs": [
    {
     "name": "stdout",
     "output_type": "stream",
     "text": [
      "[0 1 2 3 4]\n",
      "[0 2 4]\n",
      "[ 0  5 10 15 20 25 30 35 40 45 50 55]\n",
      "5050\n"
     ]
    }
   ],
   "source": [
    "# Generate a range\n",
    "# np.arange(start,stop,step)\n",
    "print(np.arange(0,5))\n",
    "print(np.arange(0,5,2))\n",
    "print(np.arange(0,60,5))\n",
    "\n",
    "# Challenge: Compute sum of integers from 1 to 100 using numpy\n",
    "print(np.arange(101).sum())\n"
   ]
  },
  {
   "cell_type": "code",
   "execution_count": 165,
   "metadata": {},
   "outputs": [
    {
     "name": "stdout",
     "output_type": "stream",
     "text": [
      "[-10.          -6.66666667  -3.33333333   0.           3.33333333\n",
      "   6.66666667  10.        ]\n"
     ]
    }
   ],
   "source": [
    "# Linear range\n",
    "# numpy.linspace(start, stop, num=50, endpoint=True)\n",
    "print(np.linspace(-10, 10, 7))\n"
   ]
  },
  {
   "cell_type": "code",
   "execution_count": 96,
   "metadata": {},
   "outputs": [
    {
     "data": {
      "text/plain": [
       "array([[0., 0., 0.],\n",
       "       [0., 0., 0.],\n",
       "       [0., 0., 0.],\n",
       "       [0., 0., 0.],\n",
       "       [0., 0., 0.]])"
      ]
     },
     "execution_count": 96,
     "metadata": {},
     "output_type": "execute_result"
    }
   ],
   "source": [
    "# Array of zeros\n",
    "np.zeros([5,3])"
   ]
  },
  {
   "cell_type": "code",
   "execution_count": 97,
   "metadata": {},
   "outputs": [
    {
     "data": {
      "text/plain": [
       "array([[1., 1., 1.],\n",
       "       [1., 1., 1.],\n",
       "       [1., 1., 1.],\n",
       "       [1., 1., 1.]])"
      ]
     },
     "execution_count": 97,
     "metadata": {},
     "output_type": "execute_result"
    }
   ],
   "source": [
    "# Array of ones\n",
    "np.ones([4,3])\n"
   ]
  },
  {
   "cell_type": "code",
   "execution_count": 148,
   "metadata": {},
   "outputs": [
    {
     "data": {
      "text/plain": [
       "array([[nan, nan, nan],\n",
       "       [nan, nan, nan],\n",
       "       [nan, nan, nan],\n",
       "       [nan, nan, nan]])"
      ]
     },
     "execution_count": 148,
     "metadata": {},
     "output_type": "execute_result"
    }
   ],
   "source": [
    "# NaN values\n",
    "np.ones([4,3])*np.nan\n"
   ]
  },
  {
   "cell_type": "code",
   "execution_count": 191,
   "metadata": {},
   "outputs": [
    {
     "name": "stdout",
     "output_type": "stream",
     "text": [
      "[36. 37. 38. 39. 40.]\n",
      "[-102. -101. -100.  -99.  -98.]\n",
      "[[36. 37. 38. 39. 40.]\n",
      " [36. 37. 38. 39. 40.]\n",
      " [36. 37. 38. 39. 40.]\n",
      " [36. 37. 38. 39. 40.]\n",
      " [36. 37. 38. 39. 40.]]\n",
      "[[-102. -102. -102. -102. -102.]\n",
      " [-101. -101. -101. -101. -101.]\n",
      " [-100. -100. -100. -100. -100.]\n",
      " [ -99.  -99.  -99.  -99.  -99.]\n",
      " [ -98.  -98.  -98.  -98.  -98.]]\n"
     ]
    }
   ],
   "source": [
    "# Vector\n",
    "N = 5\n",
    "lat = np.linspace(36, 40, N)\n",
    "lon = np.linspace(-102, -98, N)\n",
    "print(lat)\n",
    "print(lon)\n",
    "\n",
    "# Matrix\n",
    "LAT,LON = np.meshgrid(lat,lon)\n",
    "print(LAT)\n",
    "print(LON)\n",
    "\n",
    "# Generate a Z matrix using the X and Y matrix\n",
    "Z = X**2 + Y**2\n"
   ]
  },
  {
   "cell_type": "markdown",
   "metadata": {},
   "source": [
    "## Numpy combined with Matplotlib"
   ]
  },
  {
   "cell_type": "code",
   "execution_count": 215,
   "metadata": {},
   "outputs": [
    {
     "data": {
      "image/png": "[encoded data removed]",
      "text/plain": [
       "<Figure size 432x288 with 1 Axes>"
      ]
     },
     "metadata": {
      "needs_background": "light"
     },
     "output_type": "display_data"
    }
   ],
   "source": [
    "import matplotlib.pyplot as plt\n",
    "%matplotlib inline\n",
    "\n",
    "T_avg = 15              # Average annual air temperature\n",
    "T_amp = 10              # Annual air temperature amplitude\n",
    "doy = np.arange(1,366)  # Generate vector with days of the year\n",
    "\n",
    "x = 2 * np.pi * doy/365     # Convert doy into pi-radians (1 revolution = 2PI radians = 365 days)\n",
    "y = T_avg + T_amp*np.sin(x) # Main trend using a sine wave that oscillates around the mean temperature\n",
    "\n",
    "noise = np.random.normal(0, 3, x.size)  # White noise having zero mean and finite variance\n",
    "ynoisy = y + noise                      # A more realistic curve of air temperature\n",
    "\n",
    "plt.plot(doy, y, '-r')\n",
    "plt.plot(doy, ynoisy, '-k')\n",
    "plt.xlabel('Days')\n",
    "plt.ylabel('Air Temperature')\n",
    "plt.show()\n"
   ]
  },
  {
   "cell_type": "markdown",
   "metadata": {},
   "source": [
    ">Press ctrl + enter several times to show how different sets of random numbers change the chart"
   ]
  },
  {
   "cell_type": "markdown",
   "metadata": {},
   "source": [
    "## Numerical integration\n",
    "\n",
    "Example for calculation of soil water storage using soil moisture data recorded at two different dates and at ten different soil depths using a neutron probe in a wheat field located near Lahoma, OK. The goal is to integrate the soil moisture values for along the soil profile (i.e. all depths) for each date. We will then subtract the soil water storage to caculate the change in soil water storage over the course of nine days.\n"
   ]
  },
  {
   "cell_type": "code",
   "execution_count": 51,
   "metadata": {},
   "outputs": [],
   "source": [
    "depths = [10,30,50,70,90,110,130,150,170,190] # in centimeters\n",
    "vwc_16_jul_2009 = [0.094,0.190,0.196,0.229,0.154,0.227,0.266,0.258,0.258,0.262] # cm^3/cm^3\n",
    "vwc_24_jul_2009 = [0.156,0.244,0.207,0.227,0.162,0.250,0.277,0.258,0.262,0.269] # cm^3/cm^3\n"
   ]
  },
  {
   "cell_type": "code",
   "execution_count": 52,
   "metadata": {},
   "outputs": [],
   "source": [
    "storage_16_jul_2009 = np.trapz(vwc_16_jul_2009,depths)\n",
    "storage_24_jul_2009 = np.trapz(vwc_24_jul_2009,depths)"
   ]
  },
  {
   "cell_type": "code",
   "execution_count": null,
   "metadata": {},
   "outputs": [],
   "source": [
    "# Compute change in storage\n",
    "change_storage = storage_24_jul_2009 - storage_16_jul_2009"
   ]
  },
  {
   "cell_type": "code",
   "execution_count": 53,
   "metadata": {},
   "outputs": [
    {
     "name": "stdout",
     "output_type": "stream",
     "text": [
      "39.120000000000005\n",
      "41.99000000000001\n",
      "2.8700000000000045\n"
     ]
    }
   ],
   "source": [
    "print(storage_16_jul_2009)\n",
    "print(storage_24_jul_2009)\n",
    "print(change_storage)"
   ]
  }
 ],
 "metadata": {
  "kernelspec": {
   "display_name": "Python 3",
   "language": "python",
   "name": "python3"
  },
  "language_info": {
   "codemirror_mode": {
    "name": "ipython",
    "version": 3
   },
   "file_extension": ".py",
   "mimetype": "text/x-python",
   "name": "python",
   "nbconvert_exporter": "python",
   "pygments_lexer": "ipython3",
   "version": "3.7.0"
  }
 },
 "nbformat": 4,
 "nbformat_minor": 2
}
