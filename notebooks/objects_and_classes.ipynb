{
 "cells": [
  {
   "cell_type": "markdown",
   "metadata": {},
   "source": [
    "# Objects and classes\n",
    "\n",
    "Everything in Python is an object. The following code snippets are aimed at showing some of the features of objects and its properties and methods. At the end of these lines we learn how to create Python classe, which allow us to create a new type of object.\n",
    "\n",
    "I want to highlight that the difference between `function` and `method` is merely semantic. Functions are regular functions that can be outside a class (anywhere in your code) or as part of a class. In the latter situation, the function is often called `method`. A method is a function that is only available for a specifc object type. \n",
    "\n",
    "## List objects\n",
    "For instance, if we have the follwoing list `a = [2,1,3]` we can check its `type` and built-in `methods`.\n",
    "\n",
    "> To be clear, the variable `a` is an object that belongs to the class `list`"
   ]
  },
  {
   "cell_type": "code",
   "execution_count": 51,
   "metadata": {},
   "outputs": [
    {
     "name": "stdout",
     "output_type": "stream",
     "text": [
      "<class 'list'>\n",
      "<built-in method sort of list object at 0x11b1f6bc8>\n",
      "[1, 2, 3]\n"
     ]
    }
   ],
   "source": [
    "# Generate a list\n",
    "a = [2,1,3]\n",
    "\n",
    "# Print its type\n",
    "print(type(a))\n",
    "\n",
    "# Prove that sort() is a method of lists\n",
    "print(a.sort) # not using the ()\n",
    "\n",
    "# The following address 0x11b1f5508 is a pointer in memory\n",
    "# You will likely get a different pointer.\n",
    "\n",
    "# Let's use the built-in method\n",
    "a.sort()  # to invoke \n",
    "\n",
    "# and print the sorted list\n",
    "print(a)\n"
   ]
  },
  {
   "cell_type": "markdown",
   "metadata": {},
   "source": [
    "## String objects\n",
    "\n",
    "Let's try a different example this time using a string `b = \"soil` and the method `.upper()` to convert the entire string into upper case letters.\n",
    "\n",
    "Note that if you do this `b.s` and press on the `TAB` key you will not find a method called `.sort()` because that method is only available to `lists`. Now it could make sense to have such a method, let's say to sort letters from A to Z, but it was not developed into the class and as a consequence it is not available (or it might be available under a different method name).\n"
   ]
  },
  {
   "cell_type": "code",
   "execution_count": 52,
   "metadata": {},
   "outputs": [
    {
     "name": "stdout",
     "output_type": "stream",
     "text": [
      "<class 'str'>\n",
      "<built-in method upper of str object at 0x10d66ed50>\n",
      "SOIL\n"
     ]
    }
   ],
   "source": [
    "# Generate a string\n",
    "b = \"soil\"\n",
    "\n",
    "# Print its type\n",
    "print(type(b))\n",
    "\n",
    "# Prove that upper() is a method of lists\n",
    "print(b.upper) # not using the ()\n",
    "\n",
    "# Let's use the built-in method and print the upper case word\n",
    "print(b.upper())\n"
   ]
  },
  {
   "cell_type": "markdown",
   "metadata": {},
   "source": [
    "## Numpy objects\n",
    "\n",
    "One last example using the popular Numpy module. I want to show you that some methods can be extremely useful to make basic computations like calculating the mean value of an array.\n"
   ]
  },
  {
   "cell_type": "code",
   "execution_count": 57,
   "metadata": {},
   "outputs": [
    {
     "name": "stdout",
     "output_type": "stream",
     "text": [
      "[[ 5.82762107  6.30116202  6.49394418 10.95759274]\n",
      " [ 8.55305002  5.21993403  8.95412887  7.67664029]\n",
      " [ 2.02234023 10.01881041  4.58524054  2.74771334]]\n",
      "<class 'numpy.ndarray'>\n",
      "<built-in method mean of numpy.ndarray object at 0x11b22d2b0>\n",
      "[5.46767044 7.17996882 6.6777712  7.12731545]\n",
      "[7.39508    7.6009383  4.84352613]\n"
     ]
    }
   ],
   "source": [
    "# Import numpy module\n",
    "import numpy as np\n",
    "\n",
    "# Generate array of 3 rows and 4 columns (a 3 by 4 matrix)\n",
    "array = np.array(np.random.uniform(12, size=(3,4)))\n",
    "\n",
    "# Print array\n",
    "print(array)\n",
    "\n",
    "# Print object type\n",
    "print(type(array))\n",
    "\n",
    "# Prove that .mean() is a method of numpy objects\n",
    "print(array.mean)\n",
    "\n",
    "# Use the numpy method .mean() for axis 1 (along columns)\n",
    "# Output is 1 by 4 (average for each column along rows)\n",
    "print(array.mean(0))\n",
    "\n",
    "# Use the numpy method .mean() for axis 1\n",
    "# Output is 1 by 3 (average for each row along columns)\n",
    "print(array.mean(1))\n"
   ]
  },
  {
   "cell_type": "markdown",
   "metadata": {},
   "source": [
    "## Object properties"
   ]
  },
  {
   "cell_type": "code",
   "execution_count": 64,
   "metadata": {},
   "outputs": [
    {
     "name": "stdout",
     "output_type": "stream",
     "text": [
      "<class 'numpy.dtype'>\n",
      "float64\n",
      "<class 'tuple'>\n",
      "(3, 4)\n",
      "<class 'int'>\n",
      "12\n"
     ]
    }
   ],
   "source": [
    "# These are properties of the object\n",
    "\n",
    "# Type of elements in the array (float 64 bits in this case)\n",
    "print(type(array.dtype))\n",
    "print(array.dtype)\n",
    "      \n",
    "# Dimensions of the array\n",
    "print(type(array.shape))\n",
    "print(array.shape) # returns a tuple\n",
    "\n",
    "# Total number of elements\n",
    "print(type(array.size))\n",
    "print(array.size)\n"
   ]
  },
  {
   "cell_type": "markdown",
   "metadata": {},
   "source": [
    "## Custom classes and objects\n",
    "\n",
    "Now that we looked at multiple examples I propose we create our own class with our own properties and methods.\n",
    "\n",
    "Let 's set a class for a specific soil series. The underlying assumption is that soils that belong to the same soil series have similar characteristics. Thus, when we initiate our class, we can readily populate many soil properties based on commonly known features. If a specific soil that belongs to the series has a slightly different value for a property then we can change it.\n",
    "\n",
    "#### Crete soil series\n",
    "TAXONOMIC CLASS: Fine, smectitic, mesic Pachic Udertic Argiustolls\n",
    "\n",
    "TYPICAL PEDON: Crete silt loam on a convex, 0.5 percent slope in crop cover at an elevation of 440 meters (1445 feet). (Colors are for dry soil unless otherwise stated.)\n",
    "\n",
    "Ap--0 to 15 centimeters; very dark gray (10YR 3/1) silt loam\n",
    "\n",
    "A--15 to 36 centimeters; very dark gray (10YR 3/1) silty clay loam\n",
    "\n",
    "BA--36 to 48 centimeters; dark gray (10YR 4/1) silty clay loam\n",
    "\n",
    "Bt1--48 to 71 centimeters; brown (10YR 4/3) silty clay\n",
    "\n",
    "Bt2--71 to 89 centimeters; brown (10YR 5/3) silty clay\n",
    "\n",
    "BC--89 to 107 centimeters; light olive brown (2.5Y 5/4) silty clay\n",
    "\n",
    "C--107 to 152 centimeters; light yellowish brown (2.5Y 6/4) silty clay loam\n",
    "\n",
    "TYPE LOCATION: Saline County, Nebraska; latitude 40 degrees 39 minutes 47.8 seconds N and longitude 97 degrees 0 minutes 33.8 seconds W., NAD83.\n",
    "\n",
    "GEOGRAPHIC SETTING:\n",
    "Parent material: loess\n",
    "Landform: interfluves and hillslopes on uplands and stream terraces on river valleys\n",
    "Slopes: 0 to 11 percent\n",
    "Elevation: 400 to 600 meters (1310 to 1970 feet)\n",
    "Mean annual temperature: 10 to 13 degrees C (50 to 55 degrees F)\n",
    "Mean annual precipitation: 56 to 86 centimeters (22 to 34 inches)\n",
    "Frost-free period: 149 to 196 days\n"
   ]
  },
  {
   "cell_type": "code",
   "execution_count": null,
   "metadata": {},
   "outputs": [],
   "source": [
    "class creteseries():\n",
    "    \n",
    "    # class variable shared by all instances\n",
    "    Ap = {'top_depth': 0, \n",
    "          'bottom_depth': 15, \n",
    "          'munsell_color': '10YR 3/1', \n",
    "          'textural_class': \"silt loam\"}\n",
    "    \n",
    "    # class variable shared by all instances\n",
    "    A = {'top_depth': 15, \n",
    "          'bottom_depth': 36, \n",
    "          'munsell_color': '10YR 3/1', \n",
    "          'textural_class': \"silt clay loam\"}\n",
    "    \n",
    "    # instance variable unique to each instance\n",
    "    def add_location(self,city,lat,lon):\n",
    "        self.city = city\n",
    "        self.lat = lat\n",
    "        self.lon = lon\n",
    "    "
   ]
  },
  {
   "cell_type": "code",
   "execution_count": 86,
   "metadata": {},
   "outputs": [
    {
     "name": "stdout",
     "output_type": "stream",
     "text": [
      "{'top_depth': 0, 'bottom_depth': 15, 'munsell_color': '10YR 3/1', 'textural_class': 'silt loam'}\n",
      "10YR 3/1\n",
      "<class '__main__.creteseries'>\n"
     ]
    },
    {
     "data": {
      "text/plain": [
       "'Manhattan'"
      ]
     },
     "execution_count": 86,
     "metadata": {},
     "output_type": "execute_result"
    }
   ],
   "source": [
    "soil = creteseries()\n",
    "print(soil.Ap)\n",
    "print(soil.Ap['munsell_color'])\n",
    "print(type(soil))\n",
    "\n",
    "mysoil.add_location('Manhattan',38.5,-97.5)\n",
    "mysoil.city\n"
   ]
  },
  {
   "cell_type": "code",
   "execution_count": 147,
   "metadata": {},
   "outputs": [],
   "source": [
    "class creteseries():\n",
    "        \n",
    "    # class variable shared by all instances\n",
    "    Ap = {'top_depth': 0, \n",
    "          'bottom_depth': 15, \n",
    "          'munsell_color': '10YR 3/1', \n",
    "          'textural_class': \"silt loam\"}\n",
    "    \n",
    "    A = {'top_depth': 15, \n",
    "          'bottom_depth': 36, \n",
    "          'munsell_color': '10YR 3/1', \n",
    "          'textural_class': \"silt clay loam\"}\n",
    "    \n",
    "    # instance variables unique to each instance\n",
    "    def __init__(self,city,lat,lon):\n",
    "        self.city = city\n",
    "        self.lat = lat\n",
    "        self.lon = lon\n",
    "        \n",
    "    def add_landcover(self,landcover):\n",
    "        self.landcover = landcover\n",
    "        \n",
    "    def add_tillage(self,tillage):\n",
    "        self.tillage = tillage\n",
    "        "
   ]
  },
  {
   "cell_type": "code",
   "execution_count": 148,
   "metadata": {},
   "outputs": [
    {
     "name": "stdout",
     "output_type": "stream",
     "text": [
      "{'add_landcover': 'natural grassland',\n",
      " 'add_tillage': 'none',\n",
      " 'city': 'konza prairie',\n",
      " 'lat': 39.09498,\n",
      " 'lon': -96.575208}\n"
     ]
    }
   ],
   "source": [
    "soil = creteseries('konza prairie',39.094980, -96.575208)\n",
    "soil.add_landcover = 'natural grassland'\n",
    "soil.add_tillage = 'none'\n",
    "\n",
    "import pprint as pprint\n",
    "pprint.pprint(vars(soil))\n"
   ]
  },
  {
   "cell_type": "markdown",
   "metadata": {},
   "source": [
    "## Create your own class\n",
    "\n",
    "The Harney soil series is the official state soil for Kansas. Harney soils are deep, well-drained Mollisols formed in loess and that typically developed under prairie vegetation in the area covered by Nebraska and Kansas. Harney soils belong to the family of Fine, smectitic, mesic Typic Argiustolls.\n",
    "\n",
    "**TAXONOMIC CLASS**: Fine, smectitic, mesic Typic Argiustolls\n",
    "\n",
    "**TYPICAL PEDON**: Harney silt loam-in a nearly level cultivated field. (Colors are for dry soil unless otherwise stated.)\n",
    "\n",
    "**Ap** 0 to 9 inches; dark grayish brown (10YR 4/2) silt loam, very dark grayish brown (10YR 3/2) moist; moderate medium granular structure; slightly hard, very friable; many fine roots; slightly acid; clear smooth boundary. (4 to 14 inches thick)\n",
    "\n",
    "**AB** 9 to 12 inches; dark grayish brown (10YR 4/2) silt loam, very dark grayish brown (10YR 3/2) moist; moderate fine subangular blocky structure; hard, friable; many fine roots; neutral; clear smooth boundary. (0 to 10 inches thick)\n",
    "\n",
    "**Bt1** 12 to 18 inches; grayish brown (10YR 5/2) silty clay loam, dark grayish brown (10YR 4/2) moist; moderate medium subangular blocky structure; very hard, very firm; few fine roots; moderately alkaline; clear smooth boundary.\n",
    "\n",
    "**Bt2** 18 to 28 inches; grayish brown (10YR 5/2) silty clay loam, dark grayish brown (10YR 4/2) moist; strong medium subangular blocky structure; very hard, very firm; few fine roots; moderately alkaline; gradual smooth boundary. (Combined thickness of the Bt horizon is 10 to 26 inches)\n",
    "\n",
    "**BCk** 28 to 35 inches; brown (10YR 5/3) silty clay loam, brown (10YR 4/3) moist; moderate medium subangular blocky structure; hard, firm; few fine roots; many soft accumulations of carbonates; strong effervescence; moderately alkaline; gradual smooth boundary. (0 to 16 inches thick)\n",
    "\n",
    "**Ck** 35 to 47 inches; pale brown (10YR 6/3) silt loam, brown (10YR 5/3) moist; massive; slightly hard, friable; common soft accumulations of carbonates; strong effervescence; moderately alkaline; gradual smooth boundary. (0 to 20 inches thick)\n",
    "\n",
    "**C** 47 to 60 inches; pale brown (10YR 6/3) silt loam, brown (10YR 5/3) moist; massive; slightly hard, friable; strong effervescence; moderately alkaline.\n",
    "\n",
    "**TYPE LOCATION**: Pawnee County, Kansas; about 1 1/2 miles north of Garfield; 1,840 feet east and 100 feet south of the northwest corner of sec. 36, T. 22 S., R. 18 W.\n",
    "\n",
    "**Source**: United States Department of Agriculture (USDA) Natural Resources COnservation Service (NRCS) soil series description for [Harney series](https://soilseries.sc.egov.usda.gov/OSD_Docs/H/HARNEY.html)"
   ]
  },
  {
   "cell_type": "markdown",
   "metadata": {},
   "source": [
    "## References\n",
    "\n",
    "Python official documentation about objects and classes: https://docs.python.org/3/tutorial/classes.html\n",
    "\n",
    "Soil Survey Staff, Natural Resources Conservation Service, United States Department of Agriculture. Web Soil Survey. Available online. Accessed [20-january-2020].\n"
   ]
  },
  {
   "cell_type": "code",
   "execution_count": null,
   "metadata": {},
   "outputs": [],
   "source": []
  }
 ],
 "metadata": {
  "kernelspec": {
   "display_name": "Python 3",
   "language": "python",
   "name": "python3"
  },
  "language_info": {
   "codemirror_mode": {
    "name": "ipython",
    "version": 3
   },
   "file_extension": ".py",
   "mimetype": "text/x-python",
   "name": "python",
   "nbconvert_exporter": "python",
   "pygments_lexer": "ipython3",
   "version": "3.7.0"
  }
 },
 "nbformat": 4,
 "nbformat_minor": 2
}
