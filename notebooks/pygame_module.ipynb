{
 "cells": [
  {
   "cell_type": "code",
   "execution_count": null,
   "metadata": {},
   "outputs": [],
   "source": [
    "!pip install pygame"
   ]
  },
  {
   "cell_type": "code",
   "execution_count": null,
   "metadata": {},
   "outputs": [],
   "source": [
    "!pip install PyHamcrest"
   ]
  },
  {
   "cell_type": "code",
   "execution_count": 4,
   "metadata": {},
   "outputs": [],
   "source": [
    "import pygame"
   ]
  },
  {
   "cell_type": "code",
   "execution_count": null,
   "metadata": {},
   "outputs": [],
   "source": [
    "# Initialize the game\n",
    "pygame.init()\n",
    "\n",
    "# Display window\n",
    "window_width = 800\n",
    "window_height = 500\n",
    "win = pygame.display.set_mode((window_width,window_height))\n",
    "\n",
    "# Add window title\n",
    "pygame.display.set_caption('First game')\n",
    "\n",
    "# Set coordinates of left raquet\n",
    "raquet_width = 10\n",
    "raquet_height = 30\n",
    "left_raquet_x = 0\n",
    "left_raquet_y = round(window_height/2)\n",
    "right_raquet_x = window_width - raquet_width\n",
    "right_raquet_y = round(window_height/2)\n",
    "\n",
    "vel = 5\n",
    "\n",
    "run = True\n",
    "while run:\n",
    "    #pygame.time.display(50)\n",
    "    \n",
    "    for event in pygame.event.get():\n",
    "        if event.type == pygame.QUIT:\n",
    "            run = False\n",
    "            \n",
    "    keys = pygame.key.get_pressed()\n",
    "    \n",
    "    # Movement of right raquet\n",
    "    if keys[pygame.K_UP] and right_raquet_y < 0: \n",
    "        right_raquet_y -= vel\n",
    "    \n",
    "    if keys[pygame.K_DOWN] and right_raquet_y > window_height - raquet_height:\n",
    "        right_raquet_y += vel\n",
    "        \n",
    "    win.fill(0,0,0)\n",
    "    pygame.draw.rect(win, (255,255,255), (right_raquet_x,right_raquet_y))\n",
    "    pygame.display.update()\n",
    "    \n",
    "pygame.quit()\n",
    "    "
   ]
  },
  {
   "cell_type": "code",
   "execution_count": null,
   "metadata": {},
   "outputs": [
    {
     "name": "stdout",
     "output_type": "stream",
     "text": [
      "pygame 1.9.4\n",
      "Hello from the pygame community. https://www.pygame.org/contribute.html\n"
     ]
    }
   ],
   "source": [
    "import sys, pygame\n",
    "pygame.init()\n",
    "\n",
    "size = width, height = 820, 640\n",
    "speed = [2, 2]\n",
    "black = 0, 0, 0\n",
    "\n",
    "screen = pygame.display.set_mode(size)\n",
    "\n",
    "ball = pygame.image.load(\"intro_ball.gif\")\n",
    "ballrect = ball.get_rect()\n",
    "\n",
    "while 1:\n",
    "    for event in pygame.event.get():\n",
    "        if event.type == pygame.QUIT: sys.exit()\n",
    "\n",
    "    ballrect = ballrect.move(speed)\n",
    "    if ballrect.left < 0 or ballrect.right > width:\n",
    "        speed[0] = -speed[0]\n",
    "    if ballrect.top < 0 or ballrect.bottom > height:\n",
    "        speed[1] = -speed[1]\n",
    "\n",
    "    screen.fill(black)\n",
    "    screen.blit(ball, ballrect)\n",
    "    pygame.display.flip()"
   ]
  }
 ],
 "metadata": {
  "kernelspec": {
   "display_name": "Python 3",
   "language": "python",
   "name": "python3"
  },
  "language_info": {
   "codemirror_mode": {
    "name": "ipython",
    "version": 3
   },
   "file_extension": ".py",
   "mimetype": "text/x-python",
   "name": "python",
   "nbconvert_exporter": "python",
   "pygments_lexer": "ipython3",
   "version": "3.7.0"
  }
 },
 "nbformat": 4,
 "nbformat_minor": 2
}
