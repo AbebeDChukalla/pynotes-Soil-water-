{
 "cells": [
  {
   "cell_type": "markdown",
   "metadata": {},
   "source": [
    "# NBconvert Export\n",
    "\n",
    "A short snippet to export all Jupyter Lab notebooks in a directory into Markdown with associated image files.\n"
   ]
  },
  {
   "cell_type": "code",
   "execution_count": 1,
   "metadata": {},
   "outputs": [],
   "source": [
    "import glob"
   ]
  },
  {
   "cell_type": "markdown",
   "metadata": {},
   "source": [
    "## All notebooks"
   ]
  },
  {
   "cell_type": "code",
   "execution_count": 2,
   "metadata": {},
   "outputs": [
    {
     "data": {
      "text/plain": [
       "['anonymous_functions.ipynb',\n",
       " 'anscombe_quartet.ipynb',\n",
       " 'antecedent_precipitation_index.ipynb']"
      ]
     },
     "execution_count": 2,
     "metadata": {},
     "output_type": "execute_result"
    }
   ],
   "source": [
    "#directory = ''\n",
    "#glob.os.chdir(directory)\n",
    "notebooks = [file for file in glob.glob(\"*.ipynb\")]\n",
    "notebooks[0:3] # List few of them\n"
   ]
  },
  {
   "cell_type": "code",
   "execution_count": null,
   "metadata": {},
   "outputs": [],
   "source": [
    "for file in notebooks:\n",
    "    !jupyter nbconvert $file --to markdown --output-dir ../docs\n",
    "\n",
    "print(\"Done!\")"
   ]
  },
  {
   "cell_type": "markdown",
   "metadata": {},
   "source": [
    "## Single notebook"
   ]
  },
  {
   "cell_type": "code",
   "execution_count": 3,
   "metadata": {},
   "outputs": [
    {
     "name": "stdout",
     "output_type": "stream",
     "text": [
      "[NbConvertApp] Converting notebook disease_spread.ipynb to markdown\n",
      "[NbConvertApp] Support files will be in disease_spread_files/\n",
      "[NbConvertApp] Making directory ../docs/disease_spread_files\n",
      "[NbConvertApp] Writing 9094 bytes to ../docs/disease_spread.md\n"
     ]
    }
   ],
   "source": [
    "# Define a single notebook\n",
    "specific_notebook = 'disease_spread.ipynb'\n",
    "\n",
    "# Export single notebook\n",
    "!jupyter nbconvert $specific_notebook --to markdown --output-dir ../docs\n"
   ]
  },
  {
   "cell_type": "markdown",
   "metadata": {},
   "source": [
    "# To HTML"
   ]
  },
  {
   "cell_type": "markdown",
   "metadata": {},
   "source": [
    "### specific_notebook = 'population_dynamics.ipynb'\n",
    "\n",
    "!jupyter nbconvert $specific_notebook --to html --template basic --output-dir ../docs"
   ]
  }
 ],
 "metadata": {
  "kernelspec": {
   "display_name": "Python 3",
   "language": "python",
   "name": "python3"
  },
  "language_info": {
   "codemirror_mode": {
    "name": "ipython",
    "version": 3
   },
   "file_extension": ".py",
   "mimetype": "text/x-python",
   "name": "python",
   "nbconvert_exporter": "python",
   "pygments_lexer": "ipython3",
   "version": "3.7.6"
  }
 },
 "nbformat": 4,
 "nbformat_minor": 4
}
