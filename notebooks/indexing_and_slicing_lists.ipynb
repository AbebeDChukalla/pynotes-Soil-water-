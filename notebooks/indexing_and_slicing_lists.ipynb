{
 "cells": [
  {
   "cell_type": "markdown",
   "metadata": {},
   "source": [
    "# Indexing and slicing\n",
    "\n",
    "Learning how to access information stored in lists is essential to use the data in our code.\n",
    "Accesing data in lists probably deserves a separate tutorial. So here we go."
   ]
  },
  {
   "cell_type": "code",
   "execution_count": null,
   "metadata": {},
   "outputs": [],
   "source": [
    "#                 +---+---+---+---+---+---+\n",
    "#                 | P | y | t | h | o | n |\n",
    "#                 +---+---+---+---+---+---+\n",
    "# Slice position: 0   1   2   3   4   5   6\n",
    "# Index position:   0   1   2   3   4   5\n",
    "\n",
    "# array[start:stop:step]\n",
    "\n",
    "# Source: https://stackoverflow.com/questions/509211/understanding-slice-notation\n",
    "\n",
    "# Definitions\n",
    "# start: the beginning index of the slice, it will include the element at this index unless \n",
    "# it is the same as stop, defaults to 0, i.e. the first index. If it's negative, it means to \n",
    "# start n items from the end.\n",
    "\n",
    "# stop: the ending index of the slice, it does not include the element at this index, \n",
    "# defaults to length of the sequence being sliced, that is, up to and including the end.\n",
    "\n",
    "# step: the amount by which the index increases, defaults to 1. \n",
    "# If it's negative, you're slicing over the iterable in reverse.\n",
    "\n",
    "p = ['P','y','t','h','o','n']\n",
    "\n",
    "# Indexing\n",
    "# Remember that indexing results in items, not lists\n",
    "p[0]\n",
    "p[5]\n",
    "print(type(p[5]))\n",
    "\n",
    "# Slicing\n",
    "# Remember that slicing results in lists\n",
    "p[0:1]\n",
    "p[0:2]\n",
    "print(type(p[0:2]))\n",
    "\n",
    "# Get last 3 letters\n",
    "print(p[-3:]) # This means: \"3rd from the end, to the end.\"\n",
    "\n",
    "# Technically this is what is going on behind the Python interpreter\n",
    "# sliceable[start:stop:step]\n",
    "print(p[-3:len(p):1])\n",
    "\n",
    "# The colon is what tells Python you're giving it a slice and not a regular index. \n",
    "\n",
    "print(p[-3:-1]) # This will not return the last element. You can use -1 for indexing. \n",
    "# Since this is a slicing operation we need to use the : operator"
   ]
  }
 ],
 "metadata": {
  "kernelspec": {
   "display_name": "Python 3",
   "language": "python",
   "name": "python3"
  },
  "language_info": {
   "codemirror_mode": {
    "name": "ipython",
    "version": 3
   },
   "file_extension": ".py",
   "mimetype": "text/x-python",
   "name": "python",
   "nbconvert_exporter": "python",
   "pygments_lexer": "ipython3",
   "version": "3.7.0"
  }
 },
 "nbformat": 4,
 "nbformat_minor": 2
}
