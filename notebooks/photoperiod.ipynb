{
 "cells": [
  {
   "cell_type": "markdown",
   "metadata": {},
   "source": [
    "# **Photoperiod**\n",
    "\n",
    "Approximate daylength (photoperiod) based on location and day of the year using numpy module.\n",
    "\n",
    "## References: \n",
    "\n",
    "- Keisling, T.C., 1982. Calculation of the Length of Day 1. Agronomy Journal, 74(4), pp.758-759.\n",
    "\n",
    "- Further information can be found in Campbell and Norman, Introduction to environmental biphysics p. 168-171.\n",
    "    "
   ]
  },
  {
   "cell_type": "code",
   "execution_count": 1,
   "metadata": {},
   "outputs": [],
   "source": [
    "import numpy as np"
   ]
  },
  {
   "cell_type": "code",
   "execution_count": 5,
   "metadata": {},
   "outputs": [
    {
     "name": "stdout",
     "output_type": "stream",
     "text": [
      "Day of the year: 201\n",
      "Lat: 33.4 degrees\n",
      "Photoperiod: 14.2 hours/day\n"
     ]
    }
   ],
   "source": [
    "phi = 33.4;  # Latitude for consistency with notation in literature.\n",
    "doy = 201; # Day of the year. Julian calendar. Day from January 1.\n",
    "light_intensity = 2.206 * 10**-3\n",
    "\n",
    "C = np.sin(np.radians(23.44)) # sin of the obliquity of 23.44 degrees.\n",
    "B = -4.76 - 1.03 * np.log(light_intensity) # Eq. [5]. Angle of the sun below the horizon. Civil twilight is -4.76 degrees.\n",
    "\n",
    "# Calculations\n",
    "alpha = 90 + B # Eq. [6]. Value at sunrise and sunset.\n",
    "M = 0.9856*doy - 3.251 # Eq. [4].\n",
    "lmd = M + 1.916*np.sin(np.radians(M)) + 0.020*np.sin(np.radians(2*M)) + 282.565 # Eq. [3]. Lambda\n",
    "delta = np.degrees( np.arcsin(C*np.sin(np.radians(lmd))) ) # Eq. [2].\n",
    "\n",
    "# Defining sec(x) = 1/cos(x)\n",
    "P = 2/15 * np.degrees( np.arccos( np.cos(np.radians(alpha)) * (1/np.cos(np.radians(phi))) * (1/np.cos(np.radians(delta))) - np.tan(np.radians(phi)) * np.tan(np.radians(delta)) ) ) # Eq. [1].\n",
    "\n",
    "print('Day of the year: ' + str(doy))\n",
    "print('Lat: ' + str(phi) + ' degrees')\n",
    "print('Photoperiod: ' + str(round(P,2)) + ' hours/day')\n",
    "\n"
   ]
  }
 ],
 "metadata": {
  "kernelspec": {
   "display_name": "Python 3",
   "language": "python",
   "name": "python3"
  },
  "language_info": {
   "codemirror_mode": {
    "name": "ipython",
    "version": 3
   },
   "file_extension": ".py",
   "mimetype": "text/x-python",
   "name": "python",
   "nbconvert_exporter": "python",
   "pygments_lexer": "ipython3",
   "version": "3.7.0"
  }
 },
 "nbformat": 4,
 "nbformat_minor": 2
}
