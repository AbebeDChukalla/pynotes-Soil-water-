{
 "cells": [
  {
   "cell_type": "markdown",
   "metadata": {},
   "source": [
    "# Examples \n",
    "\n",
    "Simple examples of using Python as a simple calculator."
   ]
  },
  {
   "cell_type": "markdown",
   "metadata": {},
   "source": [
    "**Carpool availability**"
   ]
  },
  {
   "cell_type": "code",
   "execution_count": 2,
   "metadata": {},
   "outputs": [
    {
     "name": "stdout",
     "output_type": "stream",
     "text": [
      "There are 50 cars and remain only 15 sits available.\n"
     ]
    }
   ],
   "source": [
    "cars = 50\n",
    "sits_per_car = 4\n",
    "carpool_capacity = cars * sits_per_car\n",
    "passengers = 185\n",
    "sits_available = carpool_capacity - passengers\n",
    "print(\"There are\", cars, \"cars and remain only\", sits_available , \"sits available.\")"
   ]
  },
  {
   "cell_type": "markdown",
   "metadata": {},
   "source": [
    "**Body height conversion**"
   ]
  },
  {
   "cell_type": "code",
   "execution_count": 4,
   "metadata": {},
   "outputs": [
    {
     "name": "stdout",
     "output_type": "stream",
     "text": [
      "My height is 182.9 cm\n"
     ]
    }
   ],
   "source": [
    "height_inches = 72 # inches\n",
    "height_cm = height_inches * 2.54\n",
    "print(\"My height is\",round(height_cm,1),\"cm\")"
   ]
  },
  {
   "cell_type": "markdown",
   "metadata": {},
   "source": [
    "**Hypotenuse calculations**\n",
    "\n",
    "Given a and b are the sides of a right triangle, compute the hypotenuse. For instance, if a=3 and b=4, then the command must return a value of 5."
   ]
  },
  {
   "cell_type": "code",
   "execution_count": 10,
   "metadata": {},
   "outputs": [
    {
     "name": "stdout",
     "output_type": "stream",
     "text": [
      "Hypotenuse is: 6.26 cm\n"
     ]
    }
   ],
   "source": [
    "# Solution\n",
    "a = 3.0 # [cm]\n",
    "b = 5.5 # [cm]\n",
    "hypotenuse = (a**2 + b**2)**0.5\n",
    "print('Hypotenuse is:', round(hypotenuse,2),'cm')"
   ]
  }
 ],
 "metadata": {
  "kernelspec": {
   "display_name": "Python 3",
   "language": "python",
   "name": "python3"
  },
  "language_info": {
   "codemirror_mode": {
    "name": "ipython",
    "version": 3
   },
   "file_extension": ".py",
   "mimetype": "text/x-python",
   "name": "python",
   "nbconvert_exporter": "python",
   "pygments_lexer": "ipython3",
   "version": "3.7.0"
  }
 },
 "nbformat": 4,
 "nbformat_minor": 2
}
