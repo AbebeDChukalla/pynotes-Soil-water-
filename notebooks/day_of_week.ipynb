{
 "cells": [
  {
   "cell_type": "markdown",
   "metadata": {},
   "source": [
    "# Day of the week\n",
    "\n",
    "Determination of the day of the week for any day based on Lewis Carroll approach. This code was generated more as a personal challenge or puzzle while learning Python. The code is partitioned into a rather long series of steps to follow along the example in the textbook describing the method with an example.\n"
   ]
  },
  {
   "cell_type": "code",
   "execution_count": 13,
   "metadata": {},
   "outputs": [],
   "source": [
    "import datetime\n",
    "import math\n",
    "\n",
    "\n",
    "def dozens(value):\n",
    "    dozen = math.floor(value/12)\n",
    "    fraction = value - dozen*12\n",
    "    return dozen,fraction\n",
    "\n",
    "\n",
    "def digitsum(number):\n",
    "    counter_digits = 0\n",
    "    counter_fours = 0\n",
    "    for digit in str(number):\n",
    "        counter_digits += int(digit) \n",
    "        if digit == 4:\n",
    "            counter_fours += 1\n",
    "    return counter_digits, counter_fours\n",
    "\n",
    "\n",
    "def roundseven(number):\n",
    "    if number >= 7:\n",
    "        number = number % 7\n",
    "    else:\n",
    "        number\n",
    "    return number\n",
    "\n",
    "\n",
    "def monthitem(month):\n",
    "    D = {\"months\": [\"January\",\"February\",\"March\",\"April\",\"May\",\"June\",\"July\",\"August\",\"September\",\"October\",\"November\",\"December\"],\n",
    "        \"item\": [0,3,3,6,1,4,6,2,5,0,3,5]}\n",
    "    for i in range(0,len(D[\"months\"])):\n",
    "        if month == D[\"months\"][i]:\n",
    "            return D[\"item\"][i]\n",
    "        \n",
    "\n",
    "def adjustleap(year,month,partial_sum):\n",
    "    if year % 4 == 0 and (month == 'January' or month == \"February\"):\n",
    "        if partial_sum == 0:\n",
    "            partial_sum += 7\n",
    "        partial_sum -= 1\n",
    "    return partial_sum\n",
    "\n",
    "\n",
    "def dayofweek(partial_sum):\n",
    "    week_days = [\"Sunday\",\"Monday\",\"Tuesday\",\"Wednesday\",\"Thursday\",\"Friday\",\"Saturday\"]\n",
    "    for i in range(0,len(week_days)):\n",
    "        if partial_sum == i:\n",
    "            return week_days[i]\n",
    "        \n",
    "        "
   ]
  },
  {
   "cell_type": "code",
   "execution_count": 14,
   "metadata": {},
   "outputs": [
    {
     "name": "stdout",
     "output_type": "stream",
     "text": [
      "2020-02-11 00:00:00\n"
     ]
    }
   ],
   "source": [
    "# Target date (yyyy,mm,dd)\n",
    "#date = datetime.datetime(1676,2,23) # Original date in the book\n",
    "date = datetime.datetime(2020,2,11) # Martin Luther King Jr. day\n",
    "print(date)"
   ]
  },
  {
   "cell_type": "code",
   "execution_count": 15,
   "metadata": {},
   "outputs": [
    {
     "data": {
      "text/plain": [
       "6"
      ]
     },
     "execution_count": 15,
     "metadata": {},
     "output_type": "execute_result"
    }
   ],
   "source": [
    "# Century item\n",
    "century = math.floor(date.year/100)\n",
    "century_item = (3 - century % 4)*2\n",
    "century_item = roundseven(century_item)\n",
    "century_item\n"
   ]
  },
  {
   "cell_type": "code",
   "execution_count": 16,
   "metadata": {},
   "outputs": [
    {
     "data": {
      "text/plain": [
       "0"
      ]
     },
     "execution_count": 16,
     "metadata": {},
     "output_type": "execute_result"
    }
   ],
   "source": [
    "(century % 4)"
   ]
  },
  {
   "cell_type": "code",
   "execution_count": 17,
   "metadata": {},
   "outputs": [
    {
     "data": {
      "text/plain": [
       "3"
      ]
     },
     "execution_count": 17,
     "metadata": {},
     "output_type": "execute_result"
    }
   ],
   "source": [
    "# Year item\n",
    "year = math.floor((date.year-century*100))\n",
    "\n",
    "dozen,fraction = dozens(year)\n",
    "sum_fraction, fours = digitsum(fraction)\n",
    "\n",
    "year_item = dozen + fraction + sum_fraction + fours\n",
    "year_item = roundseven(year_item)\n",
    "year_item\n"
   ]
  },
  {
   "cell_type": "code",
   "execution_count": 18,
   "metadata": {},
   "outputs": [
    {
     "data": {
      "text/plain": [
       "2"
      ]
     },
     "execution_count": 18,
     "metadata": {},
     "output_type": "execute_result"
    }
   ],
   "source": [
    "# Partial sum\n",
    "partial_sum = century_item + year_item\n",
    "partial_sum = roundseven(partial_sum)\n",
    "partial_sum"
   ]
  },
  {
   "cell_type": "code",
   "execution_count": 19,
   "metadata": {},
   "outputs": [
    {
     "data": {
      "text/plain": [
       "3"
      ]
     },
     "execution_count": 19,
     "metadata": {},
     "output_type": "execute_result"
    }
   ],
   "source": [
    "# Month item\n",
    "month = date.strftime(\"%B\")\n",
    "month_item = monthitem(month)\n",
    "month_item\n"
   ]
  },
  {
   "cell_type": "code",
   "execution_count": 20,
   "metadata": {},
   "outputs": [
    {
     "data": {
      "text/plain": [
       "5"
      ]
     },
     "execution_count": 20,
     "metadata": {},
     "output_type": "execute_result"
    }
   ],
   "source": [
    "# Partial sum\n",
    "partial_sum = roundseven(partial_sum + month_item)\n",
    "partial_sum\n"
   ]
  },
  {
   "cell_type": "code",
   "execution_count": 21,
   "metadata": {},
   "outputs": [
    {
     "data": {
      "text/plain": [
       "4"
      ]
     },
     "execution_count": 21,
     "metadata": {},
     "output_type": "execute_result"
    }
   ],
   "source": [
    "# Day item\n",
    "day_item = roundseven(date.day)\n",
    "day_item\n",
    "    "
   ]
  },
  {
   "cell_type": "code",
   "execution_count": 22,
   "metadata": {},
   "outputs": [
    {
     "data": {
      "text/plain": [
       "2"
      ]
     },
     "execution_count": 22,
     "metadata": {},
     "output_type": "execute_result"
    }
   ],
   "source": [
    "# Partial sum\n",
    "partial_sum = roundseven(partial_sum + day_item)\n",
    "partial_sum\n"
   ]
  },
  {
   "cell_type": "code",
   "execution_count": 23,
   "metadata": {},
   "outputs": [
    {
     "data": {
      "text/plain": [
       "1"
      ]
     },
     "execution_count": 23,
     "metadata": {},
     "output_type": "execute_result"
    }
   ],
   "source": [
    "# Adjust for leap years\n",
    "adjustleap(date.year,month,partial_sum)\n"
   ]
  },
  {
   "cell_type": "code",
   "execution_count": 24,
   "metadata": {},
   "outputs": [
    {
     "data": {
      "text/plain": [
       "'Tuesday'"
      ]
     },
     "execution_count": 24,
     "metadata": {},
     "output_type": "execute_result"
    }
   ],
   "source": [
    "# Print the day of the week\n",
    "dayofweek(partial_sum)\n"
   ]
  },
  {
   "cell_type": "markdown",
   "metadata": {},
   "source": [
    "## References\n",
    "- Lewis Carroll in Numberland, p. 167\n",
    "- <https://www.reddit.com/r/learnmath/comments/2jjl4c/lewis_carrolls_day_of_the_week_algorithm/>"
   ]
  }
 ],
 "metadata": {
  "kernelspec": {
   "display_name": "Python 3",
   "language": "python",
   "name": "python3"
  },
  "language_info": {
   "codemirror_mode": {
    "name": "ipython",
    "version": 3
   },
   "file_extension": ".py",
   "mimetype": "text/x-python",
   "name": "python",
   "nbconvert_exporter": "python",
   "pygments_lexer": "ipython3",
   "version": "3.7.0"
  }
 },
 "nbformat": 4,
 "nbformat_minor": 2
}
