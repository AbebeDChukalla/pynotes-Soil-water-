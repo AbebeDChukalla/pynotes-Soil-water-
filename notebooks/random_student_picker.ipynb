{
 "cells": [
  {
   "cell_type": "markdown",
   "metadata": {},
   "source": [
    "# Random student picker\n",
    "\n",
    "This script groups a set of students into n groups with a maximum of k randomly selected members per group."
   ]
  },
  {
   "cell_type": "code",
   "execution_count": 1,
   "metadata": {},
   "outputs": [],
   "source": [
    "import numpy as np"
   ]
  },
  {
   "cell_type": "code",
   "execution_count": 4,
   "metadata": {},
   "outputs": [],
   "source": [
    "names_list = [\n",
    "'Elliott Carver',\n",
    "'John Coffin',\n",
    "'Adrian Correndo',\n",
    "'Javier Fernandez',\n",
    "'Katharine Gehl',\n",
    "'Nathan Hein',\n",
    "'Luiz Morosso',\n",
    "'Pedro Rossini',\n",
    "'Rachel Veenstra',\n",
    "'Bre Waterman',\n",
    "'Elizabeth Wilson',\n",
    "'Ruth Welti',\n",
    "'Pachuri Prasad',\n",
    "'Byron Evers',\n",
    "'Brett Plemons',\n",
    "]\n"
   ]
  },
  {
   "cell_type": "code",
   "execution_count": 5,
   "metadata": {},
   "outputs": [
    {
     "name": "stdout",
     "output_type": "stream",
     "text": [
      "Group: 1: Elliott Carver\n",
      "Group: 1: Nathan Hein\n",
      "Group: 1: Katharine Gehl\n",
      "Group: 2: Luiz Morosso\n",
      "Group: 2: Byron Evers\n",
      "Group: 2: Javier Fernandez\n",
      "Group: 3: Bre Waterman\n",
      "Group: 3: Ruth Welti\n",
      "Group: 3: Pedro Rossini\n",
      "Group: 4: John Coffin\n",
      "Group: 4: Elizabeth Wilson\n",
      "Group: 4: Pachuri Prasad\n",
      "Group: 5: Adrian Correndo\n",
      "Group: 5: Rachel Veenstra\n",
      "Group: 5: Brett Plemons\n"
     ]
    }
   ],
   "source": [
    "# Number of students\n",
    "\n",
    "kmembers = 3\n",
    "N = len(names_list)\n",
    "ngroups = np.ceil(N/kmembers)\n",
    "groups = []\n",
    "\n",
    "# Generate array of groups (as integers), with a maximum number of kmembers per group\n",
    "for i in range(int(ngroups)):\n",
    "    groups = np.append(groups,np.ones(kmembers)*i+1).astype(int)\n",
    "\n",
    "# Shuffle the group numbers\n",
    "np.random.shuffle(names_list)\n",
    "\n",
    "for i in range(0,len(names_list)):\n",
    "    print('Group: ' + str(int(groups[i])) + ': ' + names_list[i])\n"
   ]
  }
 ],
 "metadata": {
  "kernelspec": {
   "display_name": "Python 3",
   "language": "python",
   "name": "python3"
  },
  "language_info": {
   "codemirror_mode": {
    "name": "ipython",
    "version": 3
   },
   "file_extension": ".py",
   "mimetype": "text/x-python",
   "name": "python",
   "nbconvert_exporter": "python",
   "pygments_lexer": "ipython3",
   "version": "3.7.0"
  }
 },
 "nbformat": 4,
 "nbformat_minor": 2
}
