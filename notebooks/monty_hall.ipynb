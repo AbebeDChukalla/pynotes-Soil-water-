{
 "cells": [
  {
   "cell_type": "markdown",
   "metadata": {},
   "source": [
    "# Monty Hall\n",
    "\n",
    "A simple Python version of the popular game show \"Let's Make a Deal\". The rules of the game are simple:\n",
    "\n",
    "- There are three doors and the doors are closed\n",
    "- Behind one door there is a car and behind each of the remaining doors there is a goat\n",
    "- The player selects a door\n",
    "- The host reveals one of the doors containing a goat, which means that two doors remain closed (including the door selected by the player)\n",
    "- The host asks the player if he/she wishes to change the selection of his/her door\n",
    "- Player makes a decision whether he/she stays with the initial choice or selects the other door\n",
    "- Hosts reveals what is behind the door selected by the player\n",
    "\n",
    "The most important part of the game is when the host reveals the location of one of the goats. At this point the host is giving valuable information to the player. The player has the chance to exploit this new information by swapping the doors.\n"
   ]
  },
  {
   "cell_type": "code",
   "execution_count": 85,
   "metadata": {},
   "outputs": [
    {
     "name": "stdout",
     "output_type": "stream",
     "text": [
      "Door 1: X  | Door 2: X |  Door 3: X\n"
     ]
    },
    {
     "name": "stdin",
     "output_type": "stream",
     "text": [
      "Select a door (1, 2, or 3):  1\n"
     ]
    },
    {
     "name": "stdout",
     "output_type": "stream",
     "text": [
      "Player door: 1\n",
      "I can only tell you that there is a goat behind door 2\n"
     ]
    },
    {
     "name": "stdin",
     "output_type": "stream",
     "text": [
      "Would you like to change door 1 for door 3? (y/n) y\n"
     ]
    },
    {
     "name": "stdout",
     "output_type": "stream",
     "text": [
      "Your new door is: 3\n",
      "You win\n",
      "Door 1: goat  | Door 2: goat  | Door 3: car\n"
     ]
    }
   ],
   "source": [
    "import random\n",
    "\n",
    "# Initialize game\n",
    "print('Door 1: X',' | Door 2: X | ','Door 3: X')\n",
    "\n",
    "# Randomly assign prizes to each door\n",
    "prizes = ['goat','goat','car']\n",
    "doors = random.sample(prizes, k=3)\n",
    "\n",
    "# Ask player to select a door\n",
    "player_door = int(input('Select a door (1, 2, or 3): '))\n",
    "print('Player door:',player_door)\n",
    "\n",
    "# Find the door of each goat (don't show this to the player)\n",
    "goats = []\n",
    "for i in range(3):\n",
    "    if doors[i] == 'goat':\n",
    "        goats.append(i+1)\n",
    "        \n",
    "# Identify door with a goat that is not the door selected by the player\n",
    "if player_door == goats[0]:\n",
    "    opened_door = goats[1]\n",
    "    \n",
    "elif player_door == goats[1]:\n",
    "    opened_door = goats[0]\n",
    "    \n",
    "else:\n",
    "    opened_door = goats[0]\n",
    "    \n",
    "# Show player one of the goats\n",
    "print('I can only tell you that there is a goat behind door',opened_door)\n",
    "\n",
    "# Identify the only door that the player could select to change his/her current door \n",
    "swapping_possibilities = [1,2,3]\n",
    "swapping_possibilities.remove(player_door)\n",
    "swapping_possibilities.remove(opened_door)\n",
    "swap_door = input('Would you like to change door ' + str(player_door) + ' for door ' + str(swapping_possibilities[0]) + '? (y/n)')\n",
    "\n",
    "# Update player door in case player decided to change doors\n",
    "if swap_door == 'y':\n",
    "    player_door = swapping_possibilities[0]\n",
    "    print('Your new door is:',player_door)\n",
    "\n",
    "# Check if player won the car or a goat\n",
    "if doors[player_door-1] == 'car':\n",
    "    print('You win')\n",
    "\n",
    "else:\n",
    "    print('You lose')\n",
    "    \n",
    "# For transparency, disclose the prizes behind all doors\n",
    "print('Door 1:',doors[0],' | Door 2:',doors[1], ' | Door 3:', doors[2])"
   ]
  },
  {
   "cell_type": "markdown",
   "metadata": {},
   "source": [
    "## Detailed solution\n",
    "\n",
    "We will import the random module to randomly assign the prizes to each of the three doors. "
   ]
  },
  {
   "cell_type": "code",
   "execution_count": 58,
   "metadata": {},
   "outputs": [
    {
     "name": "stdout",
     "output_type": "stream",
     "text": [
      "['goat', 'car', 'goat']\n"
     ]
    }
   ],
   "source": [
    "import random"
   ]
  },
  {
   "cell_type": "markdown",
   "metadata": {},
   "source": [
    "Initialize the game by providing the user a graphical layout of the options. This step is rather irrelavant, but it helps making the game a bit easier to follow. We will print a similar statement showing the prizes behind each door at the end of the game."
   ]
  },
  {
   "cell_type": "code",
   "execution_count": 70,
   "metadata": {},
   "outputs": [
    {
     "name": "stdout",
     "output_type": "stream",
     "text": [
      "Door 1: X  | Door 2: X |  Door 3: X\n"
     ]
    }
   ],
   "source": [
    "print('Door 1: X',' | Door 2: X | ','Door 3: X')"
   ]
  },
  {
   "cell_type": "markdown",
   "metadata": {},
   "source": [
    "Store prizes in a list and randomly assign them to each door using the `sample` method. By setting `k=3` we ensure that all three prizes are randomly selected (selection without replacement)"
   ]
  },
  {
   "cell_type": "code",
   "execution_count": 71,
   "metadata": {},
   "outputs": [
    {
     "name": "stdout",
     "output_type": "stream",
     "text": [
      "['goat', 'car', 'goat']\n"
     ]
    }
   ],
   "source": [
    "prizes = ['goat','goat','car']\n",
    "doors = random.sample(prizes, k=3)\n",
    "\n",
    "print(doors) # Let's print current output"
   ]
  },
  {
   "cell_type": "markdown",
   "metadata": {},
   "source": [
    "Request a door number from the player. Note that for now we will assume the player is entering integers 1, 2, or 3. Checking if the user input is valid will take additional lines of code and during the prototyping stage we will ignore that. However, once we get the logic right and the game is up and running you can take this exercise to the next level by implementing a while loop to validate user inputs and ask again in case the input was invalid."
   ]
  },
  {
   "cell_type": "code",
   "execution_count": 78,
   "metadata": {},
   "outputs": [
    {
     "name": "stdin",
     "output_type": "stream",
     "text": [
      "Select a door (1, 2, or 3):  1\n"
     ]
    },
    {
     "name": "stdout",
     "output_type": "stream",
     "text": [
      "Player door: 1\n"
     ]
    }
   ],
   "source": [
    "player_door = int(input('Select a door (1, 2, or 3): '))\n",
    "print('Player door:', player_door) # Just to make sure the player knows his/her door number"
   ]
  },
  {
   "cell_type": "markdown",
   "metadata": {},
   "source": [
    "Knowing the logic of the game, we are approaching the step where we need to display one of the doors containing a goat. If the user selected the door with the car, then any of the doors containing a goat will work. However, if the user selected a door containing a goat behind, then we need to ensure we display the door with the other goat. We certainly don't want to reveal the prize behind the door selected by the user. We need to keep the suspense to the very end.\n",
    "\n",
    "The way I found the solution is by keeping track of the position of the goats. I'm sure that there are more elegant solutions, but we know that the Monty Hall involves only three doors and I wanted to keep it simply. Again we are just prototyping, and different people break down problems in different ways. With experience you will learn more advanced tools or more \"tricks\" that will enable you to solve problems more efficiently. For now, let's keep it simple."
   ]
  },
  {
   "cell_type": "code",
   "execution_count": 74,
   "metadata": {},
   "outputs": [
    {
     "name": "stdout",
     "output_type": "stream",
     "text": [
      "[1, 3]\n"
     ]
    }
   ],
   "source": [
    "goats = []\n",
    "for i in range(3):\n",
    "    if doors[i] == 'goat':\n",
    "        goats.append(i+1) # Add one to match door numbers\n",
    "\n",
    "print(goats)\n"
   ]
  },
  {
   "cell_type": "markdown",
   "metadata": {},
   "source": [
    "Let's show the player a door containing one of the goats. If the user selected a door containing a goat behind we need to make sure that we diplay the door containing the other goat."
   ]
  },
  {
   "cell_type": "code",
   "execution_count": 80,
   "metadata": {},
   "outputs": [
    {
     "name": "stdout",
     "output_type": "stream",
     "text": [
      "I can only tell you that there is a goat behind door: 3\n"
     ]
    }
   ],
   "source": [
    "# If user_door matches the position of the first goat\n",
    "if player_door == goats[0]:\n",
    "    opened_door = goats[1] # then show the second goat\n",
    "\n",
    "# If user_door matches the position of the second goat\n",
    "elif player_door == goats[1]:\n",
    "    opened_door = goats[0] # then show the first goat\n",
    "\n",
    "# If user_door does not match any goats (selected the car)\n",
    "else:\n",
    "    opened_door = goats[0] # We can display either one. I selected the first one.\n",
    "\n",
    "print('I can only tell you that there is a goat behind door:',opened_door)"
   ]
  },
  {
   "cell_type": "markdown",
   "metadata": {},
   "source": [
    "The user selected a door and we display a goat behind a different door. Now the user is faced with a dilemma. Should the user change his/her initial selection? Probability analysis tells us that is better to change at this point, however, you will be surprised how many people stick to their first choice. There is also a misconception that at this point there is a 50% chance, however, if you switch there is a 66% chance of winning the big prize.\n",
    "\n",
    "At this point we have two doors closed and one door opened showing one of the goats. We need to ask the user if he/she wants to swap their initial door (one of the closed doors) for the other close door.\n",
    "\n",
    "To solve this problem I decided to find the remaining door (neither the door selected by the user nor the door we opened to show one of the goats) by removing the door selected from the user and the opened door from the set of the three possible doors."
   ]
  },
  {
   "cell_type": "code",
   "execution_count": 81,
   "metadata": {},
   "outputs": [
    {
     "name": "stdout",
     "output_type": "stream",
     "text": [
      "[2]\n"
     ]
    }
   ],
   "source": [
    "swapping_possibilities = [1,2,3]           # Possible doors\n",
    "swapping_possibilities.remove(player_door)   # remove user door\n",
    "swapping_possibilities.remove(opened_door) # Remove opened door\n",
    "\n",
    "print(swapping_possibilities)"
   ]
  },
  {
   "cell_type": "markdown",
   "metadata": {},
   "source": [
    "Now that we know the only possibility for the user to change his/her initial guess we can ask the following question:"
   ]
  },
  {
   "cell_type": "code",
   "execution_count": 82,
   "metadata": {},
   "outputs": [
    {
     "name": "stdin",
     "output_type": "stream",
     "text": [
      "Would you like to swap door 1 for door 2? (y/n) n\n"
     ]
    },
    {
     "name": "stdout",
     "output_type": "stream",
     "text": [
      "[2]\n"
     ]
    }
   ],
   "source": [
    "swap_door = input('Would you like to swap door ' + str(player_door) + ' for door ' + str(swapping_possibilities[0]) + '? (y/n)')\n"
   ]
  },
  {
   "cell_type": "markdown",
   "metadata": {},
   "source": [
    "Because we are not using any graphics to help the player, I decided to be explicit with the door numbers in the question.\n",
    "\n",
    "If the player decided to swap doors, then we need to update the player door with the only swapping possibility. Again, I decided to print the new door number to notify the player."
   ]
  },
  {
   "cell_type": "code",
   "execution_count": 83,
   "metadata": {},
   "outputs": [
    {
     "name": "stdout",
     "output_type": "stream",
     "text": [
      "1\n"
     ]
    }
   ],
   "source": [
    "if swap_door == 'y':\n",
    "    player_door = swapping_possibilities[0]\n",
    "    print('Your new door is:',player_door)\n",
    "\n",
    "print(player_door)"
   ]
  },
  {
   "cell_type": "markdown",
   "metadata": {},
   "source": [
    "At this point we know whether there is a car or a goat behind the door selected by the user."
   ]
  },
  {
   "cell_type": "code",
   "execution_count": 64,
   "metadata": {},
   "outputs": [
    {
     "name": "stdout",
     "output_type": "stream",
     "text": [
      "You win\n"
     ]
    }
   ],
   "source": [
    "if doors[player_door-1] == 'car':\n",
    "    print('You win')\n",
    "\n",
    "else:\n",
    "    print('You lose')\n"
   ]
  },
  {
   "cell_type": "markdown",
   "metadata": {},
   "source": [
    "The last step is to disclose the prizes behind all doors to prove the user that this was a fair game and that we were not hiding anything."
   ]
  },
  {
   "cell_type": "code",
   "execution_count": 84,
   "metadata": {},
   "outputs": [
    {
     "name": "stdout",
     "output_type": "stream",
     "text": [
      "Door 1: goat  | Door 2: car  | Door 3: goat\n"
     ]
    }
   ],
   "source": [
    "print('Door 1:',doors[0],' | Door 2:',doors[1], ' | Door 3:', doors[2])"
   ]
  }
 ],
 "metadata": {
  "kernelspec": {
   "display_name": "Python 3",
   "language": "python",
   "name": "python3"
  },
  "language_info": {
   "codemirror_mode": {
    "name": "ipython",
    "version": 3
   },
   "file_extension": ".py",
   "mimetype": "text/x-python",
   "name": "python",
   "nbconvert_exporter": "python",
   "pygments_lexer": "ipython3",
   "version": "3.7.0"
  }
 },
 "nbformat": 4,
 "nbformat_minor": 2
}
