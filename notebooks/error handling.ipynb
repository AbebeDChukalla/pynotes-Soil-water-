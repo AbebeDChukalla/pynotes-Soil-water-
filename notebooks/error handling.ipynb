{
 "cells": [
  {
   "cell_type": "markdown",
   "metadata": {},
   "source": [
    "# **Error handling**\n",
    "\n",
    "Erro handling may seem out of the scope for non-computer science students beginning to code. While you don't have to handle every exception when you are learning to code, it's a good idea to at least learn the basics. In this short snippet of code I want to introduce you to the `try` and `except` blocks, which allow you to set specific error messages. Again not something that you want to do after learning `hello world` but something that you can add to improve your projects. The idea is to let the user know why the code is not working.\n",
    "\n",
    "The idea is to *try* some code. If it works properly, then the interpreter will not execute the lines insde `except`. However, if the interpreter finds a valid expression or generates an invalid output, then (instead of immediately crashing) it will execute the code inside `except`. Here the idea is to capture things that went wrong and then provide a meaningful error message. Because many things can go wrong (e.g. input was required to be a string and the user passed a float, etc.) we can use `if statemetns` to check some scenarios.\n",
    "\n",
    "> *Running properly* means that the python expressions are valid. It does not mean that the result of the computation makes sense for your particular application."
   ]
  },
  {
   "cell_type": "code",
   "execution_count": null,
   "metadata": {},
   "outputs": [],
   "source": [
    "# try-except method\n",
    "\n",
    "try:\n",
    "    some statements here\n",
    "except:\n",
    "    exception handling"
   ]
  },
  {
   "cell_type": "code",
   "execution_count": 1,
   "metadata": {},
   "outputs": [
    {
     "name": "stdout",
     "output_type": "stream",
     "text": [
      "Value is not a number\n"
     ]
    }
   ],
   "source": [
    "input_value = '5'\n",
    "\n",
    "try:\n",
    "    input_value + 1\n",
    "except:\n",
    "    print('Value is not a number')"
   ]
  },
  {
   "cell_type": "code",
   "execution_count": 2,
   "metadata": {},
   "outputs": [
    {
     "ename": "Exception",
     "evalue": "Value is not a number",
     "output_type": "error",
     "traceback": [
      "\u001b[0;31m---------------------------------------------------------------------------\u001b[0m",
      "\u001b[0;31mTypeError\u001b[0m                                 Traceback (most recent call last)",
      "\u001b[0;32m<ipython-input-2-d8208d031f92>\u001b[0m in \u001b[0;36m<module>\u001b[0;34m()\u001b[0m\n\u001b[1;32m      3\u001b[0m \u001b[0;32mtry\u001b[0m\u001b[0;34m:\u001b[0m\u001b[0;34m\u001b[0m\u001b[0m\n\u001b[0;32m----> 4\u001b[0;31m     \u001b[0minput_value\u001b[0m \u001b[0;34m+\u001b[0m \u001b[0;36m1\u001b[0m\u001b[0;34m\u001b[0m\u001b[0m\n\u001b[0m\u001b[1;32m      5\u001b[0m \u001b[0;32mexcept\u001b[0m\u001b[0;34m:\u001b[0m\u001b[0;34m\u001b[0m\u001b[0m\n",
      "\u001b[0;31mTypeError\u001b[0m: can only concatenate str (not \"int\") to str",
      "\nDuring handling of the above exception, another exception occurred:\n",
      "\u001b[0;31mException\u001b[0m                                 Traceback (most recent call last)",
      "\u001b[0;32m<ipython-input-2-d8208d031f92>\u001b[0m in \u001b[0;36m<module>\u001b[0;34m()\u001b[0m\n\u001b[1;32m      4\u001b[0m     \u001b[0minput_value\u001b[0m \u001b[0;34m+\u001b[0m \u001b[0;36m1\u001b[0m\u001b[0;34m\u001b[0m\u001b[0m\n\u001b[1;32m      5\u001b[0m \u001b[0;32mexcept\u001b[0m\u001b[0;34m:\u001b[0m\u001b[0;34m\u001b[0m\u001b[0m\n\u001b[0;32m----> 6\u001b[0;31m     \u001b[0;32mraise\u001b[0m \u001b[0mException\u001b[0m\u001b[0;34m(\u001b[0m\u001b[0;34m'Value is not a number'\u001b[0m\u001b[0;34m)\u001b[0m\u001b[0;34m\u001b[0m\u001b[0m\n\u001b[0m",
      "\u001b[0;31mException\u001b[0m: Value is not a number"
     ]
    }
   ],
   "source": [
    "# Custom error message (see last line of the error message)\n",
    "input_value = '5'\n",
    "\n",
    "try:\n",
    "    input_value + 1\n",
    "except:\n",
    "    raise Exception('Value is not a number')"
   ]
  }
 ],
 "metadata": {
  "kernelspec": {
   "display_name": "Python 3",
   "language": "python",
   "name": "python3"
  },
  "language_info": {
   "codemirror_mode": {
    "name": "ipython",
    "version": 3
   },
   "file_extension": ".py",
   "mimetype": "text/x-python",
   "name": "python",
   "nbconvert_exporter": "python",
   "pygments_lexer": "ipython3",
   "version": "3.7.0"
  }
 },
 "nbformat": 4,
 "nbformat_minor": 2
}
