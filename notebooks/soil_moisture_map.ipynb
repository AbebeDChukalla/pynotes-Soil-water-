{
 "cells": [
  {
   "cell_type": "markdown",
   "metadata": {},
   "source": [
    "# Geospatial data\n",
    "\n",
    "- Install new module\n",
    "- Import raster layer\n",
    "- Import vector layer\n",
    "- Plot maps\n",
    "- Get location-specific values\n",
    "\n",
    "[Source](https://rasterio.readthedocs.io/en/stable/intro.html)"
   ]
  },
  {
   "cell_type": "code",
   "execution_count": null,
   "metadata": {},
   "outputs": [],
   "source": [
    "!pip install rasterio\n",
    "#conda install rasterio\n",
    "#conda install cartopy"
   ]
  },
  {
   "cell_type": "code",
   "execution_count": null,
   "metadata": {},
   "outputs": [],
   "source": [
    "import rasterio\n",
    "import numpy as np\n",
    "import matplotlib.pyplot as plt\n"
   ]
  },
  {
   "cell_type": "code",
   "execution_count": null,
   "metadata": {},
   "outputs": [],
   "source": [
    "# Load geo-referenced .TIF image\n",
    "dataset = rasterio.open('../datasets/storage_20180701_1km_v1.tif')\n"
   ]
  },
  {
   "cell_type": "markdown",
   "metadata": {},
   "source": [
    "A coordinate reference system (CRS) is a coordinate-based local, regional or global system used to locate geographical entities. Spatial reference systems can be referred including EPSG codes defined by the International Association of Oil and Gas Producers.\n",
    "\n",
    "[https://epsg.io/4326](https://epsg.io/4326)\n",
    "\n",
    "EPSG:4326 is equal to WGS84 - World Geodetic System 1984\n",
    "\n",
    ">EPSG stands for European Petroleum Survey Group and is an organization that maintains a geodetic parameter database with standard codes."
   ]
  },
  {
   "cell_type": "code",
   "execution_count": null,
   "metadata": {},
   "outputs": [],
   "source": [
    "# Print the coordinate reference system\n",
    "print(dataset.crs)\n"
   ]
  },
  {
   "cell_type": "code",
   "execution_count": null,
   "metadata": {},
   "outputs": [],
   "source": [
    "# Data type\n",
    "print(dataset.dtypes)\n"
   ]
  },
  {
   "cell_type": "code",
   "execution_count": null,
   "metadata": {},
   "outputs": [],
   "source": [
    "print(dataset.width)\n",
    "print(dataset.height)\n",
    "print(dataset.indexes)\n"
   ]
  },
  {
   "cell_type": "code",
   "execution_count": null,
   "metadata": {},
   "outputs": [],
   "source": [
    "# Find map boundaries\n",
    "print(dataset.bounds)\n"
   ]
  },
  {
   "cell_type": "code",
   "execution_count": null,
   "metadata": {},
   "outputs": [],
   "source": [
    "dataset.xy(0,0,offset='ul') # center by default. ul, ur, ll, lr."
   ]
  },
  {
   "cell_type": "code",
   "execution_count": null,
   "metadata": {},
   "outputs": [],
   "source": [
    "dataset_masked = np.ma.masked_equal(dataset.read(),255).astype('uint8')\n",
    "print(dataset_masked.dtype)\n",
    "print(dataset_masked.shape)"
   ]
  },
  {
   "cell_type": "code",
   "execution_count": null,
   "metadata": {},
   "outputs": [],
   "source": [
    "plt.figure(figsize=(12,8))\n",
    "plt.imshow(dataset_masked[0,:,:], cmap='RdYlBu')\n",
    "cb = plt.colorbar(ticks=range(0,301,20), \n",
    "                  label='Rootzone soil moisture (mm)',\n",
    "                  orientation=\"horizontal\",\n",
    "                  pad=0.1,\n",
    "                  aspect=50)\n",
    "\n",
    "plt.clim(-0.5, 300)\n",
    "plt.axis('off')\n",
    "plt.title('PAW 1-May-2019 in top 50 cm')\n",
    "plt.tight_layout()\n",
    "plt.show()\n"
   ]
  },
  {
   "cell_type": "code",
   "execution_count": null,
   "metadata": {},
   "outputs": [],
   "source": [
    "import cartopy.crs as ccrs\n",
    "import matplotlib.pyplot as plt\n",
    "\n",
    "ax = plt.axes(projection=ccrs.PlateCarree())\n",
    "ax.coastlines()"
   ]
  },
  {
   "cell_type": "code",
   "execution_count": null,
   "metadata": {},
   "outputs": [],
   "source": [
    "!conda install cartopy\n"
   ]
  }
 ],
 "metadata": {
  "kernelspec": {
   "display_name": "Python 3",
   "language": "python",
   "name": "python3"
  },
  "language_info": {
   "codemirror_mode": {
    "name": "ipython",
    "version": 3
   },
   "file_extension": ".py",
   "mimetype": "text/x-python",
   "name": "python",
   "nbconvert_exporter": "python",
   "pygments_lexer": "ipython3",
   "version": "3.7.6"
  }
 },
 "nbformat": 4,
 "nbformat_minor": 4
}
