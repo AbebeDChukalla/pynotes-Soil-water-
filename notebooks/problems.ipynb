{
 "cells": [
  {
   "cell_type": "code",
   "execution_count": null,
   "metadata": {},
   "outputs": [],
   "source": [
    "# Series of problems where students need to find the mistake and fix the code"
   ]
  },
  {
   "cell_type": "markdown",
   "metadata": {},
   "source": [
    "##word##"
   ]
  },
  {
   "cell_type": "code",
   "execution_count": null,
   "metadata": {},
   "outputs": [],
   "source": [
    "?heloo"
   ]
  },
  {
   "cell_type": "markdown",
   "metadata": {},
   "source": [
    "# Data types problems"
   ]
  },
  {
   "cell_type": "code",
   "execution_count": 2,
   "metadata": {},
   "outputs": [
    {
     "data": {
      "text/plain": [
       "2"
      ]
     },
     "execution_count": 2,
     "metadata": {},
     "output_type": "execute_result"
    }
   ],
   "source": [
    "# Problem: Access the second element of the array\n",
    "A = [1,2,3,4]\n",
    "A(1)"
   ]
  },
  {
   "cell_type": "code",
   "execution_count": null,
   "metadata": {},
   "outputs": [],
   "source": [
    "# Answer\n",
    "# Replace parentheses for square brackets\n",
    "A[1]"
   ]
  },
  {
   "cell_type": "code",
   "execution_count": 1,
   "metadata": {},
   "outputs": [
    {
     "data": {
      "text/plain": [
       "[29.9, 42.9, 44.8]"
      ]
     },
     "execution_count": 1,
     "metadata": {},
     "output_type": "execute_result"
    }
   ],
   "source": [
    "# Select the Python command that returns the last 3 temperature values of:\n",
    "A = [28.7, 25.0, 41.5, 29.9, 42.9, 44.8]\n",
    "A[-3:]"
   ]
  },
  {
   "cell_type": "code",
   "execution_count": 10,
   "metadata": {},
   "outputs": [
    {
     "name": "stdout",
     "output_type": "stream",
     "text": [
      "5.0\n"
     ]
    }
   ],
   "source": [
    "# If a and b are the legs of a right triangle, which line of code will return the hypotenuse?\n",
    "import math\n",
    "a=3\n",
    "b=4\n",
    "print((a**2 + b**2)**0.5)\n",
    "# print(sqrt(a**2 + b**2))\n",
    "# print([a**2 + b**2]**0.5)"
   ]
  },
  {
   "cell_type": "code",
   "execution_count": 16,
   "metadata": {},
   "outputs": [
    {
     "name": "stdout",
     "output_type": "stream",
     "text": [
      "{'lon': -0.13, 'lat': 51.51}\n",
      "280.32\n",
      "4.1\n"
     ]
    }
   ],
   "source": [
    "# URL: https://samples.openweathermap.org/data/2.5/weather?q=London,uk&appid=b6907d289e10d714a6e88b30761fae22\n",
    "# Source: https://openweathermap.org/current\n",
    "\n",
    "W = {\"coord\":{\"lon\":-0.13,\"lat\":51.51},\n",
    "     \"weather\":[{\"id\":300,\"main\":\"Drizzle\",\"description\":\"light intensity drizzle\",\"icon\":\"09d\"}],\n",
    "     \"base\":\"stations\",\n",
    "     \"main\":{\"temp\":280.32,\"pressure\":1012,\"humidity\":81,\"temp_min\":279.15,\"temp_max\":281.15},\n",
    "     \"visibility\":10000,\n",
    "     \"wind\":{\"speed\":4.1,\"deg\":80},\n",
    "     \"clouds\":{\"all\":90},\n",
    "     \"dt\":1485789600,\n",
    "     \"sys\":{\"type\":1,\"id\":5091,\"message\":0.0103,\"country\":\"GB\",\"sunrise\":1485762037,\"sunset\":1485794875},\n",
    "     \"id\":2643743,\n",
    "     \"name\":\"London\",\n",
    "     \"cod\":200}\n",
    "\n",
    "print(W['coord'])\n",
    "print(W['main']['temp'])\n",
    "print(W['wind'][\"speed\"])"
   ]
  },
  {
   "cell_type": "code",
   "execution_count": 19,
   "metadata": {},
   "outputs": [
    {
     "name": "stdout",
     "output_type": "stream",
     "text": [
      "20\n"
     ]
    },
    {
     "ename": "TypeError",
     "evalue": "'tuple' object does not support item assignment",
     "output_type": "error",
     "traceback": [
      "\u001b[1;31m---------------------------------------------------------------------------\u001b[0m",
      "\u001b[1;31mTypeError\u001b[0m                                 Traceback (most recent call last)",
      "\u001b[1;32m<ipython-input-19-0e0f4319eab3>\u001b[0m in \u001b[0;36m<module>\u001b[1;34m()\u001b[0m\n\u001b[0;32m      1\u001b[0m \u001b[0mmytuple\u001b[0m \u001b[1;33m=\u001b[0m \u001b[1;33m(\u001b[0m\u001b[1;36m10\u001b[0m\u001b[1;33m,\u001b[0m\u001b[1;36m20\u001b[0m\u001b[1;33m,\u001b[0m\u001b[1;36m30\u001b[0m\u001b[1;33m)\u001b[0m\u001b[1;33m\u001b[0m\u001b[0m\n\u001b[0;32m      2\u001b[0m \u001b[0mprint\u001b[0m\u001b[1;33m(\u001b[0m\u001b[0mmytuple\u001b[0m\u001b[1;33m[\u001b[0m\u001b[1;36m1\u001b[0m\u001b[1;33m]\u001b[0m\u001b[1;33m)\u001b[0m\u001b[1;33m\u001b[0m\u001b[0m\n\u001b[1;32m----> 3\u001b[1;33m \u001b[0mmytuple\u001b[0m\u001b[1;33m[\u001b[0m\u001b[1;36m0\u001b[0m\u001b[1;33m]\u001b[0m \u001b[1;33m=\u001b[0m \u001b[1;36m11\u001b[0m\u001b[1;33m;\u001b[0m\u001b[1;33m\u001b[0m\u001b[0m\n\u001b[0m",
      "\u001b[1;31mTypeError\u001b[0m: 'tuple' object does not support item assignment"
     ]
    }
   ],
   "source": [
    "mytuple = (10,20,30)\n",
    "print(mytuple[1])\n",
    "mytuple[0] = 11;"
   ]
  },
  {
   "cell_type": "markdown",
   "metadata": {},
   "source": [
    "# Strings problems"
   ]
  },
  {
   "cell_type": "code",
   "execution_count": 16,
   "metadata": {},
   "outputs": [
    {
     "ename": "SyntaxError",
     "evalue": "invalid syntax (<ipython-input-16-b52774eee195>, line 5)",
     "output_type": "error",
     "traceback": [
      "\u001b[0;36m  File \u001b[0;32m\"<ipython-input-16-b52774eee195>\"\u001b[0;36m, line \u001b[0;32m5\u001b[0m\n\u001b[0;31m    extension = .csv\u001b[0m\n\u001b[0m                ^\u001b[0m\n\u001b[0;31mSyntaxError\u001b[0m\u001b[0;31m:\u001b[0m invalid syntax\n"
     ]
    }
   ],
   "source": [
    "# Problem: Fix the code so that we can build a the full path for the file:\n",
    "# Result: /User/Documents/Datafiles/myfile.csv, must be a string\n",
    "\n",
    "filename = \"myfile\"\n",
    "extension = .csv\n",
    "path = \"/User/Documents/Datafiles/\"\n",
    "fullpath = [path + filename + extension]\n",
    "print(fullpath)\n"
   ]
  },
  {
   "cell_type": "code",
   "execution_count": 3,
   "metadata": {},
   "outputs": [
    {
     "name": "stdout",
     "output_type": "stream",
     "text": [
      "/User/Documents/Datafiles/myfile.csv\n",
      "<class 'str'>\n"
     ]
    }
   ],
   "source": [
    "# Answer\n",
    "# Add quotation marks to extension (must be a string)\n",
    "# Remove square brackets from fullpath so that the results is a string and not a list\n",
    "\n",
    "filename = \"myfile\"\n",
    "extension = \".csv\"\n",
    "path = \"/User/Documents/Datafiles/\"\n",
    "fullpath = path + filename + extension\n",
    "\n",
    "print(fullpath)\n",
    "print(type(fullpath))"
   ]
  },
  {
   "cell_type": "code",
   "execution_count": 12,
   "metadata": {},
   "outputs": [
    {
     "ename": "TypeError",
     "evalue": "'int' object is not subscriptable",
     "output_type": "error",
     "traceback": [
      "\u001b[0;31m---------------------------------------------------------------------------\u001b[0m",
      "\u001b[0;31mTypeError\u001b[0m                                 Traceback (most recent call last)",
      "\u001b[0;32m<ipython-input-12-9432f12b7974>\u001b[0m in \u001b[0;36m<module>\u001b[0;34m()\u001b[0m\n\u001b[1;32m      1\u001b[0m \u001b[0mB\u001b[0m \u001b[0;34m=\u001b[0m \u001b[0;34m[\u001b[0m \u001b[0;34m[\u001b[0m\u001b[0;36m1\u001b[0m\u001b[0;34m,\u001b[0m\u001b[0;36m2\u001b[0m\u001b[0;34m,\u001b[0m\u001b[0;36m3\u001b[0m\u001b[0;34m]\u001b[0m\u001b[0;34m,\u001b[0m \u001b[0;34m[\u001b[0m\u001b[0;36m4\u001b[0m\u001b[0;34m,\u001b[0m\u001b[0;36m5\u001b[0m\u001b[0;34m,\u001b[0m\u001b[0;36m6\u001b[0m\u001b[0;34m,\u001b[0m \u001b[0;34m[\u001b[0m\u001b[0;34m'a'\u001b[0m\u001b[0;34m,\u001b[0m\u001b[0;34m'b'\u001b[0m\u001b[0;34m,\u001b[0m\u001b[0;34m'c'\u001b[0m\u001b[0;34m]\u001b[0m\u001b[0;34m]\u001b[0m\u001b[0;34m]\u001b[0m\u001b[0;34m\u001b[0m\u001b[0m\n\u001b[1;32m      2\u001b[0m \u001b[0mB\u001b[0m\u001b[0;34m[\u001b[0m\u001b[0;36m1\u001b[0m\u001b[0;34m]\u001b[0m\u001b[0;34m[\u001b[0m\u001b[0;36m3\u001b[0m\u001b[0;34m]\u001b[0m\u001b[0;34m[\u001b[0m\u001b[0;36m0\u001b[0m\u001b[0;34m]\u001b[0m\u001b[0;34m\u001b[0m\u001b[0m\n\u001b[0;32m----> 3\u001b[0;31m \u001b[0mB\u001b[0m\u001b[0;34m[\u001b[0m\u001b[0;36m1\u001b[0m\u001b[0;34m]\u001b[0m\u001b[0;34m[\u001b[0m\u001b[0;36m0\u001b[0m\u001b[0;34m]\u001b[0m\u001b[0;34m[\u001b[0m\u001b[0;36m3\u001b[0m\u001b[0;34m]\u001b[0m\u001b[0;34m\u001b[0m\u001b[0m\n\u001b[0m",
      "\u001b[0;31mTypeError\u001b[0m: 'int' object is not subscriptable"
     ]
    }
   ],
   "source": [
    "B = [ [1,2,3], [4,5,6, ['a','b','c']]]\n",
    "B[1][3][0]\n",
    "B[1][0][3]"
   ]
  },
  {
   "cell_type": "markdown",
   "metadata": {},
   "source": [
    "# Datetime problem"
   ]
  },
  {
   "cell_type": "code",
   "execution_count": 16,
   "metadata": {},
   "outputs": [
    {
     "name": "stdout",
     "output_type": "stream",
     "text": [
      "42.62220429774305\n",
      "Day of the year: 43\n",
      "Fraction of the day: -0.38\n"
     ]
    }
   ],
   "source": [
    "# Assignment: Write a script that calculates the day of the year for the current date and time.\n",
    "# The script must output both the DOY as an integer and the fraction of the day.\n",
    "\n",
    "import datetime\n",
    "import math\n",
    "\n",
    "# Calculate the day of the year (DOY) for any given date.\n",
    "date = datetime.datetime.now()\n",
    "dateOne = datetime.datetime(date.year,1,1)\n",
    "dateDiff = date - dateOne; # Operations between datetime objects result in datetime objects\n",
    "doy_float = dateDiff.total_seconds()/86400 # gives the doy with decimal places\n",
    "doy_int = math.floor(doy_float) # found that total_seconds is a method from the error of dateDiff.total_seconds\n",
    "doy_fraction = doy_float - doy_int;\n",
    "\n",
    "print(doy_float)\n",
    "print('Day of the year: ' + str(doy_int))\n",
    "print('Fraction of the day: ' + str(round(doy_fraction,2)))\n",
    "\n"
   ]
  },
  {
   "cell_type": "code",
   "execution_count": 28,
   "metadata": {},
   "outputs": [
    {
     "name": "stdout",
     "output_type": "stream",
     "text": [
      "The result is: 180456.0\n"
     ]
    }
   ],
   "source": [
    "import datetime\n",
    "start_date = datetime.datetime(1998,6,1)\n",
    "end_date = datetime.datetime(2019,1,1)\n",
    "diff_date = end_date - start_date\n",
    "print(\"The result is:\",diff_date.total_seconds()/3600)"
   ]
  },
  {
   "cell_type": "markdown",
   "metadata": {},
   "source": [
    "# Random module problems"
   ]
  },
  {
   "cell_type": "code",
   "execution_count": 69,
   "metadata": {},
   "outputs": [
    {
     "ename": "ValueError",
     "evalue": "non-integer step for randrange()",
     "output_type": "error",
     "traceback": [
      "\u001b[0;31m---------------------------------------------------------------------------\u001b[0m",
      "\u001b[0;31mValueError\u001b[0m                                Traceback (most recent call last)",
      "\u001b[0;32m<ipython-input-69-3ee1a373d4b9>\u001b[0m in \u001b[0;36m<module>\u001b[0;34m()\u001b[0m\n\u001b[1;32m      7\u001b[0m \u001b[0;34m\u001b[0m\u001b[0m\n\u001b[1;32m      8\u001b[0m \u001b[0;34m\u001b[0m\u001b[0m\n\u001b[0;32m----> 9\u001b[0;31m \u001b[0mans2\u001b[0m \u001b[0;34m=\u001b[0m \u001b[0mrandom\u001b[0m\u001b[0;34m.\u001b[0m\u001b[0mrandrange\u001b[0m\u001b[0;34m(\u001b[0m\u001b[0;36m10\u001b[0m\u001b[0;34m,\u001b[0m\u001b[0;36m120\u001b[0m\u001b[0;34m,\u001b[0m\u001b[0;36m0.1\u001b[0m\u001b[0;34m)\u001b[0m\u001b[0;34m\u001b[0m\u001b[0m\n\u001b[0m\u001b[1;32m     10\u001b[0m \u001b[0;34m\u001b[0m\u001b[0m\n\u001b[1;32m     11\u001b[0m \u001b[0mans3\u001b[0m \u001b[0;34m=\u001b[0m \u001b[0mrandom\u001b[0m\u001b[0;34m.\u001b[0m\u001b[0mrandrange\u001b[0m\u001b[0;34m(\u001b[0m\u001b[0;36m0\u001b[0m\u001b[0;34m,\u001b[0m\u001b[0;36m1\u001b[0m\u001b[0;34m)\u001b[0m\u001b[0;34m\u001b[0m\u001b[0m\n",
      "\u001b[0;32m~/anaconda3/lib/python3.7/random.py\u001b[0m in \u001b[0;36mrandrange\u001b[0;34m(self, start, stop, step, _int)\u001b[0m\n\u001b[1;32m    203\u001b[0m         \u001b[0mistep\u001b[0m \u001b[0;34m=\u001b[0m \u001b[0m_int\u001b[0m\u001b[0;34m(\u001b[0m\u001b[0mstep\u001b[0m\u001b[0;34m)\u001b[0m\u001b[0;34m\u001b[0m\u001b[0m\n\u001b[1;32m    204\u001b[0m         \u001b[0;32mif\u001b[0m \u001b[0mistep\u001b[0m \u001b[0;34m!=\u001b[0m \u001b[0mstep\u001b[0m\u001b[0;34m:\u001b[0m\u001b[0;34m\u001b[0m\u001b[0m\n\u001b[0;32m--> 205\u001b[0;31m             \u001b[0;32mraise\u001b[0m \u001b[0mValueError\u001b[0m\u001b[0;34m(\u001b[0m\u001b[0;34m\"non-integer step for randrange()\"\u001b[0m\u001b[0;34m)\u001b[0m\u001b[0;34m\u001b[0m\u001b[0m\n\u001b[0m\u001b[1;32m    206\u001b[0m         \u001b[0;32mif\u001b[0m \u001b[0mistep\u001b[0m \u001b[0;34m>\u001b[0m \u001b[0;36m0\u001b[0m\u001b[0;34m:\u001b[0m\u001b[0;34m\u001b[0m\u001b[0m\n\u001b[1;32m    207\u001b[0m             \u001b[0mn\u001b[0m \u001b[0;34m=\u001b[0m \u001b[0;34m(\u001b[0m\u001b[0mwidth\u001b[0m \u001b[0;34m+\u001b[0m \u001b[0mistep\u001b[0m \u001b[0;34m-\u001b[0m \u001b[0;36m1\u001b[0m\u001b[0;34m)\u001b[0m \u001b[0;34m//\u001b[0m \u001b[0mistep\u001b[0m\u001b[0;34m\u001b[0m\u001b[0m\n",
      "\u001b[0;31mValueError\u001b[0m: non-integer step for randrange()"
     ]
    }
   ],
   "source": [
    "# Which of these Python commands returns a random integer from the range 10 to 120?\n",
    "# A random float within a specific range\n",
    "import random\n",
    "min_val = 20\n",
    "max_val = 120\n",
    "ans1 = (max_val - min_val)*random.random() + min_val\n",
    "\n",
    "\n",
    "ans2 = random.randrange(10,120,0.1)\n",
    "\n",
    "ans3 = random.randrange(0,1)\n",
    "\n",
    "print(ans1)\n",
    "print(ans2)\n",
    "print(ans3)"
   ]
  },
  {
   "cell_type": "markdown",
   "metadata": {},
   "source": [
    "# For loops problems"
   ]
  },
  {
   "cell_type": "code",
   "execution_count": 24,
   "metadata": {},
   "outputs": [
    {
     "name": "stdout",
     "output_type": "stream",
     "text": [
      "['mollisols', 'hapludols', 'alfisols']\n",
      "['mollisols', 'hapludols', 'alfisols']\n",
      "['mollisols', 'hapludols', 'alfisols']\n"
     ]
    }
   ],
   "source": [
    "# Problem: Fix the for loop so that it prints each element of the list one time\n",
    "\n",
    "soils = [\"mollisols\", \"hapludols\", \"alfisols\"]\n",
    "for x in soils:\n",
    "    print(soil)"
   ]
  },
  {
   "cell_type": "code",
   "execution_count": null,
   "metadata": {},
   "outputs": [],
   "source": [
    "# Answer\n",
    "# Replace soil for x\n",
    "soils = [\"mollisols\", \"hapludols\", \"alfisols\"]\n",
    "for x in soils:\n",
    "    print(x)"
   ]
  },
  {
   "cell_type": "markdown",
   "metadata": {},
   "source": [
    "# If statement problems"
   ]
  },
  {
   "cell_type": "code",
   "execution_count": 17,
   "metadata": {},
   "outputs": [
    {
     "ename": "SyntaxError",
     "evalue": "invalid syntax (<ipython-input-17-fb280fd773ef>, line 4)",
     "output_type": "error",
     "traceback": [
      "\u001b[0;36m  File \u001b[0;32m\"<ipython-input-17-fb280fd773ef>\"\u001b[0;36m, line \u001b[0;32m4\u001b[0m\n\u001b[0;31m    if A = \"apple\"\u001b[0m\n\u001b[0m         ^\u001b[0m\n\u001b[0;31mSyntaxError\u001b[0m\u001b[0;31m:\u001b[0m invalid syntax\n"
     ]
    }
   ],
   "source": [
    "# Problem: Fix the if statement so that it print \"It's an Apple\" when A = 'apple'\n",
    "A = \"apple\"\n",
    "\n",
    "if A = \"apple\"\n",
    "    print(\"Not an apple\")  \n",
    "else\n",
    "   print(\"It's an apple\")\n"
   ]
  },
  {
   "cell_type": "code",
   "execution_count": 7,
   "metadata": {},
   "outputs": [
    {
     "name": "stdout",
     "output_type": "stream",
     "text": [
      "It's an apple\n"
     ]
    }
   ],
   "source": [
    "# Answer\n",
    "# Add equal sign\n",
    "# Add colons after if and else\n",
    "# Correct logic (swap statements)\n",
    "\n",
    "A == \"apple\"\n",
    "\n",
    "if A == \"apple\":\n",
    "    print(\"It's an apple\")\n",
    "else:\n",
    "    print(\"Not an apple\")"
   ]
  },
  {
   "cell_type": "markdown",
   "metadata": {},
   "source": [
    "# Numpy Problems"
   ]
  },
  {
   "cell_type": "code",
   "execution_count": 71,
   "metadata": {},
   "outputs": [
    {
     "name": "stdout",
     "output_type": "stream",
     "text": [
      "[[5 0 3 3 7]\n",
      " [9 3 5 2 4]\n",
      " [7 6 8 8 1]\n",
      " [6 7 7 8 1]\n",
      " [5 9 8 9 4]]\n"
     ]
    }
   ],
   "source": [
    "# Problem: Write five python commands to extract:\n",
    "# top row\n",
    "# bottom row\n",
    "# right-most column\n",
    "# left-most column\n",
    "# upper-right 3x3 matrix\n",
    "\n",
    "import numpy as np\n",
    "np.random.seed(0)\n",
    "M = np.random.randint(0,10,[5,5])\n",
    "print(M)\n"
   ]
  },
  {
   "cell_type": "code",
   "execution_count": 77,
   "metadata": {},
   "outputs": [
    {
     "name": "stdout",
     "output_type": "stream",
     "text": [
      "[5 0 3 3 7]\n",
      "[5 9 8 9 4]\n",
      "[7 4 1 1 4]\n",
      "[5 9 7 6 5]\n",
      "[[3 3 7]\n",
      " [5 2 4]\n",
      " [8 8 1]]\n"
     ]
    }
   ],
   "source": [
    "# Answer\n",
    "# Top row\n",
    "print(M[0,:]) # or simply M[0]\n",
    "\n",
    "# Bottom row\n",
    "print(M[-1,:])\n",
    "\n",
    "#Right-most column\n",
    "print(M[:,-1])\n",
    "\n",
    "# Left-most column\n",
    "print(M[:,0])\n",
    "\n",
    "# upper-right 3x3 matrix\n",
    "print(M[0:3,2:]) # common mistake is to do M[0:2, 2:-1]\n",
    "\n",
    "# Read 2: as all columns (or rows) from index 2 to the end (all the remaining, to the end)"
   ]
  }
 ],
 "metadata": {
  "kernelspec": {
   "display_name": "Python 3",
   "language": "python",
   "name": "python3"
  },
  "language_info": {
   "codemirror_mode": {
    "name": "ipython",
    "version": 3
   },
   "file_extension": ".py",
   "mimetype": "text/x-python",
   "name": "python",
   "nbconvert_exporter": "python",
   "pygments_lexer": "ipython3",
   "version": "3.7.0"
  }
 },
 "nbformat": 4,
 "nbformat_minor": 2
}
