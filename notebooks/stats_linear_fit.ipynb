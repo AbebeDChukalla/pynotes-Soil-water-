{
 "cells": [
  {
   "cell_type": "markdown",
   "metadata": {},
   "source": [
    "# Linear fit"
   ]
  },
  {
   "cell_type": "code",
   "execution_count": 40,
   "metadata": {},
   "outputs": [],
   "source": [
    "import numpy as np\n",
    "import pandas as pd\n",
    "import matplotlib.pyplot as plt\n",
    "from scipy import stats\n"
   ]
  },
  {
   "cell_type": "code",
   "execution_count": 41,
   "metadata": {},
   "outputs": [],
   "source": [
    "data = pd.read_csv('../datasets/gypsum_ks_daily_2018.csv')\n"
   ]
  },
  {
   "cell_type": "code",
   "execution_count": 42,
   "metadata": {},
   "outputs": [
    {
     "data": {
      "text/html": [
       "<div>\n",
       "<style scoped>\n",
       "    .dataframe tbody tr th:only-of-type {\n",
       "        vertical-align: middle;\n",
       "    }\n",
       "\n",
       "    .dataframe tbody tr th {\n",
       "        vertical-align: top;\n",
       "    }\n",
       "\n",
       "    .dataframe thead th {\n",
       "        text-align: right;\n",
       "    }\n",
       "</style>\n",
       "<table border=\"1\" class=\"dataframe\">\n",
       "  <thead>\n",
       "    <tr style=\"text-align: right;\">\n",
       "      <th></th>\n",
       "      <th>TIMESTAMP</th>\n",
       "      <th>STATION</th>\n",
       "      <th>PRESSUREAVG</th>\n",
       "      <th>PRESSUREMAX</th>\n",
       "      <th>PRESSUREMIN</th>\n",
       "      <th>SLPAVG</th>\n",
       "      <th>TEMP2MAVG</th>\n",
       "      <th>TEMP2MMIN</th>\n",
       "      <th>TEMP2MMAX</th>\n",
       "      <th>TEMP10MAVG</th>\n",
       "      <th>...</th>\n",
       "      <th>SOILTMP10MAX</th>\n",
       "      <th>SOILTMP10MIN</th>\n",
       "      <th>SOILTMP5AVG655</th>\n",
       "      <th>SOILTMP10AVG655</th>\n",
       "      <th>SOILTMP20AVG655</th>\n",
       "      <th>SOILTMP50AVG655</th>\n",
       "      <th>VWC5CM</th>\n",
       "      <th>VWC10CM</th>\n",
       "      <th>VWC20CM</th>\n",
       "      <th>VWC50CM</th>\n",
       "    </tr>\n",
       "  </thead>\n",
       "  <tbody>\n",
       "    <tr>\n",
       "      <th>0</th>\n",
       "      <td>1/1/18 0:00</td>\n",
       "      <td>Gypsum</td>\n",
       "      <td>99.44</td>\n",
       "      <td>100.03</td>\n",
       "      <td>98.73</td>\n",
       "      <td>104.44</td>\n",
       "      <td>-15.15</td>\n",
       "      <td>-19.56</td>\n",
       "      <td>-11.00</td>\n",
       "      <td>-15.31</td>\n",
       "      <td>...</td>\n",
       "      <td>-1.18</td>\n",
       "      <td>-2.45</td>\n",
       "      <td>-1.33</td>\n",
       "      <td>-1.14</td>\n",
       "      <td>0.74</td>\n",
       "      <td>3.50</td>\n",
       "      <td>0.1377</td>\n",
       "      <td>0.1167</td>\n",
       "      <td>0.2665</td>\n",
       "      <td>0.2203</td>\n",
       "    </tr>\n",
       "    <tr>\n",
       "      <th>1</th>\n",
       "      <td>1/2/18 0:00</td>\n",
       "      <td>Gypsum</td>\n",
       "      <td>99.79</td>\n",
       "      <td>100.14</td>\n",
       "      <td>99.40</td>\n",
       "      <td>104.88</td>\n",
       "      <td>-16.48</td>\n",
       "      <td>-22.10</td>\n",
       "      <td>-10.40</td>\n",
       "      <td>-16.38</td>\n",
       "      <td>...</td>\n",
       "      <td>-1.56</td>\n",
       "      <td>-3.46</td>\n",
       "      <td>-2.10</td>\n",
       "      <td>-1.82</td>\n",
       "      <td>0.28</td>\n",
       "      <td>3.13</td>\n",
       "      <td>0.1234</td>\n",
       "      <td>0.1021</td>\n",
       "      <td>0.2642</td>\n",
       "      <td>0.2196</td>\n",
       "    </tr>\n",
       "    <tr>\n",
       "      <th>2</th>\n",
       "      <td>1/3/18 0:00</td>\n",
       "      <td>Gypsum</td>\n",
       "      <td>98.87</td>\n",
       "      <td>99.52</td>\n",
       "      <td>97.94</td>\n",
       "      <td>103.81</td>\n",
       "      <td>-11.03</td>\n",
       "      <td>-20.64</td>\n",
       "      <td>-2.71</td>\n",
       "      <td>-10.66</td>\n",
       "      <td>...</td>\n",
       "      <td>-1.49</td>\n",
       "      <td>-3.61</td>\n",
       "      <td>-2.21</td>\n",
       "      <td>-1.93</td>\n",
       "      <td>-0.08</td>\n",
       "      <td>2.76</td>\n",
       "      <td>0.1206</td>\n",
       "      <td>0.0965</td>\n",
       "      <td>0.2353</td>\n",
       "      <td>0.2189</td>\n",
       "    </tr>\n",
       "    <tr>\n",
       "      <th>3</th>\n",
       "      <td>1/4/18 0:00</td>\n",
       "      <td>Gypsum</td>\n",
       "      <td>98.22</td>\n",
       "      <td>98.54</td>\n",
       "      <td>97.90</td>\n",
       "      <td>102.99</td>\n",
       "      <td>-5.83</td>\n",
       "      <td>-11.79</td>\n",
       "      <td>0.24</td>\n",
       "      <td>-5.01</td>\n",
       "      <td>...</td>\n",
       "      <td>-0.98</td>\n",
       "      <td>-2.67</td>\n",
       "      <td>-1.60</td>\n",
       "      <td>-1.46</td>\n",
       "      <td>-0.21</td>\n",
       "      <td>2.45</td>\n",
       "      <td>0.1235</td>\n",
       "      <td>0.0973</td>\n",
       "      <td>0.2094</td>\n",
       "      <td>0.2182</td>\n",
       "    </tr>\n",
       "    <tr>\n",
       "      <th>4</th>\n",
       "      <td>1/5/18 0:00</td>\n",
       "      <td>Gypsum</td>\n",
       "      <td>98.10</td>\n",
       "      <td>98.42</td>\n",
       "      <td>97.75</td>\n",
       "      <td>102.88</td>\n",
       "      <td>-4.73</td>\n",
       "      <td>-14.22</td>\n",
       "      <td>5.36</td>\n",
       "      <td>-4.23</td>\n",
       "      <td>...</td>\n",
       "      <td>-0.72</td>\n",
       "      <td>-2.81</td>\n",
       "      <td>-1.54</td>\n",
       "      <td>-1.38</td>\n",
       "      <td>-0.25</td>\n",
       "      <td>2.25</td>\n",
       "      <td>0.1249</td>\n",
       "      <td>0.0976</td>\n",
       "      <td>0.2047</td>\n",
       "      <td>0.2180</td>\n",
       "    </tr>\n",
       "  </tbody>\n",
       "</table>\n",
       "<p>5 rows × 44 columns</p>\n",
       "</div>"
      ],
      "text/plain": [
       "     TIMESTAMP STATION  PRESSUREAVG  PRESSUREMAX  PRESSUREMIN  SLPAVG  \\\n",
       "0  1/1/18 0:00  Gypsum        99.44       100.03        98.73  104.44   \n",
       "1  1/2/18 0:00  Gypsum        99.79       100.14        99.40  104.88   \n",
       "2  1/3/18 0:00  Gypsum        98.87        99.52        97.94  103.81   \n",
       "3  1/4/18 0:00  Gypsum        98.22        98.54        97.90  102.99   \n",
       "4  1/5/18 0:00  Gypsum        98.10        98.42        97.75  102.88   \n",
       "\n",
       "   TEMP2MAVG  TEMP2MMIN  TEMP2MMAX  TEMP10MAVG   ...     SOILTMP10MAX  \\\n",
       "0     -15.15     -19.56     -11.00      -15.31   ...            -1.18   \n",
       "1     -16.48     -22.10     -10.40      -16.38   ...            -1.56   \n",
       "2     -11.03     -20.64      -2.71      -10.66   ...            -1.49   \n",
       "3      -5.83     -11.79       0.24       -5.01   ...            -0.98   \n",
       "4      -4.73     -14.22       5.36       -4.23   ...            -0.72   \n",
       "\n",
       "   SOILTMP10MIN  SOILTMP5AVG655  SOILTMP10AVG655  SOILTMP20AVG655  \\\n",
       "0         -2.45           -1.33            -1.14             0.74   \n",
       "1         -3.46           -2.10            -1.82             0.28   \n",
       "2         -3.61           -2.21            -1.93            -0.08   \n",
       "3         -2.67           -1.60            -1.46            -0.21   \n",
       "4         -2.81           -1.54            -1.38            -0.25   \n",
       "\n",
       "   SOILTMP50AVG655  VWC5CM  VWC10CM  VWC20CM  VWC50CM  \n",
       "0             3.50  0.1377   0.1167   0.2665   0.2203  \n",
       "1             3.13  0.1234   0.1021   0.2642   0.2196  \n",
       "2             2.76  0.1206   0.0965   0.2353   0.2189  \n",
       "3             2.45  0.1235   0.0973   0.2094   0.2182  \n",
       "4             2.25  0.1249   0.0976   0.2047   0.2180  \n",
       "\n",
       "[5 rows x 44 columns]"
      ]
     },
     "execution_count": 42,
     "metadata": {},
     "output_type": "execute_result"
    }
   ],
   "source": [
    "# Explore headers\n",
    "data.head(5)"
   ]
  },
  {
   "cell_type": "code",
   "execution_count": 55,
   "metadata": {},
   "outputs": [
    {
     "data": {
      "text/html": [
       "<div>\n",
       "<style scoped>\n",
       "    .dataframe tbody tr th:only-of-type {\n",
       "        vertical-align: middle;\n",
       "    }\n",
       "\n",
       "    .dataframe tbody tr th {\n",
       "        vertical-align: top;\n",
       "    }\n",
       "\n",
       "    .dataframe thead th {\n",
       "        text-align: right;\n",
       "    }\n",
       "</style>\n",
       "<table border=\"1\" class=\"dataframe\">\n",
       "  <thead>\n",
       "    <tr style=\"text-align: right;\">\n",
       "      <th></th>\n",
       "      <th>TIMESTAMP</th>\n",
       "      <th>STATION</th>\n",
       "      <th>PRESSUREAVG</th>\n",
       "      <th>PRESSUREMAX</th>\n",
       "      <th>PRESSUREMIN</th>\n",
       "      <th>SLPAVG</th>\n",
       "      <th>TEMP2MAVG</th>\n",
       "      <th>TEMP2MMIN</th>\n",
       "      <th>TEMP2MMAX</th>\n",
       "      <th>TEMP10MAVG</th>\n",
       "      <th>...</th>\n",
       "      <th>SOILTMP10MAX</th>\n",
       "      <th>SOILTMP10MIN</th>\n",
       "      <th>SOILTMP5AVG655</th>\n",
       "      <th>SOILTMP10AVG655</th>\n",
       "      <th>SOILTMP20AVG655</th>\n",
       "      <th>SOILTMP50AVG655</th>\n",
       "      <th>VWC5CM</th>\n",
       "      <th>VWC10CM</th>\n",
       "      <th>VWC20CM</th>\n",
       "      <th>VWC50CM</th>\n",
       "    </tr>\n",
       "  </thead>\n",
       "  <tbody>\n",
       "    <tr>\n",
       "      <th>360</th>\n",
       "      <td>12/27/18 0:00</td>\n",
       "      <td>Gypsum</td>\n",
       "      <td>96.71</td>\n",
       "      <td>97.59</td>\n",
       "      <td>95.54</td>\n",
       "      <td>101.17</td>\n",
       "      <td>9.22</td>\n",
       "      <td>5.78</td>\n",
       "      <td>12.36</td>\n",
       "      <td>9.18</td>\n",
       "      <td>...</td>\n",
       "      <td>7.24</td>\n",
       "      <td>3.58</td>\n",
       "      <td>5.15</td>\n",
       "      <td>4.97</td>\n",
       "      <td>4.60</td>\n",
       "      <td>5.18</td>\n",
       "      <td>0.3561</td>\n",
       "      <td>0.3666</td>\n",
       "      <td>0.3534</td>\n",
       "      <td>0.2972</td>\n",
       "    </tr>\n",
       "    <tr>\n",
       "      <th>361</th>\n",
       "      <td>12/28/18 0:00</td>\n",
       "      <td>Gypsum</td>\n",
       "      <td>95.77</td>\n",
       "      <td>96.97</td>\n",
       "      <td>95.02</td>\n",
       "      <td>100.21</td>\n",
       "      <td>2.60</td>\n",
       "      <td>-4.05</td>\n",
       "      <td>12.36</td>\n",
       "      <td>2.44</td>\n",
       "      <td>...</td>\n",
       "      <td>7.45</td>\n",
       "      <td>3.46</td>\n",
       "      <td>6.26</td>\n",
       "      <td>6.26</td>\n",
       "      <td>6.24</td>\n",
       "      <td>5.77</td>\n",
       "      <td>0.3786</td>\n",
       "      <td>0.3810</td>\n",
       "      <td>0.3856</td>\n",
       "      <td>0.3445</td>\n",
       "    </tr>\n",
       "    <tr>\n",
       "      <th>362</th>\n",
       "      <td>12/29/18 0:00</td>\n",
       "      <td>Gypsum</td>\n",
       "      <td>97.72</td>\n",
       "      <td>98.44</td>\n",
       "      <td>96.89</td>\n",
       "      <td>102.44</td>\n",
       "      <td>-4.92</td>\n",
       "      <td>-8.76</td>\n",
       "      <td>-2.09</td>\n",
       "      <td>-5.07</td>\n",
       "      <td>...</td>\n",
       "      <td>3.46</td>\n",
       "      <td>1.63</td>\n",
       "      <td>2.35</td>\n",
       "      <td>2.72</td>\n",
       "      <td>4.30</td>\n",
       "      <td>5.93</td>\n",
       "      <td>0.3588</td>\n",
       "      <td>0.3645</td>\n",
       "      <td>0.3699</td>\n",
       "      <td>0.3204</td>\n",
       "    </tr>\n",
       "    <tr>\n",
       "      <th>363</th>\n",
       "      <td>12/30/18 0:00</td>\n",
       "      <td>Gypsum</td>\n",
       "      <td>98.16</td>\n",
       "      <td>98.55</td>\n",
       "      <td>97.54</td>\n",
       "      <td>102.95</td>\n",
       "      <td>-6.38</td>\n",
       "      <td>-9.77</td>\n",
       "      <td>-0.55</td>\n",
       "      <td>-6.49</td>\n",
       "      <td>...</td>\n",
       "      <td>1.63</td>\n",
       "      <td>0.97</td>\n",
       "      <td>1.22</td>\n",
       "      <td>1.58</td>\n",
       "      <td>2.96</td>\n",
       "      <td>5.26</td>\n",
       "      <td>0.3477</td>\n",
       "      <td>0.3539</td>\n",
       "      <td>0.3612</td>\n",
       "      <td>0.3131</td>\n",
       "    </tr>\n",
       "    <tr>\n",
       "      <th>364</th>\n",
       "      <td>12/31/18 0:00</td>\n",
       "      <td>Gypsum</td>\n",
       "      <td>96.75</td>\n",
       "      <td>97.64</td>\n",
       "      <td>96.08</td>\n",
       "      <td>101.38</td>\n",
       "      <td>0.28</td>\n",
       "      <td>-5.52</td>\n",
       "      <td>8.13</td>\n",
       "      <td>0.21</td>\n",
       "      <td>...</td>\n",
       "      <td>0.98</td>\n",
       "      <td>0.71</td>\n",
       "      <td>0.82</td>\n",
       "      <td>1.15</td>\n",
       "      <td>2.32</td>\n",
       "      <td>4.67</td>\n",
       "      <td>0.3373</td>\n",
       "      <td>0.3455</td>\n",
       "      <td>0.3557</td>\n",
       "      <td>0.3089</td>\n",
       "    </tr>\n",
       "  </tbody>\n",
       "</table>\n",
       "<p>5 rows × 44 columns</p>\n",
       "</div>"
      ],
      "text/plain": [
       "         TIMESTAMP STATION  PRESSUREAVG  PRESSUREMAX  PRESSUREMIN  SLPAVG  \\\n",
       "360  12/27/18 0:00  Gypsum        96.71        97.59        95.54  101.17   \n",
       "361  12/28/18 0:00  Gypsum        95.77        96.97        95.02  100.21   \n",
       "362  12/29/18 0:00  Gypsum        97.72        98.44        96.89  102.44   \n",
       "363  12/30/18 0:00  Gypsum        98.16        98.55        97.54  102.95   \n",
       "364  12/31/18 0:00  Gypsum        96.75        97.64        96.08  101.38   \n",
       "\n",
       "     TEMP2MAVG  TEMP2MMIN  TEMP2MMAX  TEMP10MAVG   ...     SOILTMP10MAX  \\\n",
       "360       9.22       5.78      12.36        9.18   ...             7.24   \n",
       "361       2.60      -4.05      12.36        2.44   ...             7.45   \n",
       "362      -4.92      -8.76      -2.09       -5.07   ...             3.46   \n",
       "363      -6.38      -9.77      -0.55       -6.49   ...             1.63   \n",
       "364       0.28      -5.52       8.13        0.21   ...             0.98   \n",
       "\n",
       "     SOILTMP10MIN  SOILTMP5AVG655  SOILTMP10AVG655  SOILTMP20AVG655  \\\n",
       "360          3.58            5.15             4.97             4.60   \n",
       "361          3.46            6.26             6.26             6.24   \n",
       "362          1.63            2.35             2.72             4.30   \n",
       "363          0.97            1.22             1.58             2.96   \n",
       "364          0.71            0.82             1.15             2.32   \n",
       "\n",
       "     SOILTMP50AVG655  VWC5CM  VWC10CM  VWC20CM  VWC50CM  \n",
       "360             5.18  0.3561   0.3666   0.3534   0.2972  \n",
       "361             5.77  0.3786   0.3810   0.3856   0.3445  \n",
       "362             5.93  0.3588   0.3645   0.3699   0.3204  \n",
       "363             5.26  0.3477   0.3539   0.3612   0.3131  \n",
       "364             4.67  0.3373   0.3455   0.3557   0.3089  \n",
       "\n",
       "[5 rows x 44 columns]"
      ]
     },
     "execution_count": 55,
     "metadata": {},
     "output_type": "execute_result"
    }
   ],
   "source": [
    "# Explore last few rows\n",
    "data.tail(5)"
   ]
  },
  {
   "cell_type": "code",
   "execution_count": 90,
   "metadata": {},
   "outputs": [],
   "source": [
    "# Fill missing values\n",
    "x_obs = data['TEMP2MAVG'].fillna(method='backfill')\n",
    "y_obs = data['TEMP10MAVG'].fillna(method='backfill')"
   ]
  },
  {
   "cell_type": "code",
   "execution_count": 91,
   "metadata": {},
   "outputs": [
    {
     "data": {
      "image/png": "[encoded data removed]",
      "text/plain": [
       "<Figure size 432x288 with 1 Axes>"
      ]
     },
     "metadata": {
      "needs_background": "light"
     },
     "output_type": "display_data"
    }
   ],
   "source": [
    "# Compare air temperature at 2 and 10 meters.\n",
    "plt.scatter(x_obs, y_obs, label='obs')\n",
    "plt.xlabel('Air temperature at 2 meters (Celsius)')\n",
    "plt.ylabel('Air temperature at 10 meters (Celsius)')\n",
    "plt.show()"
   ]
  },
  {
   "cell_type": "code",
   "execution_count": 92,
   "metadata": {},
   "outputs": [
    {
     "name": "stdout",
     "output_type": "stream",
     "text": [
      "slope: 0.9951679617412289\n",
      "intercept: 0.24828997625776061\n",
      "r: 0.9987226605452462\n",
      "r-squared: 0.997446952686575\n"
     ]
    }
   ],
   "source": [
    "# Fit linear model using linregress\n",
    "slope, intercept, r_val, p_val, std_err = stats.linregress(x_obs, y_obs)\n",
    "print('slope:',slope)\n",
    "print('intercept:',intercept)\n",
    "print('r:',r_val)\n",
    "print('r-squared:',r_val**2)\n"
   ]
  },
  {
   "cell_type": "code",
   "execution_count": 93,
   "metadata": {},
   "outputs": [],
   "source": [
    "# Predict air temperature at 10 m (y_pred) based on temperature at 2 m (x_obs)\n",
    "y_pred = intercept + slope*x_obs"
   ]
  },
  {
   "cell_type": "code",
   "execution_count": 94,
   "metadata": {},
   "outputs": [
    {
     "data": {
      "image/png": "[encoded data removed]",
      "text/plain": [
       "<Figure size 432x288 with 1 Axes>"
      ]
     },
     "metadata": {
      "needs_background": "light"
     },
     "output_type": "display_data"
    }
   ],
   "source": [
    "# Figure of data and linear model\n",
    "plt.plot(x_obs, y_obs, 'o', label='obs')\n",
    "plt.plot(x_obs, y_pred, 'r', label='pred')\n",
    "plt.legend()\n",
    "plt.xlabel('Air temperature at 2 meters (Celsius)')\n",
    "plt.ylabel('Air temperature at 10 meters (Celsius)')\n",
    "plt.show()"
   ]
  },
  {
   "cell_type": "markdown",
   "metadata": {},
   "source": [
    "You can try other variables:\n",
    "- how close is the relationship between between air temperature at 2 meters and air relative humidity at 2 meters? \n",
    "\n",
    "- Can we predict soil temperature at 5 cm depth from air temperature?\n",
    "\n",
    "- Is atmospheric pressure related to air temperature?"
   ]
  },
  {
   "cell_type": "code",
   "execution_count": 108,
   "metadata": {},
   "outputs": [],
   "source": [
    "# Re-define y_obs with a new variable.\n",
    "\n",
    "y_obs = data['PRESSUREAVG'].fillna(method='backfill')"
   ]
  },
  {
   "cell_type": "code",
   "execution_count": 105,
   "metadata": {},
   "outputs": [
    {
     "data": {
      "text/plain": [
       "LinregressResult(slope=-0.03174985091216577, intercept=97.66035004164551, rvalue=-0.5201324155291819, pvalue=1.090025613211316e-26, stderr=0.0027363766395771005)"
      ]
     },
     "execution_count": 105,
     "metadata": {},
     "output_type": "execute_result"
    }
   ],
   "source": [
    "fit_info = stats.linregress(x_obs, y_obs)\n",
    "fit_info"
   ]
  },
  {
   "cell_type": "code",
   "execution_count": 106,
   "metadata": {},
   "outputs": [],
   "source": [
    "y_pred = fit_info.intercept + fit_info.slope*x_obs"
   ]
  },
  {
   "cell_type": "markdown",
   "metadata": {},
   "source": [
    "By calling `linregress` with a single output variable we can group all the parameters into a single object. This can be handy in order to keep our code a bit cleaner."
   ]
  },
  {
   "cell_type": "code",
   "execution_count": 107,
   "metadata": {},
   "outputs": [
    {
     "data": {
      "image/png": "[encoded data removed]",
      "text/plain": [
       "<Figure size 432x288 with 1 Axes>"
      ]
     },
     "metadata": {
      "needs_background": "light"
     },
     "output_type": "display_data"
    }
   ],
   "source": [
    "# Figure of data and linear model\n",
    "plt.plot(x_obs, y_obs, 'o', label='obs')\n",
    "plt.plot(x_obs, y_pred, 'r', label='pred')\n",
    "plt.legend()\n",
    "plt.xlabel('Air temperature at 2 meters (Celsius)')\n",
    "plt.ylabel('Air Relative humidity at 2 meters (%)')\n",
    "plt.show()"
   ]
  },
  {
   "cell_type": "code",
   "execution_count": 109,
   "metadata": {},
   "outputs": [
    {
     "name": "stdout",
     "output_type": "stream",
     "text": [
      "r-value: -0.52\n"
     ]
    }
   ],
   "source": [
    "print('r-value:', round(fit_info.rvalue,3))"
   ]
  },
  {
   "cell_type": "markdown",
   "metadata": {},
   "source": [
    "There is some evident relationship, but not nearly as strong as the previous one between air temperature at 2 and 10 meters. We can check the p-value to see if this apparently weaker linear correlation is statistically significant or not."
   ]
  },
  {
   "cell_type": "code",
   "execution_count": 110,
   "metadata": {},
   "outputs": [
    {
     "name": "stdout",
     "output_type": "stream",
     "text": [
      "p-value: 1.090025613211316e-26\n"
     ]
    }
   ],
   "source": [
    "print('p-value:', fit_info.pvalue)"
   ]
  },
  {
   "cell_type": "markdown",
   "metadata": {},
   "source": [
    "Indeed, the linear regression model between air temperature and air pressure is highly significant."
   ]
  }
 ],
 "metadata": {
  "kernelspec": {
   "display_name": "Python 3",
   "language": "python",
   "name": "python3"
  },
  "language_info": {
   "codemirror_mode": {
    "name": "ipython",
    "version": 3
   },
   "file_extension": ".py",
   "mimetype": "text/x-python",
   "name": "python",
   "nbconvert_exporter": "python",
   "pygments_lexer": "ipython3",
   "version": "3.7.6"
  }
 },
 "nbformat": 4,
 "nbformat_minor": 4
}
