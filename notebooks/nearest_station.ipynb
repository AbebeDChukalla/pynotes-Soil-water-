{
 "cells": [
  {
   "cell_type": "markdown",
   "metadata": {},
   "source": [
    "# Find Nearest Monitoring Station\n",
    "\n",
    "Once in a while when working with weather data we face the need to identify the nearest station to a specific place, landmark, farm, or city.\n",
    "\n",
    "Calculating the true shortest distance between two points on the Earth's surface requires detailed information about terrain topography and the Earth's ellipticity, which would require accessing additional datasets. In most cases we are only interested in approximate distances to allow us identifying the nearest station. The haversine formula is perhaps one of the most widely used approaches to approximate the great-circle distance between two points on a sphere given their longitudes and latitudes. This calculation is approximate since the  rotating Earth has the shape of an oblate spheroid rather than a sphere, but it will suffice our application.\n"
   ]
  },
  {
   "cell_type": "code",
   "execution_count": 1,
   "metadata": {},
   "outputs": [],
   "source": [
    "# Import modules\n",
    "import pandas as pd\n",
    "import numpy as np\n"
   ]
  },
  {
   "cell_type": "code",
   "execution_count": 3,
   "metadata": {},
   "outputs": [
    {
     "data": {
      "text/html": [
       "<div>\n",
       "<style scoped>\n",
       "    .dataframe tbody tr th:only-of-type {\n",
       "        vertical-align: middle;\n",
       "    }\n",
       "\n",
       "    .dataframe tbody tr th {\n",
       "        vertical-align: top;\n",
       "    }\n",
       "\n",
       "    .dataframe thead th {\n",
       "        text-align: right;\n",
       "    }\n",
       "</style>\n",
       "<table border=\"1\" class=\"dataframe\">\n",
       "  <thead>\n",
       "    <tr style=\"text-align: right;\">\n",
       "      <th></th>\n",
       "      <th>network</th>\n",
       "      <th>state</th>\n",
       "      <th>county</th>\n",
       "      <th>site_name</th>\n",
       "      <th>start</th>\n",
       "      <th>lat</th>\n",
       "      <th>lon</th>\n",
       "      <th>elev</th>\n",
       "    </tr>\n",
       "  </thead>\n",
       "  <tbody>\n",
       "    <tr>\n",
       "      <th>0</th>\n",
       "      <td>SCAN</td>\n",
       "      <td>AK</td>\n",
       "      <td>Bethel</td>\n",
       "      <td>Aniak</td>\n",
       "      <td>2002</td>\n",
       "      <td>61.58</td>\n",
       "      <td>-159.58</td>\n",
       "      <td>80</td>\n",
       "    </tr>\n",
       "    <tr>\n",
       "      <th>1</th>\n",
       "      <td>SCAN</td>\n",
       "      <td>AK</td>\n",
       "      <td>Bethel</td>\n",
       "      <td>Canyon Lake</td>\n",
       "      <td>2014</td>\n",
       "      <td>59.42</td>\n",
       "      <td>-161.16</td>\n",
       "      <td>550</td>\n",
       "    </tr>\n",
       "    <tr>\n",
       "      <th>2</th>\n",
       "      <td>SCAN</td>\n",
       "      <td>AK</td>\n",
       "      <td>Nome</td>\n",
       "      <td>Checkers Creek</td>\n",
       "      <td>2014</td>\n",
       "      <td>65.40</td>\n",
       "      <td>-164.71</td>\n",
       "      <td>326</td>\n",
       "    </tr>\n",
       "    <tr>\n",
       "      <th>3</th>\n",
       "      <td>SCAN</td>\n",
       "      <td>AK</td>\n",
       "      <td>Yukon-koyukuk</td>\n",
       "      <td>Hozatka Lake</td>\n",
       "      <td>2014</td>\n",
       "      <td>65.20</td>\n",
       "      <td>-156.63</td>\n",
       "      <td>206</td>\n",
       "    </tr>\n",
       "    <tr>\n",
       "      <th>4</th>\n",
       "      <td>SCAN</td>\n",
       "      <td>AK</td>\n",
       "      <td>Yukon-koyukuk</td>\n",
       "      <td>Innoko Camp</td>\n",
       "      <td>2014</td>\n",
       "      <td>63.64</td>\n",
       "      <td>-158.03</td>\n",
       "      <td>83</td>\n",
       "    </tr>\n",
       "  </tbody>\n",
       "</table>\n",
       "</div>"
      ],
      "text/plain": [
       "  network state         county       site_name  start    lat     lon  elev\n",
       "0    SCAN    AK         Bethel           Aniak   2002  61.58 -159.58    80\n",
       "1    SCAN    AK         Bethel     Canyon Lake   2014  59.42 -161.16   550\n",
       "2    SCAN    AK           Nome  Checkers Creek   2014  65.40 -164.71   326\n",
       "3    SCAN    AK  Yukon-koyukuk    Hozatka Lake   2014  65.20 -156.63   206\n",
       "4    SCAN    AK  Yukon-koyukuk     Innoko Camp   2014  63.64 -158.03    83"
      ]
     },
     "execution_count": 3,
     "metadata": {},
     "output_type": "execute_result"
    }
   ],
   "source": [
    "# Import stations from the Soil Climate Analysis Network\n",
    "scan = pd.read_csv('../datasets/SCAN_stations_geoinfo.csv')\n",
    "scan.head()\n"
   ]
  },
  {
   "cell_type": "code",
   "execution_count": 72,
   "metadata": {},
   "outputs": [],
   "source": [
    "def haversine(lat_point,lon_point,lat_list, lon_list):\n",
    "    \n",
    "    \"\"\"Haversine function: Computes distance between the geogrpahic\n",
    "    coordinates of two points on a sphere or a point and list of points.\n",
    "    \n",
    "    Inputs: geographic coordinates in decimal degrees.\n",
    "    Output: Approximate distance in kilometers\"\"\"\n",
    "    \n",
    "    # Convert point coordinates to radians\n",
    "    lat_point = np.radians(lat_point)\n",
    "    lon_point = np.radians(lon_point)\n",
    "\n",
    "    # Convert list coordinates to radians\n",
    "    lat_list = np.radians(lat_list)\n",
    "    lon_list = np.radians(lon_list)\n",
    "\n",
    "    # Compute deltas to simplify equation below\n",
    "    lat_delta = lat_list - lat_point\n",
    "    lon_delta = lon_list - lon_point\n",
    "\n",
    "    # Define average Earth radius in kilometers\n",
    "    earth_radius = (6356.752 + 6378.137)/2 # (Radius at the poles + Radius at the Ecuator)/2\n",
    "\n",
    "    # Haversine formula\n",
    "    a = (np.sin(lat_delta/2))**2 + np.cos(lat_point) * np.cos(lat_list) * (np.sin(lon_delta/2))**2\n",
    "    d = 2 * earth_radius * np.arcsin(np.sqrt(a))\n",
    "    return d\n"
   ]
  },
  {
   "cell_type": "code",
   "execution_count": 73,
   "metadata": {},
   "outputs": [],
   "source": [
    "# Define a location.\n",
    "# Latitude and Longitude for the geogrpahic center for the US, which is located in Kansas.\n",
    "lat_center_usa = 39.828344\n",
    "lon_center_usa = -98.579473\n"
   ]
  },
  {
   "cell_type": "code",
   "execution_count": 74,
   "metadata": {},
   "outputs": [],
   "source": [
    "# Compute distances using the haversine function defined above\n",
    "distances = haversine(lat_center_usa, lon_center_usa, scan[\"lat\"], scan[\"lon\"])\n"
   ]
  },
  {
   "cell_type": "code",
   "execution_count": 75,
   "metadata": {},
   "outputs": [
    {
     "name": "stdout",
     "output_type": "stream",
     "text": [
      "The nearest SCAN station is Phillipsburg (about 64.0 km from the point of interest)\n",
      "network              SCAN\n",
      "state                  KS\n",
      "county           Phillips\n",
      "site_name    Phillipsburg\n",
      "start                2004\n",
      "lat                 39.79\n",
      "lon                -99.33\n",
      "elev                 1986\n",
      "Name: 78, dtype: object\n"
     ]
    }
   ],
   "source": [
    "# Find shortest distance to point (find nearest station)\n",
    "idx_nearest = np.argmin(distances)\n",
    "\n",
    "# Summary\n",
    "print('The nearest SCAN station is', scan.loc[idx_nearest,\"site_name\"], '(about',\n",
    "      round(distances[idx_nearest]), 'km from the point of interest)')\n",
    "\n",
    "# Print station details\n",
    "print(scan.loc[idx_nearest])"
   ]
  },
  {
   "cell_type": "markdown",
   "metadata": {},
   "source": [
    "## References\n",
    "\n",
    "Haversine formula: https://www.wikiwand.com/en/Haversine_formula\n",
    "\n",
    "Versines: https://www.wikiwand.com/en/Versine\n"
   ]
  }
 ],
 "metadata": {
  "kernelspec": {
   "display_name": "Python 3",
   "language": "python",
   "name": "python3"
  },
  "language_info": {
   "codemirror_mode": {
    "name": "ipython",
    "version": 3
   },
   "file_extension": ".py",
   "mimetype": "text/x-python",
   "name": "python",
   "nbconvert_exporter": "python",
   "pygments_lexer": "ipython3",
   "version": "3.7.7"
  }
 },
 "nbformat": 4,
 "nbformat_minor": 4
}
