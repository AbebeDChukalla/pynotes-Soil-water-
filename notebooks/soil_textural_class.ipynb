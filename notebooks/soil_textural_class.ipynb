{
 "cells": [
  {
   "cell_type": "code",
   "execution_count": null,
   "metadata": {},
   "outputs": [],
   "source": [
    "class (1,:) = silt + 1.5*clay < 15; % Sand.\n",
    "\n",
    "class (2,:) = silt + 1.5*clay >= 15 & silt + 2*clay < 30; % Loamy sand.\n",
    "\n",
    "class (3,:) = (clay >= 7 & clay < 20 & sand > 52 & silt + 2*clay >= 30) |...\n",
    "              (clay < 7 & silt < 50 & silt + 2*clay >= 30); % Sandy loam.               \n",
    "\n",
    "class (4,:) = clay >= 7 & clay < 27 & silt >= 28 & silt < 50 & sand <= 52; % Loam.\n",
    "\n",
    "class (5,:) = (silt >= 50 & clay >= 12 & clay < 27) |...\n",
    "              (silt >= 50 & silt < 80 & clay < 12); % Silt loam.\n",
    "\n",
    "class (6,:) = silt >= 80 & clay < 12; % Silt.\n",
    "\n",
    "class (7,:) = clay >= 20 & clay < 35 & silt < 28 & sand > 45; % Sandy clay loam.\n",
    "\n",
    "class (8,:) = clay >= 27 & clay < 40 & sand > 20 & sand <= 45; % Clay loam.\n",
    "\n",
    "class (9,:) = clay >= 27 & clay < 40 & sand <= 20; % Silty clay loam.\n",
    "\n",
    "class (10,:) = clay >= 35 & sand > 45; % Sandy clay.\n",
    "\n",
    "class (11,:) = clay >= 40 & silt >= 40; % Silty clay.\n",
    "\n",
    "class (12,:) = clay >= 40 & sand <= 45 & silt < 40; % Clay."
   ]
  }
 ],
 "metadata": {
  "kernelspec": {
   "display_name": "Python 3",
   "language": "python",
   "name": "python3"
  },
  "language_info": {
   "codemirror_mode": {
    "name": "ipython",
    "version": 3
   },
   "file_extension": ".py",
   "mimetype": "text/x-python",
   "name": "python",
   "nbconvert_exporter": "python",
   "pygments_lexer": "ipython3",
   "version": "3.7.0"
  }
 },
 "nbformat": 4,
 "nbformat_minor": 2
}
