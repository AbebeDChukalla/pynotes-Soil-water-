{
 "cells": [
  {
   "cell_type": "markdown",
   "metadata": {},
   "source": [
    "# Soil texture\n",
    "\n",
    "A simple code to determine the soil textural class based on the percent of sand and clay according to the US Department of Agriculture.\n",
    "\n",
    "## References\n",
    "\n",
    "- E. Benham and R.J. Ahrens, W.D. 2009. Clarification of Soil Texture Class Boundaries. Nettleton National Soil Survey Center, USDA-NRCS, Lincoln, Nebraska."
   ]
  },
  {
   "cell_type": "code",
   "execution_count": 23,
   "metadata": {},
   "outputs": [],
   "source": [
    "# Inputs\n",
    "sand = 10\n",
    "clay = 90\n",
    "soiltexturalclass(sand,clay)"
   ]
  },
  {
   "cell_type": "code",
   "execution_count": 27,
   "metadata": {},
   "outputs": [],
   "source": [
    "def soiltexturalclass(sand,clay):\n",
    "    \"\"\"Function that returns the USDA soil textural class given the percent sand and clay.\"\"\"\n",
    "    \n",
    "    silt = 100 - sand - clay\n",
    "    \n",
    "    if sand + clay > 100 or sand < 0 or clay < 0:\n",
    "        raise Exception('Inputs adds over 100% or are negative')\n",
    "\n",
    "    elif silt + 1.5*clay < 15:\n",
    "        textural_class = 'sand'\n",
    "\n",
    "    elif silt + 1.5*clay >= 15 and silt + 2*clay < 30:\n",
    "        textural_class = 'loamy sand'\n",
    "\n",
    "    elif (clay >= 7 and clay < 20 and sand > 52 and silt + 2*clay >= 30) or (clay < 7 and silt < 50 and silt + 2*clay >= 30):\n",
    "        textural_class = 'sandy loam'\n",
    "\n",
    "    elif clay >= 7 and clay < 27 and silt >= 28 and silt < 50 and sand <= 52:\n",
    "        textural_class = 'loam'\n",
    "\n",
    "    elif (silt >= 50 and clay >= 12 and clay < 27) or (silt >= 50 and silt < 80 and clay < 12):\n",
    "        textural_class = 'silt loam'\n",
    "\n",
    "    elif silt >= 80 and clay < 12:\n",
    "        textural_class = 'silt'\n",
    "\n",
    "    elif clay >= 20 and clay < 35 and silt < 28 and sand > 45:\n",
    "        textural_class = 'sandy clay loam'\n",
    "\n",
    "    elif clay >= 27 and clay < 40 and sand > 20 and sand <= 45:\n",
    "        textural_class = 'clay loam'\n",
    "\n",
    "    elif clay >= 27 and clay < 40 and sand <= 20:\n",
    "        textural_class = 'silty clay loam'\n",
    "\n",
    "    elif clay >= 35 and sand > 45:\n",
    "        textural_class = 'sandy clay'\n",
    "\n",
    "    elif clay >= 40 and silt >= 40:\n",
    "        textural_class = 'silty clay'\n",
    "\n",
    "    elif clay >= 40 and sand <= 45 and silt < 40:\n",
    "        textural_class = 'clay'\n",
    "\n",
    "    else:\n",
    "        textural_class = 'na'\n",
    "\n",
    "    return textural_class\n"
   ]
  },
  {
   "cell_type": "code",
   "execution_count": 25,
   "metadata": {},
   "outputs": [
    {
     "name": "stdout",
     "output_type": "stream",
     "text": [
      "sand\n"
     ]
    }
   ],
   "source": [
    "print(textural_class)"
   ]
  },
  {
   "cell_type": "code",
   "execution_count": null,
   "metadata": {},
   "outputs": [],
   "source": [
    "# Sand\n",
    "class (1,:) = silt + 1.5*clay < 15\n",
    "\n",
    "# Loamy sand.\n",
    "class (2,:) = silt + 1.5*clay >= 15 & silt + 2*clay < 30\n",
    "\n",
    "# Sandy loam. \n",
    "class (3,:) = (clay >= 7 & clay < 20 & sand > 52 & silt + 2*clay >= 30) |\n",
    "              (clay < 7 & silt < 50 & silt + 2*clay >= 30)           \n",
    "\n",
    "# Loam\n",
    "class (4,:) = clay >= 7 & clay < 27 & silt >= 28 & silt < 50 & sand <= 52\n",
    "\n",
    "# Silt loam.\n",
    "class (5,:) = (silt >= 50 & clay >= 12 & clay < 27) |\n",
    "              (silt >= 50 & silt < 80 & clay < 12)\n",
    "\n",
    "# Silt\n",
    "class (6,:) = silt >= 80 & clay < 12\n",
    "\n",
    "# Sandy clay loam\n",
    "class (7,:) = clay >= 20 & clay < 35 & silt < 28 & sand > 45\n",
    "\n",
    "# Clay loam\n",
    "class (8,:) = clay >= 27 & clay < 40 & sand > 20 & sand <= 45\n",
    "\n",
    "# Silty clay loam\n",
    "class (9,:) = clay >= 27 & clay < 40 & sand <= 20\n",
    "\n",
    "# Sandy clay\n",
    "class (10,:) = clay >= 35 & sand > 45\n",
    "\n",
    "# Silty clay\n",
    "class (11,:) = clay >= 40 & silt >= 40\n",
    "\n",
    "# Clay\n",
    "class (12,:) = clay >= 40 & sand <= 45 & silt < 40"
   ]
  }
 ],
 "metadata": {
  "kernelspec": {
   "display_name": "Python 3",
   "language": "python",
   "name": "python3"
  },
  "language_info": {
   "codemirror_mode": {
    "name": "ipython",
    "version": 3
   },
   "file_extension": ".py",
   "mimetype": "text/x-python",
   "name": "python",
   "nbconvert_exporter": "python",
   "pygments_lexer": "ipython3",
   "version": "3.7.0"
  }
 },
 "nbformat": 4,
 "nbformat_minor": 2
}
