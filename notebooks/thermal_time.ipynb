{
 "cells": [
  {
   "cell_type": "markdown",
   "metadata": {},
   "source": [
    "# Thermal Time\n",
    "\n",
    "Thermal time is a proxy for biological time. Thermal time ihas been used to describe multiple biological processes such as:\n",
    "\n",
    "* Seed germination of pasture seeds: Moot, D.J., Scott, W.R., Roy, A.M. and Nicholls, A.C., 2000. Base temperature and thermal time requirements for germination and emergence of temperate pasture species. New Zealand Journal of Agricultural Research, 43(1), pp.15-25.\n",
    "\n",
    "* Crop development: Ritchie, J.T. and NeSmith, D.S., 1991. Temperature and crop development. Modeling plant and soil systems, (modelingplantan), pp.5-29.\n",
    "\n",
    "* THermal biology of insects: Dewar, R.C. and Watt, A.D., 1992. Predicted changes in the synchrony of larval emergence and budburst under climatic warming. Oecologia, 89(4), pp.557-559."
   ]
  },
  {
   "cell_type": "code",
   "execution_count": 1,
   "metadata": {},
   "outputs": [],
   "source": [
    "def thermaltime (TMAX,TMIN,Tlimits,method):\n",
    "    \"\"\"Calculates cumulative growing degree days.\n",
    "\n",
    "    Keyword arguments:\n",
    "    TMAX -- vector of air or soil maximum temperature in degrees Celsius.\n",
    "    TMIN -- vector of air or soil minimum temperature in degrees Celsius.\n",
    "    Tlimits = It can be a scalar or a two-element vector. If scalar the\n",
    "            value represents the base temperature at which a given \n",
    "            crop has low or negligible growth (biomass accumulation) \n",
    "            and development (meristematic differentiation). \n",
    "            If Tlimits is a vector, the first element represents Tbase, and the \n",
    "            second element is the upper temperature limit for crop \n",
    "            growth and development. These values are crop-specific.\n",
    "    method = There two methods according to McMaster and Wilhelm, 1997.\n",
    "           1. The comparison to Tbase and Tupper is after computing \n",
    "              average temperature.\n",
    "\n",
    "           2. The comparison to Tbase and Tupper is prior computing \n",
    "               average temperature.\n",
    "\n",
    "    NOTE: The function accepts NaNs and no substitutions or estimations\n",
    "          are carried out for those days.\n",
    "\n",
    "    Outputs:\n",
    "           TT = daily thermal time. Units are C-d (or Cd).\n",
    "           TTcum = cumulative thermal time.\n",
    "\n",
    "    Andres Patrignani - 19 Mar 2017.\n",
    "\n",
    "    Code based on manuscript by McMaster, G.S. and W.W. Wilhelm. 1997. Agric.\n",
    "    and Forest meteorology. 87:291-300.\n",
    "    \"\"\"\n",
    "\n",
    "    Tbase = Tlimits[0]\n",
    "    Tupper = Tlimits[1]\n",
    "\n",
    "    # Compare to Tbase after computing TAVG.\n",
    "    if method == 1:\n",
    "        TAVG = np.nanmean([TMAX,TMIN],axis=0)\n",
    "        TAVG = np.nanmax(TAVG,Tbase)\n",
    "        if len(Tlimits) == 2: # If upper temperature threshold was entered.\n",
    "            TAVG = np.min(TAVG,Tupper)\n",
    "\n",
    "    # Compare to Tbase before computing TAVG.    \n",
    "    elif method == 2: \n",
    "        TMAX = np.max(TMAX,Tbase)\n",
    "        TMIN = np.max(TMIN,Tbase)\n",
    "        if len(Tlimits) == 2: # If upper temperature threshold was entered.\n",
    "            TMAX = np.min(TMAX,Tupper)\n",
    "            TMIN = np.min(TMIN,Tupper)\n",
    "\n",
    "        TAVG = np.nanmean([TMAX,TMIN],0)    \n",
    "\n",
    "\n",
    "    TT = TAVG - Tbase # General thermal time equation.\n",
    "    TT = np.nan_to_num(TT)\n",
    "    TTcum = np.cumsum(TT) # Cumulative thermal time.\n",
    "\n",
    "    return TT,TTcum"
   ]
  }
 ],
 "metadata": {
  "kernelspec": {
   "display_name": "Python 3",
   "language": "python",
   "name": "python3"
  },
  "language_info": {
   "codemirror_mode": {
    "name": "ipython",
    "version": 3
   },
   "file_extension": ".py",
   "mimetype": "text/x-python",
   "name": "python",
   "nbconvert_exporter": "python",
   "pygments_lexer": "ipython3",
   "version": "3.7.0"
  }
 },
 "nbformat": 4,
 "nbformat_minor": 2
}
