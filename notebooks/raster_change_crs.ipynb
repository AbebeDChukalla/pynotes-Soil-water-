{
 "cells": [
  {
   "cell_type": "markdown",
   "metadata": {},
   "source": [
    "# Changing Coordinate Reference System\n",
    "\n",
    "Converting from EPSG:9001 to EPSG:4326, which represents spatial coordinates in terms of latitude and longitude based on the World Geodetic System 1984 (WGS84)."
   ]
  },
  {
   "cell_type": "code",
   "execution_count": 12,
   "metadata": {},
   "outputs": [],
   "source": [
    "# Import modules\n",
    "import rasterio\n",
    "from rasterio.warp import calculate_default_transform, reproject, Resampling\n"
   ]
  },
  {
   "cell_type": "code",
   "execution_count": 13,
   "metadata": {},
   "outputs": [],
   "source": [
    "# Load raster map\n",
    "raster_path = 'nws_precip_1day_20200426_geotiff/nws_precip_1day_20200426_conus.tif'\n",
    "raster = rasterio.open(raster_path)\n"
   ]
  },
  {
   "cell_type": "code",
   "execution_count": 14,
   "metadata": {},
   "outputs": [
    {
     "data": {
      "text/plain": [
       "{'driver': 'GTiff',\n",
       " 'dtype': 'float32',\n",
       " 'nodata': -3.4028234663852886e+38,\n",
       " 'width': 1121,\n",
       " 'height': 881,\n",
       " 'count': 4,\n",
       " 'crs': CRS.from_wkt('PROJCS[\"NOAA_HRAP_Grid\",GEOGCS[\"GCS_NOAA_HRAP\",DATUM[\"D_NOAA_HRAP\",SPHEROID[\"Sphere\",6371200,0]],PRIMEM[\"Greenwich\",0],UNIT[\"degree\",0.0174532925199433]],PROJECTION[\"Polar_Stereographic\"],PARAMETER[\"latitude_of_origin\",60],PARAMETER[\"central_meridian\",-105],PARAMETER[\"scale_factor\",1],PARAMETER[\"false_easting\",0],PARAMETER[\"false_northing\",0],UNIT[\"metre\",1,AUTHORITY[\"EPSG\",\"9001\"]]]'),\n",
       " 'transform': Affine(4763.0, 0.0, -1904912.11073866,\n",
       "        0.0, -4763.0, -3423783.69569394)}"
      ]
     },
     "execution_count": 14,
     "metadata": {},
     "output_type": "execute_result"
    }
   ],
   "source": [
    "# Check main attributes (e.g. shape, CRS, bounds, etc.)\n",
    "raster.meta\n"
   ]
  },
  {
   "cell_type": "code",
   "execution_count": 8,
   "metadata": {},
   "outputs": [],
   "source": [
    "# Set properties to be used in the new reprojected raster map\n",
    "dst_crs = 'EPSG:4326' # As an alternative the EPSG:3857 represents the web meractor \n",
    "transform, width, height = calculate_default_transform(raster.crs,dst_crs,raster.width,raster.height,*raster.bounds)\n",
    "kwargs = raster.meta.copy()\n",
    "kwargs.update({'crs':dst_crs, 'transform':transform, 'width':width, 'height':height})\n"
   ]
  },
  {
   "cell_type": "code",
   "execution_count": 10,
   "metadata": {},
   "outputs": [],
   "source": [
    "# Iterate over each band and reproject\n",
    "# This step will save a new reprojected .tiff file\n",
    "with rasterio.open(\"nws_geocoords.tiff\", 'w', **kwargs) as dst:\n",
    "    for i in range(1, raster.count + 1):\n",
    "        reproject(\n",
    "            source = rasterio.band(raster, i),\n",
    "            destination = rasterio.band(dst, i),\n",
    "            src_transform = raster.transform,\n",
    "            src_crs = raster.crs,\n",
    "            dst_transform = transform,\n",
    "            dst_crs = dst_crs,\n",
    "            resampling = Resampling.nearest)\n",
    "        "
   ]
  },
  {
   "cell_type": "code",
   "execution_count": 15,
   "metadata": {},
   "outputs": [
    {
     "name": "stdout",
     "output_type": "stream",
     "text": [
      "{'driver': 'GTiff', 'dtype': 'float32', 'nodata': -3.4028234663852886e+38, 'width': 1675, 'height': 860, 'count': 4, 'crs': CRS.from_epsg(4326), 'transform': Affine(0.044273720114906476, 0.0, -134.09052600184998,\n",
      "       0.0, -0.044273720114906476, 57.86725177915063)}\n"
     ]
    }
   ],
   "source": [
    "# Load newly created and reprojected .tiff file and display the new metadata\n",
    "# to check that we did the right CRS conversion\n",
    "raster_reprojected = rasterio.open(\"nws_geocoords.tiff\")\n",
    "print(raster_reprojected.meta)\n"
   ]
  }
 ],
 "metadata": {
  "kernelspec": {
   "display_name": "Python 3",
   "language": "python",
   "name": "python3"
  },
  "language_info": {
   "codemirror_mode": {
    "name": "ipython",
    "version": 3
   },
   "file_extension": ".py",
   "mimetype": "text/x-python",
   "name": "python",
   "nbconvert_exporter": "python",
   "pygments_lexer": "ipython3",
   "version": "3.7.7"
  }
 },
 "nbformat": 4,
 "nbformat_minor": 4
}
