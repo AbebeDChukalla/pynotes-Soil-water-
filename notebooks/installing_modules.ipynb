{
 "cells": [
  {
   "cell_type": "code",
   "execution_count": null,
   "metadata": {},
   "outputs": [],
   "source": [
    "# In windows search for anaconda-prompt and then write:\n",
    "conda install -c anaconda basemap\n",
    "\n",
    "# In Mac simply open the terminal and write:\n",
    "conda install -c anaconda basemap\n",
    "\n",
    "# It will update everything. Say yes to proceed\n"
   ]
  }
 ],
 "metadata": {
  "kernelspec": {
   "display_name": "Python 3",
   "language": "python",
   "name": "python3"
  },
  "language_info": {
   "codemirror_mode": {
    "name": "ipython",
    "version": 3
   },
   "file_extension": ".py",
   "mimetype": "text/x-python",
   "name": "python",
   "nbconvert_exporter": "python",
   "pygments_lexer": "ipython3",
   "version": "3.7.0"
  }
 },
 "nbformat": 4,
 "nbformat_minor": 2
}
