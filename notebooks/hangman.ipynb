{
 "cells": [
  {
   "cell_type": "markdown",
   "metadata": {},
   "source": [
    "# Challenge: Create a hangman game\n",
    "\n",
    "Create the popular hangman game using Python. For this challenge we will leave out some of the details of the game and we will contrate on the main logical flow. So, here are some of the rules that will set the basis for the game:\n",
    "\n",
    "- Two players (player 1 and player 2)\n",
    "- Player 1 defines a word\n",
    "- Player 2 guesses letters one at the time\n",
    "- Single word (no sentences)\n",
    "- Display location of letters in secret word using underscores\n"
   ]
  },
  {
   "cell_type": "code",
   "execution_count": 1,
   "metadata": {},
   "outputs": [
    {
     "name": "stdout",
     "output_type": "stream",
     "text": [
      "Computer wins! The word was: HELLO\n"
     ]
    }
   ],
   "source": [
    "# Load module to clear Jupyter Lab cell\n",
    "from IPython.display import clear_output\n",
    "\n",
    "# Welcome message\n",
    "print('Welcome    O')\n",
    "print('  to      -|-')\n",
    "print('Hangman   / \\ ')\n",
    "print('')\n",
    "\n",
    "# Request players info\n",
    "player_one_name = input('Name of player 1:')\n",
    "player_two_name = input('Name of player 2:')\n",
    "\n",
    "# Get secret word from player 1\n",
    "word = input(player_one_name + ' turn, write a secret word: ').upper()\n",
    "\n",
    "# Create list with same number of underscores as the secret word\n",
    "answer = ['_'] * len(word)\n",
    "\n",
    "# Define maximum number of attempts by player 2\n",
    "max_attempts = 5\n",
    "\n",
    "# Initilize the counter for failed attempts\n",
    "fail_counter = 0\n",
    "\n",
    "while fail_counter < max_attempts:\n",
    "    \n",
    "    clear_output(wait=True)\n",
    "    \n",
    "    # Print number of attempts left\n",
    "    print(player_two_name + ' has',max_attempts - fail_counter,'attempts left')\n",
    "    \n",
    "    # Gather letter from player 2\n",
    "    guess = input(' '.join(answer) + '   ' + player_two_name + ', guess a letter: ').upper()\n",
    "    \n",
    "    # Initialize (in each iteration of the while loop) \n",
    "    # a dummy variable that keeps track of the correct/incorrect guessed made by player 2\n",
    "    guessed_correct = False\n",
    "    \n",
    "    # Iterate over each letter in the word and check for matching with user guessed letter\n",
    "    for i in range(len(word)):\n",
    "        if word[i] == guess:\n",
    "            guess_correct = True # Change dummy variable to True\n",
    "            answer[i] = guess    # Replace underscore in position i with the guessed letter\n",
    "    \n",
    "    # Check if the dummy variable still remains false\n",
    "    if guessed_correct == False:  \n",
    "        fail_counter += 1  # If yes, then we add a failed attempt\n",
    "    \n",
    "    # If failed attempts is equal to the maximum number, then the game is over for player 2\n",
    "    # and player 1 wins.\n",
    "    if fail_counter == max_attempts:\n",
    "        clear_output(wait=True)\n",
    "        print(player_one_name + ' wins! The word was:',word)\n",
    "        break # We break the while loop because the game is over if we reach this point\n",
    "    \n",
    "    # If the answer is equal to the secret word, then player 2 wins\n",
    "    # Here we join the list before comparing it with the secret word\n",
    "    if ''.join(answer) == word:\n",
    "        clear_output(wait=True)\n",
    "        print(player_two_name + ' wins! The word was:',word)\n",
    "        break # We break the while loop because the game is over if we reach this point\n"
   ]
  }
 ],
 "metadata": {
  "kernelspec": {
   "display_name": "Python 3",
   "language": "python",
   "name": "python3"
  },
  "language_info": {
   "codemirror_mode": {
    "name": "ipython",
    "version": 3
   },
   "file_extension": ".py",
   "mimetype": "text/x-python",
   "name": "python",
   "nbconvert_exporter": "python",
   "pygments_lexer": "ipython3",
   "version": "3.7.0"
  }
 },
 "nbformat": 4,
 "nbformat_minor": 2
}
