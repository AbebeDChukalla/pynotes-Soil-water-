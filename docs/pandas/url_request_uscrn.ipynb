{
 "cells": [
  {
   "cell_type": "code",
   "execution_count": null,
   "metadata": {},
   "outputs": [],
   "source": [
    "# US Climate reference Network\n",
    "\n",
    "# Daily data: https://www1.ncdc.noaa.gov/pub/data/uscrn/products/daily01/\n",
    "# Daily data documentation: https://www1.ncdc.noaa.gov/pub/data/uscrn/products/daily01/README.txt\n",
    "\n",
    "# Reference:\n",
    "# Diamond, H. J., T. R. Karl, M. A. Palecki, C. B. Baker, J. E. Bell, R. D. Leeper, \n",
    "# D. R. Easterling, J. H. Lawrimore, T. P. Meyers, M. R. Helfert, G. Goodge, \n",
    "# and P. W. Thorne, 2013: U.S. Climate Reference Network after one decade of operations: \n",
    "# status and assessment. Bull. Amer. Meteor. Soc., 94, 489-498. \n",
    "# doi: 10.1175/BAMS-D-12-00170.1\n",
    "\n",
    "\n",
    "import pandas as pd\n",
    "\n",
    "url = 'https://www1.ncdc.noaa.gov/pub/data/uscrn/products/daily01/2015/CRND0103-2015-KS_Manhattan_6_SSW.txt'\n",
    "header_names = ['WBANNO','LST_DATE','CRX_VN','LONGITUDE','LATITUDE','T_DAILY_MAX','T_DAILY_MIN','T_DAILY_MEAN','T_DAILY_AVG','P_DAILY_CALC','SOLARAD_DAILY','SUR_TEMP_DAILY_TYPE','SUR_TEMP_DAILY_MAX','SUR_TEMP_DAILY_MIN','SUR_TEMP_DAILY_AVG','RH_DAILY_MAX','RH_DAILY_MIN','RH_DAILY_AVG','SOIL_MOISTURE_5_DAILY','SOIL_MOISTURE_10_DAILY','SOIL_MOISTURE_20_DAILY','SOIL_MOISTURE_50_DAILY','SOIL_MOISTURE_100_DAILY','SOIL_TEMP_5_DAILY','SOIL_TEMP_10_DAILY','SOIL_TEMP_20_DAILY','SOIL_TEMP_50_DAILY','SOIL_TEMP_100_DAILY'];        \n",
    "data = pd.read_csv(url, names=vars, delim_whitespace=True)\n",
    "data.head(5)\n",
    "\n",
    "# names=vars assign names in a list to each column of the dataframe\n",
    "# delim_whitespace=True handles variable white space between columns\n",
    "# header=None hadnles a file with no headers\n",
    "\n",
    "data['LST_DATE'] = pd.to_datetime(data['LST_DATE'],format='%Y%m%d')\n",
    "data.head(5)\n",
    "\n",
    "example_date = data['LST_DATE'][0]\n",
    "print(example_date.week)\n"
   ]
  }
 ],
 "metadata": {
  "kernelspec": {
   "display_name": "Python 3",
   "language": "python",
   "name": "python3"
  },
  "language_info": {
   "codemirror_mode": {
    "name": "ipython",
    "version": 3
   },
   "file_extension": ".py",
   "mimetype": "text/x-python",
   "name": "python",
   "nbconvert_exporter": "python",
   "pygments_lexer": "ipython3",
   "version": "3.7.0"
  }
 },
 "nbformat": 4,
 "nbformat_minor": 2
}
