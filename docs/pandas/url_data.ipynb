{
 "cells": [
  {
   "cell_type": "markdown",
   "metadata": {},
   "source": [
    "# Read environmental data from an online source (Script)\n",
    "\n",
    "In this example we will learn to download data from the Kansas mesonet. Data can be accessed through a URL (Uniform Resource Locator), which is also known as a web address. In this URL we are going to pass some parameters to specify the location, date, and interval of the data. For services that output their data in comma-separated values we can use the Pandas library.\n",
    "\n",
    "\n",
    "**Note**:Some web services (e.g. openweathermap or dark sky) require a token (a user-specific key similar to a password) in order to use the service. Depending on the amount of data requested you might be able to use the service for free.\n",
    "\n",
    "\n",
    "Representational State Transfer (REST). Find out more at <https://www.wikiwand.com/en/Representational_state_transfer>\n",
    "\n",
    "Kansas mesonet REST API: http://mesonet.k-state.edu/rest/\n",
    "\n",
    "Author: Andres Patrignani <br/>\n",
    "Last updated: 14-Oct-2018\n",
    "\n"
   ]
  },
  {
   "cell_type": "code",
   "execution_count": 8,
   "metadata": {},
   "outputs": [],
   "source": [
    "# Import packages\n",
    "import pandas as pd"
   ]
  },
  {
   "cell_type": "code",
   "execution_count": 5,
   "metadata": {},
   "outputs": [],
   "source": [
    "stn = 'Manhattan';\n",
    "interval = 'day'; # Options: day, hour, 5min;\n",
    "start_time = '20181001000000';\n",
    "end_time = '20181007000000';\n",
    "\n",
    "root = 'http://mesonet.k-state.edu/rest/stationdata/?'\n",
    "url = root + 'stn=' + stn + '&int=' + interval + '&t_start=' + start_time + '&t_end=' + end_time;\n",
    "datatable = pd.read_csv(url)"
   ]
  },
  {
   "cell_type": "code",
   "execution_count": 12,
   "metadata": {},
   "outputs": [
    {
     "data": {
      "text/html": [
       "<div>\n",
       "<style scoped>\n",
       "    .dataframe tbody tr th:only-of-type {\n",
       "        vertical-align: middle;\n",
       "    }\n",
       "\n",
       "    .dataframe tbody tr th {\n",
       "        vertical-align: top;\n",
       "    }\n",
       "\n",
       "    .dataframe thead th {\n",
       "        text-align: right;\n",
       "    }\n",
       "</style>\n",
       "<table border=\"1\" class=\"dataframe\">\n",
       "  <thead>\n",
       "    <tr style=\"text-align: right;\">\n",
       "      <th></th>\n",
       "      <th>TIMESTAMP</th>\n",
       "      <th>STATION</th>\n",
       "      <th>PRESSUREAVG</th>\n",
       "      <th>PRESSUREMAX</th>\n",
       "      <th>PRESSUREMIN</th>\n",
       "      <th>SLPAVG</th>\n",
       "      <th>TEMP2MAVG</th>\n",
       "      <th>TEMP2MMIN</th>\n",
       "      <th>TEMP2MMAX</th>\n",
       "      <th>TEMP10MAVG</th>\n",
       "      <th>...</th>\n",
       "      <th>SOILPA20CM</th>\n",
       "      <th>SOILPA50CM</th>\n",
       "      <th>SOILVR5CM</th>\n",
       "      <th>SOILVR10CM</th>\n",
       "      <th>SOILVR20CM</th>\n",
       "      <th>SOILVR50CM</th>\n",
       "      <th>VWC5CM</th>\n",
       "      <th>VWC10CM</th>\n",
       "      <th>VWC20CM</th>\n",
       "      <th>VWC50CM</th>\n",
       "    </tr>\n",
       "  </thead>\n",
       "  <tbody>\n",
       "    <tr>\n",
       "      <th>0</th>\n",
       "      <td>2018-10-01 00:00:00</td>\n",
       "      <td>Manhattan</td>\n",
       "      <td>97.89</td>\n",
       "      <td>98.05</td>\n",
       "      <td>97.77</td>\n",
       "      <td>101.79</td>\n",
       "      <td>15.28</td>\n",
       "      <td>14.19</td>\n",
       "      <td>16.83</td>\n",
       "      <td>15.00</td>\n",
       "      <td>...</td>\n",
       "      <td>1.8010</td>\n",
       "      <td>2.1369</td>\n",
       "      <td>1.2035</td>\n",
       "      <td>1.2586</td>\n",
       "      <td>1.4377</td>\n",
       "      <td>2.1228</td>\n",
       "      <td>0.2367</td>\n",
       "      <td>0.2878</td>\n",
       "      <td>M</td>\n",
       "      <td>0.5141</td>\n",
       "    </tr>\n",
       "    <tr>\n",
       "      <th>1</th>\n",
       "      <td>2018-10-02 00:00:00</td>\n",
       "      <td>Manhattan</td>\n",
       "      <td>97.89</td>\n",
       "      <td>98.07</td>\n",
       "      <td>97.74</td>\n",
       "      <td>101.76</td>\n",
       "      <td>17.59</td>\n",
       "      <td>13.66</td>\n",
       "      <td>23.81</td>\n",
       "      <td>17.32</td>\n",
       "      <td>...</td>\n",
       "      <td>1.7970</td>\n",
       "      <td>2.1350</td>\n",
       "      <td>1.2093</td>\n",
       "      <td>1.2613</td>\n",
       "      <td>1.4347</td>\n",
       "      <td>2.1165</td>\n",
       "      <td>0.2391</td>\n",
       "      <td>0.2880</td>\n",
       "      <td>0.3727</td>\n",
       "      <td>0.5134</td>\n",
       "    </tr>\n",
       "    <tr>\n",
       "      <th>2</th>\n",
       "      <td>2018-10-03 00:00:00</td>\n",
       "      <td>Manhattan</td>\n",
       "      <td>97.63</td>\n",
       "      <td>98.05</td>\n",
       "      <td>97.18</td>\n",
       "      <td>101.48</td>\n",
       "      <td>21.65</td>\n",
       "      <td>12.30</td>\n",
       "      <td>31.47</td>\n",
       "      <td>21.48</td>\n",
       "      <td>...</td>\n",
       "      <td>1.7947</td>\n",
       "      <td>2.1339</td>\n",
       "      <td>1.2148</td>\n",
       "      <td>1.2632</td>\n",
       "      <td>1.4373</td>\n",
       "      <td>2.1144</td>\n",
       "      <td>0.2398</td>\n",
       "      <td>0.2867</td>\n",
       "      <td>0.3714</td>\n",
       "      <td>0.5129</td>\n",
       "    </tr>\n",
       "  </tbody>\n",
       "</table>\n",
       "<p>3 rows × 60 columns</p>\n",
       "</div>"
      ],
      "text/plain": [
       "             TIMESTAMP    STATION  PRESSUREAVG  PRESSUREMAX  PRESSUREMIN  \\\n",
       "0  2018-10-01 00:00:00  Manhattan        97.89        98.05        97.77   \n",
       "1  2018-10-02 00:00:00  Manhattan        97.89        98.07        97.74   \n",
       "2  2018-10-03 00:00:00  Manhattan        97.63        98.05        97.18   \n",
       "\n",
       "   SLPAVG  TEMP2MAVG  TEMP2MMIN  TEMP2MMAX  TEMP10MAVG   ...     SOILPA20CM  \\\n",
       "0  101.79      15.28      14.19      16.83       15.00   ...         1.8010   \n",
       "1  101.76      17.59      13.66      23.81       17.32   ...         1.7970   \n",
       "2  101.48      21.65      12.30      31.47       21.48   ...         1.7947   \n",
       "\n",
       "   SOILPA50CM  SOILVR5CM  SOILVR10CM  SOILVR20CM  SOILVR50CM  VWC5CM  VWC10CM  \\\n",
       "0      2.1369     1.2035      1.2586      1.4377      2.1228  0.2367   0.2878   \n",
       "1      2.1350     1.2093      1.2613      1.4347      2.1165  0.2391   0.2880   \n",
       "2      2.1339     1.2148      1.2632      1.4373      2.1144  0.2398   0.2867   \n",
       "\n",
       "   VWC20CM  VWC50CM  \n",
       "0        M   0.5141  \n",
       "1   0.3727   0.5134  \n",
       "2   0.3714   0.5129  \n",
       "\n",
       "[3 rows x 60 columns]"
      ]
     },
     "execution_count": 12,
     "metadata": {},
     "output_type": "execute_result"
    }
   ],
   "source": [
    "# Let's inspect the first five rows\n",
    "datatable.head(3)\n"
   ]
  },
  {
   "cell_type": "code",
   "execution_count": 14,
   "metadata": {},
   "outputs": [
    {
     "name": "stdout",
     "output_type": "stream",
     "text": [
      "(7, 60)\n",
      "420\n"
     ]
    }
   ],
   "source": [
    "print(datatable.shape)\n",
    "print(datatable.size)\n"
   ]
  },
  {
   "cell_type": "code",
   "execution_count": 6,
   "metadata": {},
   "outputs": [
    {
     "data": {
      "text/plain": [
       "0.25"
      ]
     },
     "execution_count": 6,
     "metadata": {},
     "output_type": "execute_result"
    }
   ],
   "source": [
    "# Access first precipitation value\n",
    "datatable.PRECIP[0]\n"
   ]
  },
  {
   "cell_type": "code",
   "execution_count": 7,
   "metadata": {},
   "outputs": [
    {
     "data": {
      "text/plain": [
       "0     0.25\n",
       "1     0.00\n",
       "2     0.00\n",
       "3    16.00\n",
       "4     0.25\n",
       "Name: PRECIP, dtype: float64"
      ]
     },
     "execution_count": 7,
     "metadata": {},
     "output_type": "execute_result"
    }
   ],
   "source": [
    "# Retrieve the first 5 rainfall values\n",
    "datatable.PRECIP[0:5]\n"
   ]
  },
  {
   "cell_type": "code",
   "execution_count": 15,
   "metadata": {},
   "outputs": [
    {
     "name": "stdout",
     "output_type": "stream",
     "text": [
      "<class 'str'>\n",
      "<class 'numpy.float64'>\n"
     ]
    }
   ],
   "source": [
    "# Let's also inspect the format of some variables\n",
    "print(type(datatable.TIMESTAMP[0]))\n",
    "print(type(datatable.PRESSUREAVG[0]))"
   ]
  }
 ],
 "metadata": {
  "kernelspec": {
   "display_name": "Python 3",
   "language": "python",
   "name": "python3"
  },
  "language_info": {
   "codemirror_mode": {
    "name": "ipython",
    "version": 3
   },
   "file_extension": ".py",
   "mimetype": "text/x-python",
   "name": "python",
   "nbconvert_exporter": "python",
   "pygments_lexer": "ipython3",
   "version": "3.7.0"
  }
 },
 "nbformat": 4,
 "nbformat_minor": 2
}
